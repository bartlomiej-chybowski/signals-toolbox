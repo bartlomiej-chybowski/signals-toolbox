{
 "cells": [
  {
   "cell_type": "markdown",
   "metadata": {
    "pycharm": {
     "name": "#%% md\n"
    }
   },
   "source": [
    "# Digital/Discrete-time Signal Analysis Toolbox\n",
    "This service contains a set of Jupyter Notebooks to support the course.  The material is arranged in the order in which the modules occur.  Please use the code to experiment, or save them as Python code to use in your own projects now or in the future.  Please make sure that you refer to this course if you do use them for your own projects.\n",
    "## Module 1 - Frequency Analysis of Signals\n",
    "* [Continuous time signal transform](python/Frequency_Analysis_of_Signals/Continuous_signal_transform.ipynb)\n",
    "* [Continuous time, periodic signal transform](python/Frequency_Analysis_of_Signals/Periodic_continuous_signal_transform.ipynb)\n",
    "* [Discrete-time Fourier Series of a Pulse Train](python/Frequency_Analysis_of_Signals/Pulse_train.ipynb)\n",
    "* [Power Density Spectra](python/Frequency_Analysis_of_Signals/Power_Density_Spectra.ipynb)\n",
    "* [DTFT Example](python/Frequency_Analysis_of_Signals/DTFT_Example.ipynb)\n",
    "* [Discrete-time Fourier Transform symetry properties](python/Frequency_Analysis_of_Signals/DTFT_symmetry_properties.ipynb)\n",
    "* [Modulation Example](python/Frequency_Analysis_of_Signals/Modulation_Example.ipynb)\n",
    "\n",
    "## Module 2 - The Discrete Fourier Transform\n",
    "* [Sampling in Frequency](python/The_Discrete_Fourier_Transform/Sampling_in_Frequency.ipynb)\n",
    "* [Windowing Examples](python/The_Discrete_Fourier_Transform/Windowing_Examples.ipynb)\n",
    "\n",
    "## Module 3 - Discrete-time Signals and Systems\n",
    "* [Correlation Examples](python/Discrete-Time_Signals_and_Systems/Correlation_Examples.ipynb)\n",
    "\n",
    "## Module 4 - Frequency-domain Analysis of LTI systems\n",
    "* [LTI Estimation](python/Frequency-Domain_Analysis_of_LTI_Systems/LTI_Estimation.ipynb)\n",
    "* [LTI responses](python/Frequency-Domain_Analysis_of_LTI_Systems/LTI_responses.ipynb)\n",
    "\n",
    "## Module 5 - Random Signals, Correlation Functions, and Power Spectra\n",
    "* [Joint probability density function example](python/Random_Signals_Correlation_Functions_and_Power_Spectra/Joint_probability_density_function_example.ipynb)\n",
    "* [Demonstration of Autocorrelation for an Ensemble](python/Random_Signals_Correlation_Functions_and_Power_Spectra/Demonstration_of_Autocorrelation_for_an_Ensemble.ipynb)\n",
    "* [Running average of time series](python/Random_Signals_Correlation_Functions_and_Power_Spectra/Running_average_of_time_series.ipynb)\n",
    "\n",
    "## Module 6 - Design of Digital Filters\n",
    "* [Effect of non-linear phase on digital signal](python/Design_of_Digital_Filters/Effect_of_non-linear_phase_on_digital_signal.ipynb)\n",
    "* [FIR filter design via the impulse response](python/Design_of_Digital_Filters/FIR_filter_design_via_the_impulse_response.ipynb)\n",
    "* [FIR design via the transfer function](python/Design_of_Digital_Filters/FIR_design_via_the_transfer_function.ipynb)\n",
    "* [FIR design in frequency using numerical optimisation](python/Design_of_Digital_Filters/FIR_design_in_frequency_using_numerical_optimisation.ipynb)\n",
    "\n",
    "## Module 7 - Power Spectrum Estimation\n",
    "* [Spectrum Analyser](python/Power_Spectrum_Estimation/Spectrum_analyser_v2.ipynb)\n",
    "* [Spectral Density Estimation](python/Power_Spectrum_Estimation/Spectral_Density_Estimation.ipynb)\n",
    "* [Filter bank tap response](python/Power_Spectrum_Estimation/Filter_bank_tap_response.ipynb)\n",
    "\n",
    "## Module 8 - Multirate Digital Signal Processing\n",
    "* [Perfect reconstruction from sampled data](python/Multirate_Digital_Signal_Processing/Perfect_reconstruction_from_sampled_data.ipynb)\n",
    "* [Multirate sampling concept](python/Multirate_Digital_Signal_Processing/Multirate_sampling_concept.ipynb)\n",
    "* [Multirate sampling demo](python/Multirate_Digital_Signal_Processing/Multirate_sampling_demo.ipynb)\n",
    "* [Interpolation demonstration](python/Multirate_Digital_Signal_Processing/Interpolation_demonstration.ipynb)\n",
    "\n",
    "## Module 9 - Analogue to Digital Converter\n",
    "* [Analogue to Digital conversion](python/Analogue_to_digital_Converter/Analogue_to_Digital_conversion.ipynb)\n",
    "\n",
    "## Module 10 - Matched Filtering\n",
    "* [Inverse filter demo](python/Matched_Filtering/Inverse_filter_demo_used_in_lecture.ipynb)\n",
    "* [Matched filtering](python/Matched_Filtering/Matched_filtering.ipynb)\n",
    "* [Communications example](python/Matched_Filtering/Communications_example.ipynb)\n",
    "\n",
    "\n",
    "© The University of Edinburgh: Produced by D. Laurenson, School of Engineering.  Initial code conversion by Xing Zixiao."
   ]
  }
 ],
 "metadata": {
  "kernelspec": {
   "display_name": "Python 3 (ipykernel)",
   "language": "python",
   "name": "python3"
  },
  "language_info": {
   "codemirror_mode": {
    "name": "ipython",
    "version": 3
   },
   "file_extension": ".py",
   "mimetype": "text/x-python",
   "name": "python",
   "nbconvert_exporter": "python",
   "pygments_lexer": "ipython3",
   "version": "3.9.6"
  }
 },
 "nbformat": 4,
 "nbformat_minor": 2
}