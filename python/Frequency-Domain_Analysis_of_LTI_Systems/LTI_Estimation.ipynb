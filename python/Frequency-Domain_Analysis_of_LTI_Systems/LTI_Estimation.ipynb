{
 "cells": [
  {
   "cell_type": "markdown",
   "metadata": {},
   "source": [
    "# LTI Estimation\n",
    "There are many situations where it would be beneficial to be able to measure the impulse response of a linear time invariant (LTI) system.  It is not always a good idea to input an impluse as this can cause the system to behave in an undesired way, possibly moving into regions of operation that are not linear.  An alternative is to drive the system with a noise-like input, and use correlation to be able to measure the impulse response."
   ]
  },
  {
   "cell_type": "markdown",
   "metadata": {},
   "source": [
    "### Preamble\n",
    "Start by importing the Python libraries that we will require"
   ]
  },
  {
   "cell_type": "code",
   "execution_count": null,
   "metadata": {},
   "outputs": [],
   "source": [
    "import numpy as np\n",
    "from scipy.signal import lfilter\n",
    "import matplotlib.pyplot as plt"
   ]
  },
  {
   "cell_type": "markdown",
   "metadata": {},
   "source": [
    "And define a function that will return true if running in a Jupyter Notebook"
   ]
  },
  {
   "cell_type": "code",
   "execution_count": null,
   "metadata": {},
   "outputs": [],
   "source": [
    "def is_jupyter():\n",
    "    \"\"\"Return true if running in a Jupyter Notebook\"\"\"\n",
    "    try:\n",
    "        if get_ipython().__class__.__name__ == 'ZMQInteractiveShell':\n",
    "            return True\n",
    "        else:\n",
    "            return False\n",
    "    except: \n",
    "        return False"
   ]
  },
  {
   "cell_type": "markdown",
   "metadata": {},
   "source": [
    "### User specified parameters\n",
    "The following parameters can be specified. \n",
    "\n",
    "Parameter | Meaning\n",
    "--------- | -------\n",
    "<code>sequence_length</code>| The length of the sequence to be used as the input (e.g.10000)\n",
    "<code>max_correlation_delay</code> | The maximum delay of correlation (should be above the maximum system delay) (e.g. 50)"
   ]
  },
  {
   "cell_type": "code",
   "execution_count": null,
   "metadata": {},
   "outputs": [],
   "source": [
    "sequence_length = 10000\n",
    "max_correlation_delay = 50"
   ]
  },
  {
   "cell_type": "markdown",
   "metadata": {},
   "source": [
    "### Define LTI system\n",
    "Here we define the LTI system that is to be estimated using the correlation technique.  An LTI system is one whose impulse response does not change (the system is time invariant), and that the output can be related to the input through a convolution operation (linear).  So, this function defines the impulse response as an FIR filter, and then uses lfilter from scipy to generate the output of the system for the specified input.  You are encouraged to change the definition of <code>FIR_response</code> to see its effect on the correlation outputs."
   ]
  },
  {
   "cell_type": "code",
   "execution_count": null,
   "metadata": {},
   "outputs": [],
   "source": [
    "# Unknown_LTI_system defines a linear system to test analysis techniques\n",
    "# The function takes an input data sequence, x, filters it using an impulse\n",
    "# response that is known only to the function, and returns the result y.\n",
    "\n",
    "def Unknown_LTI_system(x):\n",
    "    \"\"\"\n",
    "     Define the linear system.  In this case the system comprises three\n",
    "     discrete non-zero impulse response values.  This is a typical response\n",
    "     for a system where multiple echoes of the input are observed at the\n",
    "     output\n",
    "     \n",
    "     INPUT: \n",
    "          x: Input data sequence.\n",
    "          \n",
    "     RETURN:\n",
    "          y: The result of filtering input x with an impulse response.\n",
    "     \n",
    "    \"\"\"\n",
    "    \n",
    "    FIR_response = np.zeros(26)\n",
    "    FIR_response[0] = 0.5\n",
    "    FIR_response[10] = 0.25\n",
    "    FIR_response[25] = 0.125\n",
    "\n",
    "    # Run the input through the linear system\n",
    "    y = lfilter(FIR_response, 1, x)\n",
    "    return y"
   ]
  },
  {
   "cell_type": "markdown",
   "metadata": {},
   "source": [
    "For convenience, we define a function to generate the plots"
   ]
  },
  {
   "cell_type": "code",
   "execution_count": null,
   "metadata": {},
   "outputs": [],
   "source": [
    "def plot_fig(X, Y, xlabel, ylabel, xticks, yticks, ylim, title, name):\n",
    "    \"\"\"\n",
    "       Function that create a stem plot and \n",
    "       Save the figure with given name when not running in Jupyter notebook\n",
    "       \n",
    "       Parameters:\n",
    "                  X (array-like): The x-positions of the stems. \n",
    "                  Y (array-like): The y-positions of the stems. \n",
    "                  xlabel (str): The label for the x-axis.\n",
    "                  ylabel (str): The label for the y-axis.\n",
    "                  xticks (array-like): The tick locations of the x-axis.\n",
    "                  yticks (array-like): The tick locations of the y-axis.\n",
    "                  ylim ([left, right]): Set the ylim to left, right.\n",
    "                  title (str): The title of figure.\n",
    "                  name (str): Name used to save figure.\n",
    "    \"\"\"\n",
    "    \n",
    "    # Create the plot figure\n",
    "    plt.figure(figsize = (16, 8))\n",
    "    \n",
    "    # Enlarge figure label and axis size\n",
    "    plt.rcParams.update({'font.size': 16})\n",
    "    \n",
    "    # stem plot with circle marker \n",
    "    (markerLines, stemLines, baseLines) = plt.stem(X, Y, use_line_collection = True) \n",
    "    plt.setp(baseLines, color = 'black', linewidth=1) \n",
    "    plt.setp(stemLines, linewidth=1) \n",
    "    markerLines.set_markersize(4)\n",
    "    markerLines.set_markerfacecolor('none')\n",
    "    \n",
    "    # Tidy up the plot to control axes sizes and labels\n",
    "    plt.ylim(ylim)\n",
    "    plt.xlim(X[0],X[-1])\n",
    "    plt.xticks(xticks)\n",
    "    plt.yticks(yticks)\n",
    "    plt.xlabel(xlabel)\n",
    "    plt.ylabel(ylabel)\n",
    "    plt.title(title)\n",
    "    \n",
    "    # Save figure in python or ipython system\n",
    "    if not is_jupyter(): plt.savefig(name)"
   ]
  },
  {
   "cell_type": "markdown",
   "metadata": {},
   "source": [
    "### Input signal\n",
    "The input is defined as a long noise sequence.  To avoid clipping of very large signals (which is a non-linear effect), it is useful to define the noise signal as uniformly distributed noise between two fixed values.  If, in practice, clipping is observed, then the magnitude of the input should be reduced."
   ]
  },
  {
   "cell_type": "code",
   "execution_count": null,
   "metadata": {},
   "outputs": [],
   "source": [
    "# First define a random noise input as uniformly distributed white noise\n",
    "# with a range of -1 to 1\n",
    "x = 1 - 2 * np.random.rand(sequence_length)"
   ]
  },
  {
   "cell_type": "markdown",
   "metadata": {},
   "source": [
    "### Plot the first few samples\n",
    "Just so that we can see what the input looks like, let's plot it.  As you can see, it is random, and is uniformly distributed."
   ]
  },
  {
   "cell_type": "code",
   "execution_count": null,
   "metadata": {},
   "outputs": [],
   "source": [
    "plot_fig(X = np.arange(0,101), Y = x[0:101],\n",
    "         xlabel = 'Sample',\n",
    "         ylabel = 'Amplitude',\n",
    "         title = 'Input data sequence',\n",
    "         name = 'LTI_input.pdf',\n",
    "         ylim = [-1, 1],\n",
    "         xticks = np.linspace(0, 100, 6),\n",
    "         yticks = np.linspace(-1, 1, 11))"
   ]
  },
  {
   "cell_type": "markdown",
   "metadata": {},
   "source": [
    "### Plot the input autocorrelation sequence\n",
    "One of the properties of autocorrelation for a noise sequence is that it has a non-zero value at zero delay, but at all other delays, the autocorrelation is zero.  Here, as we are dealing with a finite length record of one realisation of the noise signal, the autocorrelation does not fall to zero, but is very close.  If we made the sequence longer, then the peak would get larger, and at all other delays, the autocorrelation would be closer to zero."
   ]
  },
  {
   "cell_type": "code",
   "execution_count": null,
   "metadata": {},
   "outputs": [],
   "source": [
    "# To avoid calculating all possible delays, which could be very large\n",
    "# if the input sequence is long, then use pyplot's function xcorr\n",
    "# which allows a maximum delay to be specified\n",
    "(lags,input_acf, line, b) = plt.xcorr(x, x, normed = False,\n",
    "                                      maxlags = max_correlation_delay)\n",
    "# As we don't actually want the plot, close it afterwards\n",
    "plt.close()\n",
    "\n",
    "X = np.arange(-max_correlation_delay, max_correlation_delay+1)\n",
    "\n",
    "plot_fig(X = X, Y = input_acf,\n",
    "         xlabel = 'Delay',\n",
    "         ylabel = 'Correlation',\n",
    "         ylim = [-500, 3500],\n",
    "         xticks = np.linspace(-40, 40, 5),\n",
    "         yticks = np.linspace(-500, 3500, 9),\n",
    "         title = 'Input autocorrelation sequence',\n",
    "        name = 'LTI_input_acf.pdf')"
   ]
  },
  {
   "cell_type": "markdown",
   "metadata": {},
   "source": [
    "### Run the sequence through the unknown system\n",
    "Now we apply the noise signal to the LTI system.  Note that we do not have direct access to <code>FIR_response</code>, and all we can see is the output of the system, <code>y</code> given the input <code>x</code>."
   ]
  },
  {
   "cell_type": "code",
   "execution_count": null,
   "metadata": {},
   "outputs": [],
   "source": [
    "y = Unknown_LTI_system(x)"
   ]
  },
  {
   "cell_type": "markdown",
   "metadata": {},
   "source": [
    "### Plot the first few samples of the output\n",
    "As we plotted the input signal, then we may as well also plot the first part of the output signal.  As expected, since the input was noise, the output also looks like noise.  "
   ]
  },
  {
   "cell_type": "code",
   "execution_count": null,
   "metadata": {},
   "outputs": [],
   "source": [
    "plot_fig(X = np.arange(0,101), Y = y[0:101],\n",
    "         xlabel = 'Sample',\n",
    "         ylabel = 'Amplitude',\n",
    "         title = 'Output data sequence',\n",
    "         name = 'LTI_output.pdf',\n",
    "         ylim = [-0.8, 0.8],\n",
    "         xticks = np.linspace(0, 100, 11),\n",
    "         yticks = np.linspace(-0.8, 0.8, 9))"
   ]
  },
  {
   "cell_type": "markdown",
   "metadata": {},
   "source": [
    "### Compute the crosscorrelation\n",
    "Now we find the crosscorrelation of the input sequence, which we defined as the noise signal, and the ouptut of the linear system.  We find, when we do this, that the crosscorrelation has the same shape as the system impulse response.  So, it is possible by knowing only the input and output of the system, to be able to determine the impulse response of the system."
   ]
  },
  {
   "cell_type": "code",
   "execution_count": null,
   "metadata": {},
   "outputs": [],
   "source": [
    "# Again, use pyplot.xcorr to determine the correlation\n",
    "(lags,io_crosscorrelation, line, b) = plt.xcorr(y, x, normed = False,\n",
    "                                                maxlags = max_correlation_delay)\n",
    "plt.close()\n",
    "X = np.arange(-max_correlation_delay, max_correlation_delay + 1)\n",
    "\n",
    "\n",
    "plot_fig(X = X, Y = io_crosscorrelation,\n",
    "         xlabel = 'Delay',\n",
    "         ylabel = 'Correlation',\n",
    "         ylim = [-200, 1800],\n",
    "         xticks = np.linspace(-40, 40, 5),\n",
    "         yticks = np.linspace(-200, 1800, 11),\n",
    "         title = 'Crosscorrelation sequence',\n",
    "         name = 'LTI_ccf.pdf')"
   ]
  },
  {
   "cell_type": "markdown",
   "metadata": {},
   "source": [
    "### Plot the output autocorrelation sequence\n",
    "Given the above, we can find the impulse response of the system, but we do need to know both the input and output of the linear system.  The question should be asked, what happens if we only know the output?  In that case, we can compute the autocorrelation.  If the input were a noise like signal (which often it is), then we can still tell something about the system, but obviously it is more complicated than simply the impulse response.  In actual fact, what we obtain is the autocorrelation of the impulse response."
   ]
  },
  {
   "cell_type": "code",
   "execution_count": null,
   "metadata": {},
   "outputs": [],
   "source": [
    "# calculate the autocorrelation of y\n",
    "(lags, output_acf, line, b) = plt.xcorr(y, y, normed = False, maxlags = max_correlation_delay)\n",
    "plt.close()\n",
    "\n",
    "X = np.arange(-max_correlation_delay, max_correlation_delay + 1)\n",
    "\n",
    "plot_fig(X = X, Y = output_acf,\n",
    "         xlabel = 'Delay',\n",
    "         ylabel = 'Correlation',\n",
    "         ylim = [-200, 1200],\n",
    "         xticks = np.linspace(-40, 40, 5),\n",
    "         yticks = np.linspace(-200, 1200, 8),\n",
    "         title = 'Output autocorrelation sequence',\n",
    "         name = 'LTI_output_acf.pdf')"
   ]
  },
  {
   "cell_type": "markdown",
   "metadata": {},
   "source": [
    "© The University of Edinburgh: Produced by D. Laurenson, School of Engineering. Initial code conversion by Xing Zixiao."
   ]
  }
 ],
 "metadata": {
  "kernelspec": {
   "display_name": "Python 3",
   "language": "python",
   "name": "python3"
  },
  "language_info": {
   "codemirror_mode": {
    "name": "ipython",
    "version": 3
   },
   "file_extension": ".py",
   "mimetype": "text/x-python",
   "name": "python",
   "nbconvert_exporter": "python",
   "pygments_lexer": "ipython3",
   "version": "3.7.6"
  }
 },
 "nbformat": 4,
 "nbformat_minor": 2
}
