{
 "cells": [
  {
   "cell_type": "markdown",
   "metadata": {},
   "source": [
    "# Linear system response\n",
    "A linear system can be described by its impulse response, or equally by its *z*-transform.  It can be useful to be able to relate the *z*-transform to the frequency and phase response of the linear system."
   ]
  },
  {
   "cell_type": "markdown",
   "metadata": {},
   "source": [
    "### Preamble\n",
    "Start by importing the Python libraries that we will require"
   ]
  },
  {
   "cell_type": "markdown",
   "metadata": {},
   "source": [
    "### Import libraries"
   ]
  },
  {
   "cell_type": "code",
   "execution_count": null,
   "metadata": {},
   "outputs": [],
   "source": [
    "import numpy as np\n",
    "import matplotlib.pyplot as plt\n",
    "import scipy.signal as sps"
   ]
  },
  {
   "cell_type": "markdown",
   "metadata": {},
   "source": [
    "And define a function that will return true if running in a Jupyter Notebook"
   ]
  },
  {
   "cell_type": "code",
   "execution_count": null,
   "metadata": {},
   "outputs": [],
   "source": [
    "def is_jupyter():\n",
    "    \"\"\"Return true if running in a Jupyter Notebook\"\"\"\n",
    "    try:\n",
    "        if get_ipython().__class__.__name__ == 'ZMQInteractiveShell':\n",
    "            return True\n",
    "        else:\n",
    "            return False\n",
    "    except: \n",
    "        return False"
   ]
  },
  {
   "cell_type": "markdown",
   "metadata": {},
   "source": [
    "### User specified parameters\n",
    "The following parameters can be specified. \n",
    "\n",
    "Parameter | Meaning\n",
    "--------- | -------\n",
    "<code>b</code>| The numerator polynomial for the transfer function\n",
    "<code>a</code> | The denominator polynomial for the transfer function"
   ]
  },
  {
   "cell_type": "code",
   "execution_count": null,
   "metadata": {},
   "outputs": [],
   "source": [
    "# Define the filter coefficients for Example 5.2.1\n",
    "# Note that this is defined in terms of positive powers of z\n",
    "b = [1, 1, 0]\n",
    "a = [1, 0.1, -0.2]"
   ]
  },
  {
   "cell_type": "markdown",
   "metadata": {},
   "source": [
    "### Plotting functions\n",
    "First we define a plotting function for a traditional cartesian plot with frequency along the x-axis."
   ]
  },
  {
   "cell_type": "code",
   "execution_count": null,
   "metadata": {},
   "outputs": [],
   "source": [
    "def plot_response(x, y, ylim, ylabel, title, name):\n",
    "    \"\"\"\n",
    "       Plot the response of normalised frequency\n",
    "       \n",
    "       Parameters:\n",
    "                  x (array-like): The x-positions of plot. \n",
    "                  y (array-like): The y-positions of plot. \n",
    "                  ylim ([left, right]): Set the ylim to left, right.\n",
    "                  ylabel (str): The label for the y-axis.\n",
    "                  title (str): The title of figure.\n",
    "                  name (str): Name used to save figure.\n",
    "    \"\"\"\n",
    "    \n",
    "    # Create the figure\n",
    "    plt.figure(figsize = (16, 8))\n",
    "    \n",
    "    # Enlarge figure label and axis size\n",
    "    plt.rcParams.update({'font.size': 16})\n",
    "    \n",
    "    # Plot the response\n",
    "    plt.plot(x, y)\n",
    "    \n",
    "    # Tidy up the plot to control axes sizes and labels\n",
    "    plt.ylim(ylim)\n",
    "    plt.xlim([0,np.pi])\n",
    "    plt.xticks(np.linspace(0, np.pi, 5),\n",
    "               ['0','$\\pi/4$','$\\pi/2$','$3\\pi/4$','$\\pi$'])\n",
    "    plt.xlabel('Normalized Frequency (rad/sample)')\n",
    "    plt.ylabel(ylabel)\n",
    "    plt.grid(True)\n",
    "    plt.title(title)\n",
    "    \n",
    "    # Save figure in python or ipython system\n",
    "    if not is_jupyter(): plt.savefig(name)"
   ]
  },
  {
   "cell_type": "markdown",
   "metadata": {},
   "source": [
    "We also need a function for producing plots in the *z*-domain.  It will have axes for real and imaginary, as well as a unit circle marked on each plot.  It then adds in markers for each pole and each zero, which are specified as a list of complex values."
   ]
  },
  {
   "cell_type": "code",
   "execution_count": null,
   "metadata": {},
   "outputs": [],
   "source": [
    "def pz_plot(z, p):\n",
    "    \"\"\"\n",
    "       Plot the poles and zeros.\n",
    "       \n",
    "       INPUT:\n",
    "           z (complex number): Represent zeros.\n",
    "           p (complex number): Represent poles.\n",
    "           \n",
    "       RETURN:\n",
    "           ax: Current Axes instance on the current figure.\n",
    "           \n",
    "    \"\"\"\n",
    "    \n",
    "    # Create a plot figure\n",
    "    plt.figure(figsize = (16, 8))\n",
    "    plt.rcParams.update({'font.size': 16})\n",
    "    plt.ion()\n",
    "    ax = plt.gca()\n",
    "    \n",
    "    # Set two axes with same standard tick length\n",
    "    ax.set_aspect(1)\n",
    "    \n",
    "    # Plot the unit circle \n",
    "    circle1 = plt.Circle((0, 0), 1, \n",
    "                         color = '#87cefa', \n",
    "                         fill = False,\n",
    "                         linestyle = 'dotted')\n",
    "    \n",
    "    # Plot the two straight lines perpendicular to \n",
    "    # each other through the origin\n",
    "    ax.plot(np.linspace(-2, 2, 100), \n",
    "            np.zeros(100), \n",
    "            color = '#87cefa', \n",
    "            linestyle = 'dotted')\n",
    "    ax.plot(np.zeros(100),\n",
    "            np.linspace(-1, 1, 100),  \n",
    "            color = '#87cefa',\n",
    "            linestyle = 'dotted')\n",
    "    \n",
    "    # Plot zeros \n",
    "    for i in range(len(z)):\n",
    "        ax.plot(np.real(z[i]),\n",
    "                np.imag(z[i]), \n",
    "                'bo', \n",
    "                markerfacecolor = 'none')\n",
    "                \n",
    "    # Plot poles \n",
    "    for i in range(len(p)):\n",
    "        ax.plot(np.real(p[i]), \n",
    "                np.imag(p[i]), \n",
    "                'bx')\n",
    "    \n",
    "    # Tidy up the plot to control axes sizes and labels\n",
    "    ax.set_xticks(np.linspace(-2, 2, 5))\n",
    "    ax.set_yticks(np.linspace(-1, 1, 5))\n",
    "    ax.set_xlabel('Real Part')\n",
    "    ax.set_ylabel('Imaginary Part')\n",
    "    ax.set_title('Pole-Zero Plot')\n",
    "    ax.add_artist(circle1)\n",
    "        \n",
    "    return ax"
   ]
  },
  {
   "cell_type": "markdown",
   "metadata": {},
   "source": [
    "Some of the plots add lines connecting poles and zeros to points of constant frequency on the unit circle.  This function will plot the pole-zero diagram and add these lines."
   ]
  },
  {
   "cell_type": "code",
   "execution_count": null,
   "metadata": {},
   "outputs": [],
   "source": [
    "def plot_with_lines(z, p, omega, name):\n",
    "    \"\"\"\n",
    "        Draw lines from the poles and zeros to the point on the unit circle.\n",
    "        Input:\n",
    "            z: represent zeros, complex number\n",
    "            p: represent pole, complex number\n",
    "            omega: frequency to connect lines to\n",
    "            name: the name of the plot to be saved\n",
    "    \"\"\"\n",
    "    # Generate the pole-zero diagram\n",
    "    ax = pz_plot(z, p)\n",
    "    \n",
    "    # Obtain the coordinate of the constant frequency term\n",
    "    mx = np.cos(omega)\n",
    "    my = np.sin(omega)\n",
    "    \n",
    "    # Plot lines for the poles\n",
    "    for i in range(len(p)):\n",
    "        ax.plot([np.real(p[i]), mx],\n",
    "                [np.imag(p[i]), my],\n",
    "                'g')\n",
    "\n",
    "    # and for the zeros\n",
    "    for i in range(len(z)):\n",
    "        ax.plot([np.real(z[i]), mx],\n",
    "                [np.imag(z[i]), my],\n",
    "                'r')\n",
    "\n",
    "    # Save figure in python or ipython system\n",
    "    if not is_jupyter(): plt.savefig(name)"
   ]
  },
  {
   "cell_type": "markdown",
   "metadata": {},
   "source": [
    "### Magnitude Response\n",
    "First, let's plot the magnitude response as a function of frequency"
   ]
  },
  {
   "cell_type": "code",
   "execution_count": null,
   "metadata": {},
   "outputs": [],
   "source": [
    "# Use freqz function to compute frequency response \n",
    "# of a digital filter\n",
    "(w,h) = sps.freqz(b, a)\n",
    "\n",
    "# calculate magnitude response in dB scale\n",
    "y = 20 * np.log10(np.abs(h))\n",
    "\n",
    "plot_response(w, y, ylim = [-40, 10],\n",
    "              ylabel = 'Magnitude (dB)',\n",
    "              title = 'Magnitude Response(dB)',\n",
    "              name = 'Example_5_2_1_magnitude.pdf')"
   ]
  },
  {
   "cell_type": "markdown",
   "metadata": {},
   "source": [
    "### Phase Response"
   ]
  },
  {
   "cell_type": "code",
   "execution_count": null,
   "metadata": {},
   "outputs": [],
   "source": [
    "# calculate the phase response\n",
    "phase = np.angle(h)\n",
    "\n",
    "# phase plot\n",
    "plot_response(w, phase, ylim = [-1.6, 0],\n",
    "              ylabel = 'Phase(radians)',\n",
    "              title = 'Phase Response',\n",
    "              name = 'Example_5_2_1_phase.pdf')"
   ]
  },
  {
   "cell_type": "markdown",
   "metadata": {},
   "source": [
    "### Show the pole-zero plot"
   ]
  },
  {
   "cell_type": "code",
   "execution_count": null,
   "metadata": {},
   "outputs": [],
   "source": [
    "# Use tf2zpk function to find the pole, zeros of response\n",
    "(z,p,k) = sps.tf2zpk(b, a)\n",
    "print(len(p))\n",
    "pz_plot(z, p)\n",
    "\n",
    "# Save figure in python or ipython system\n",
    "if not is_jupyter(): plt.savefig('Example_5_2_1_pole_zero.pdf')"
   ]
  },
  {
   "cell_type": "markdown",
   "metadata": {},
   "source": [
    "Draw lines from the poles and zeros to the point on the unit circle corresponding to the frequency of $\\omega=\\pi/4$;"
   ]
  },
  {
   "cell_type": "code",
   "execution_count": null,
   "metadata": {},
   "outputs": [],
   "source": [
    "plot_with_lines(z = z, p = p, omega = np.pi/4, name = 'Example_5_2_1_pole_zero_pi_4.pdf')"
   ]
  },
  {
   "cell_type": "markdown",
   "metadata": {},
   "source": [
    "for $\\omega=\\pi/2$;"
   ]
  },
  {
   "cell_type": "code",
   "execution_count": null,
   "metadata": {},
   "outputs": [],
   "source": [
    "plot_with_lines(z = z, p = p, omega = np.pi/2, name = 'Example_5_2_1_pole_zero_pi_2.pdf')"
   ]
  },
  {
   "cell_type": "markdown",
   "metadata": {},
   "source": [
    "and finally, for $\\omega=3\\pi/4$."
   ]
  },
  {
   "cell_type": "code",
   "execution_count": null,
   "metadata": {},
   "outputs": [],
   "source": [
    "plot_with_lines(z = z, p = p, omega = 3*np.pi/4, name = 'Example_5_2_1_pole_zero_3pi_4.pdf')"
   ]
  },
  {
   "cell_type": "markdown",
   "metadata": {},
   "source": [
    "© The University of Edinburgh: Produced by D. Laurenson, School of Engineering. Initial code conversion by Xing Zixiao."
   ]
  }
 ],
 "metadata": {
  "kernelspec": {
   "display_name": "Python 3",
   "language": "python",
   "name": "python3"
  },
  "language_info": {
   "codemirror_mode": {
    "name": "ipython",
    "version": 3
   },
   "file_extension": ".py",
   "mimetype": "text/x-python",
   "name": "python",
   "nbconvert_exporter": "python",
   "pygments_lexer": "ipython3",
   "version": "3.7.6"
  }
 },
 "nbformat": 4,
 "nbformat_minor": 2
}
