{
 "cells": [
  {
   "cell_type": "markdown",
   "metadata": {},
   "source": [
    "# Communications example\n",
    "This notebook presents an example of a spread spectrum communications system that uses Gold Codes for transmitting data symbols.  A logic 0 is transmitted with $S_0$, and a logic 1 with $S_1$."
   ]
  },
  {
   "cell_type": "markdown",
   "metadata": {},
   "source": [
    "### Preamble\n",
    "Start by importing the Python libraries that we will require"
   ]
  },
  {
   "cell_type": "code",
   "execution_count": null,
   "metadata": {},
   "outputs": [],
   "source": [
    "import numpy as np\n",
    "import matplotlib.pyplot as plt\n",
    "import scipy.signal as sps"
   ]
  },
  {
   "cell_type": "markdown",
   "metadata": {},
   "source": [
    "And define a function that will return true if running in a Jupyter Notebook"
   ]
  },
  {
   "cell_type": "code",
   "execution_count": null,
   "metadata": {},
   "outputs": [],
   "source": [
    "def is_jupyter():\n",
    "    \"\"\"Return true if running in a Jupyter Notebook\"\"\"\n",
    "    try:\n",
    "        if get_ipython().__class__.__name__ == 'ZMQInteractiveShell':\n",
    "            return True\n",
    "        else:\n",
    "            return False\n",
    "    except: \n",
    "        return False"
   ]
  },
  {
   "cell_type": "markdown",
   "metadata": {},
   "source": [
    "### GoldSequence Class Definition\n",
    "The code below defines a Gold Code sequence generator.  The source for this code is by Christian Nelson at Lund University: https://github.com/chrinels/gold-sequence/blob/master/gold.py"
   ]
  },
  {
   "cell_type": "code",
   "execution_count": null,
   "metadata": {},
   "outputs": [],
   "source": [
    "# This code is originally from https://github.com/chrinels/gold-sequence/blob/master/gold.py\n",
    "# by Christian Nelson (chrinels).  Last accessed 16 Sep, 2019\n",
    "class LFSR:\n",
    "\n",
    "    def __init__(self, taps, init_register, output=None, samples_per_frame=None, matlab=False):\n",
    "        if taps[-1] != 0:\n",
    "            raise AttributeError(\"The first and last taps must be connected.\")\n",
    "        if taps[0] != len(init_register):\n",
    "            raise AttributeError(\"The first and last taps must be connected.\")\n",
    "        if output is None:\n",
    "            output = [len(init_register)]\n",
    "        if any([((i > len(init_register)) | (i < 1)) for i in output]):\n",
    "            raise AttributeError(\"The output tap(s) must exist!\")\n",
    "\n",
    "        if samples_per_frame is None:\n",
    "            self.samples = 2**len(init_register) - 1\n",
    "        else:\n",
    "            self.samples = samples_per_frame\n",
    "\n",
    "        self.init_register = init_register.copy()\n",
    "        self.register = init_register.copy()\n",
    "        self.output = output\n",
    "        if matlab:\n",
    "            self.taps = [taps[0] - tap for tap in reversed(taps)]\n",
    "            self.taps = self.taps[:-1]\n",
    "        else:\n",
    "            self.taps = taps[:-1]\n",
    "        self.cycled_through = False\n",
    "\n",
    "    def reset(self):\n",
    "        self.register = self.init_register.copy()\n",
    "\n",
    "    def step(self):\n",
    "        frame = []\n",
    "        for _ in range(self.samples):\n",
    "            frame.append(self.shift())\n",
    "        return frame\n",
    "\n",
    "    def shift(self):\n",
    "        out = [self.register[i-1] for i in self.output]\n",
    "        if len(out) > 1:\n",
    "            out = sum(out) % 2\n",
    "        else:\n",
    "            out = out[0]\n",
    "\n",
    "        feedback = sum([self.register[i-1] for i in self.taps]) % 2\n",
    "        for i in reversed(range(len(self.register) - 1)):\n",
    "            self.register[i+1] = self.register[i]\n",
    "\n",
    "        self.register[0] = feedback\n",
    "        if self.register == self.init_register:\n",
    "            self.cycled_through = True\n",
    "        return out\n",
    "\n",
    "\n",
    "class GoldSequence:\n",
    "    \"\"\"\n",
    "       The GoldSequence object generates a Gold sequence. \n",
    "       Gold sequences form a large class of sequences \n",
    "       that have good periodic cross-correlation properties.\n",
    "    \"\"\"\n",
    "\n",
    "    def __init__(self, first_polynomial = [6, 1, 0],\n",
    "                 first_initial_conditions = [ 0, 0, 0, 0, 0, 1],\n",
    "                 second_polynomial = [6, 5, 2, 1, 0], \n",
    "                 second_initial_conditions = [ 0, 0, 0, 0, 0, 1],\n",
    "                 samples_per_frame=None, index=0, matlab= True, debug=False):\n",
    "        self.mls1 = LFSR(first_polynomial, first_initial_conditions, samples_per_frame=samples_per_frame, matlab=matlab)\n",
    "        self.mls2 = LFSR(second_polynomial, second_initial_conditions, samples_per_frame=samples_per_frame, matlab=matlab)\n",
    "        self.index = index\n",
    "        self.samples_per_frame = samples_per_frame\n",
    "        self.cycled_through = False\n",
    "        self.debug = debug\n",
    "\n",
    "    def step(self):\n",
    "        u = self.mls1.step()\n",
    "        v = np.roll(self.mls2.step(), -self.index).tolist()\n",
    "        g = (np.logical_xor(u, v) * 1).tolist()\n",
    "        if self.debug:\n",
    "            print(\"u = {}\\nv = {}\\nG = {}\".format(u, v, g))\n",
    "        if self.mls1.cycled_through or self.mls2.cycled_through:\n",
    "            self.cycled_through = True\n",
    "        self.index = (self.index + 1) % self.samples_per_frame\n",
    "        return g\n",
    "\n",
    "    def reset(self):\n",
    "        self.mls1.reset()\n",
    "        self.mls2.reset()"
   ]
  },
  {
   "cell_type": "markdown",
   "metadata": {},
   "source": [
    "### Generate sequences for symbols\n",
    "Here we generate two sequences from the Gold Sequence generator.  These will be used to define the two symbols, $S_0$ and $S_1$."
   ]
  },
  {
   "cell_type": "code",
   "execution_count": null,
   "metadata": {},
   "outputs": [],
   "source": [
    "hgld = GoldSequence(samples_per_frame = 63)\n",
    "\n",
    "x = hgld.step()\n",
    "y = hgld.step()"
   ]
  },
  {
   "cell_type": "markdown",
   "metadata": {},
   "source": [
    "### Now define S0 and S1 as signals that are +/- 1\n",
    "The sequence generator produces binary sequences which we will convert to symbols with no d.c. value."
   ]
  },
  {
   "cell_type": "code",
   "execution_count": null,
   "metadata": {},
   "outputs": [],
   "source": [
    "s0 = 2*np.array(x) - 1\n",
    "s1 = 2*np.array(y) - 1"
   ]
  },
  {
   "cell_type": "markdown",
   "metadata": {},
   "source": [
    "### Define the possible received sequences\n",
    "Here we consider two consecutive symbols that are received.  With two possible symbols, there are four possibilities for two consecutive symbols."
   ]
  },
  {
   "cell_type": "code",
   "execution_count": null,
   "metadata": {},
   "outputs": [],
   "source": [
    "s00 = np.concatenate((s0, s0))\n",
    "s01 = np.concatenate((s0, s1))\n",
    "s10 = np.concatenate((s1, s0))\n",
    "s11 = np.concatenate((s1, s1))"
   ]
  },
  {
   "cell_type": "markdown",
   "metadata": {},
   "source": [
    "### Define plotting functions"
   ]
  },
  {
   "cell_type": "code",
   "execution_count": null,
   "metadata": {},
   "outputs": [],
   "source": [
    "def plot_stem(ss, s, ylabel, name):\n",
    "    \"\"\"\n",
    "       Create a stem plot according to correlation between ss and s.\n",
    "       INPUT:\n",
    "            ss (array-like): Sequence for correlation.\n",
    "            s  (array-like): Sequence for correlation.\n",
    "            ylabel (string): The label for y-axis.\n",
    "            name   (string): The name used to save plot.\n",
    "    \"\"\"\n",
    "    plt.figure(figsize = (16, 8))\n",
    "    \n",
    "    plt.rcParams.update({'font.size': 16})\n",
    "    correlation = np.correlate(ss, s, \"full\")/63\n",
    "    (markerLines, stemLines, baseLines) = plt.stem(np.arange(0, 63),\n",
    "                                                   correlation[62: 125],\n",
    "                                                   use_line_collection=True)\n",
    "    plt.setp(baseLines, color = 'black', linewidth=1) \n",
    "    markerLines.set_markerfacecolor('none')\n",
    "    \n",
    "    plt.xlim([-1, 63])\n",
    "    plt.ylim([-1.1, 1.1])\n",
    "    plt.xlabel('Delay')\n",
    "    plt.ylabel(r'$\\rho_{S_{%s}S_%s}(l)$'%(ylabel[0],ylabel[1]))\n",
    "    plt.title('Correlation between $S_{%s}$ and $S_%s$'%(ylabel[0],ylabel[1]))\n",
    "    \n",
    "    if not is_jupyter():\n",
    "        plt.savefig(name)"
   ]
  },
  {
   "cell_type": "code",
   "execution_count": null,
   "metadata": {},
   "outputs": [],
   "source": [
    "def plot_amp(y, ylabel, title, name):\n",
    "    \"\"\"\n",
    "       Plot the amplitude.\n",
    "       INPUT:\n",
    "           y  (array-like): The vertical coordinates of the data points.\n",
    "           ylabel (string): The label for y-axis.\n",
    "           title  (string): The title of figure.\n",
    "           name   (string): The name used to save figure.\n",
    "    \"\"\"\n",
    "    plt.figure(figsize = (16, 8))\n",
    "    \n",
    "    plt.rcParams.update({'font.size': 16})\n",
    "    step = np.arange(0, len(y)/63, 1/63)\n",
    "    plt.plot(step, y)\n",
    "    plt.xlim([step[0],step[-1]])\n",
    "    plt.xlabel('Time (symbols)')\n",
    "    plt.ylabel(ylabel)\n",
    "    plt.title(title)\n",
    "    \n",
    "    if not is_jupyter():\n",
    "        plt.savefig(name)"
   ]
  },
  {
   "cell_type": "code",
   "execution_count": null,
   "metadata": {},
   "outputs": [],
   "source": [
    "def plot_env(fs, num):\n",
    "    \"\"\"\n",
    "       Plot the magnitude.\n",
    "       INPUT:\n",
    "           fs  (array-like): The output of digital filter.\n",
    "           num        (int): Numver used to denote different signal.\n",
    "    \"\"\"\n",
    "    plt.figure(figsize = (16, 8))\n",
    "    \n",
    "    plt.rcParams.update({'font.size': 16})\n",
    "    plt.plot(np.arange(0, len(fs)/63, 1/63), abs(fs))\n",
    "    plt.xlim([0,(len(fs)-1)/63])\n",
    "    \n",
    "    plt.xlabel('Time (symbols)')\n",
    "    plt.ylabel('Magnitude')\n",
    "    plt.title('Envelope of output of matched filter for $S_%s$'%num)\n",
    "\n",
    "    if not is_jupyter():\n",
    "        plt.savefig('Comms_example_envelope_S%s_output.pdf'%num)"
   ]
  },
  {
   "cell_type": "markdown",
   "metadata": {},
   "source": [
    "### Now generate the plots of correlations"
   ]
  },
  {
   "cell_type": "markdown",
   "metadata": {},
   "source": [
    "First determine the correlation between two consecutive 0 symbols ($S_0$) being transmitted with the matched filter for $S_0$."
   ]
  },
  {
   "cell_type": "code",
   "execution_count": null,
   "metadata": {},
   "outputs": [],
   "source": [
    "ylabel = ['00', '0']\n",
    "name = 'Comms_example_rho_s0_s00.pdf'\n",
    "\n",
    "plot_stem(s00, s0, ylabel, name)"
   ]
  },
  {
   "cell_type": "markdown",
   "metadata": {},
   "source": [
    "and do the same for correlation with $S_1$."
   ]
  },
  {
   "cell_type": "code",
   "execution_count": null,
   "metadata": {},
   "outputs": [],
   "source": [
    "ylabel = ['00', '1']\n",
    "name = 'Comms_example_rho_s1_s00.pdf'\n",
    "\n",
    "plot_stem(s00, s1, ylabel, name)"
   ]
  },
  {
   "cell_type": "markdown",
   "metadata": {},
   "source": [
    "Now examine the correlation between two consecutive 1 symbols being transmitted with the matched filter for $S_0$"
   ]
  },
  {
   "cell_type": "code",
   "execution_count": null,
   "metadata": {},
   "outputs": [],
   "source": [
    "ylabel = ['11', '0']\n",
    "name = 'Comms_example_rho_s0_s11.pdf'\n",
    "\n",
    "plot_stem(s11, s0, ylabel, name)"
   ]
  },
  {
   "cell_type": "markdown",
   "metadata": {},
   "source": [
    "and with the matched filter for $S_1$"
   ]
  },
  {
   "cell_type": "code",
   "execution_count": null,
   "metadata": {},
   "outputs": [],
   "source": [
    "ylabel = ['11', '1']\n",
    "name = 'Comms_example_rho_s1_s11.pdf'\n",
    "\n",
    "plot_stem(s11, s1, ylabel, name)"
   ]
  },
  {
   "cell_type": "markdown",
   "metadata": {},
   "source": [
    "There are four other cases to consider.  Firstly transmitting $S_0$ followed by $S_1$, correlated with $S_0$:"
   ]
  },
  {
   "cell_type": "code",
   "execution_count": null,
   "metadata": {},
   "outputs": [],
   "source": [
    "ylabel = ['01', '0']\n",
    "name = 'Comms_example_rho_s0_s01.pdf'\n",
    "\n",
    "plot_stem(s01, s0, ylabel, name)"
   ]
  },
  {
   "cell_type": "markdown",
   "metadata": {},
   "source": [
    "then correlated with $S_1$"
   ]
  },
  {
   "cell_type": "code",
   "execution_count": null,
   "metadata": {},
   "outputs": [],
   "source": [
    "ylabel = ['01', '1']\n",
    "name = 'Comms_example_rho_s1_s01.pdf'\n",
    "\n",
    "plot_stem(s01, s1, ylabel, name)"
   ]
  },
  {
   "cell_type": "markdown",
   "metadata": {},
   "source": [
    "Finally, consider transmitting $S_1$ followed by $S_0$, and correlating with $S_0$:"
   ]
  },
  {
   "cell_type": "code",
   "execution_count": null,
   "metadata": {},
   "outputs": [],
   "source": [
    "ylabel = ['10', '0']\n",
    "name = 'Comms_example_rho_s0_s10.pdf'\n",
    "\n",
    "plot_stem(s10, s0, ylabel, name)"
   ]
  },
  {
   "cell_type": "markdown",
   "metadata": {},
   "source": [
    "and with $S_1$."
   ]
  },
  {
   "cell_type": "code",
   "execution_count": null,
   "metadata": {},
   "outputs": [],
   "source": [
    "ylabel = ['10', '1']\n",
    "name = 'Comms_example_rho_s1_s10.pdf'\n",
    "\n",
    "plot_stem(s10, s1, ylabel, name)"
   ]
  },
  {
   "cell_type": "markdown",
   "metadata": {},
   "source": [
    "The above plots show that where consecutive symbols are the same, then the correlations are high only when the pair of symbols are being correlated with the same symbol.  When the consecutive symbols are different, the correlation values at non-symbol delays are not as low as before, but there are still peaks when correlated with the matching symbol.\n",
    "\n",
    "## Data communication example\n",
    "\n",
    "We will now use matched filtering to detect symbols received over a transmission system.  We do not assume that the system is synchronised, so perform the correlation for all delays.\n",
    "\n",
    "First generate the matched filters that we will use, and a data sequence that is to be transmitted."
   ]
  },
  {
   "cell_type": "code",
   "execution_count": null,
   "metadata": {},
   "outputs": [],
   "source": [
    "# matched filters \n",
    "hs0 = np.flip(s0, axis = 0)\n",
    "hs1 = np.flip(s1, axis = 0)\n",
    "\n",
    "# data sequence\n",
    "sequence = np.concatenate((s0, s0, s1, s0, s1, s1, s0, s1,\n",
    "                           s1, s1, s0, s0, s1, s0, s0))"
   ]
  },
  {
   "cell_type": "markdown",
   "metadata": {},
   "source": [
    "### Additive noise\n",
    "In the first instance we select a simple transmission medium where only Gaussian noise is added to the sequence.  The received signal is an attenuated version of the transmitted signal, plus noise."
   ]
  },
  {
   "cell_type": "code",
   "execution_count": null,
   "metadata": {},
   "outputs": [],
   "source": [
    "# The first channel will simply be an attenuation\n",
    "# with additive white Gaussian noise\n",
    "\n",
    "received = 0.7*sequence + np.random.randn(sequence.size)*0.4\n",
    "ylabel = 'Amplitude'\n",
    "title = 'Received signal'\n",
    "name = 'Comms_example_simple_received.pdf'\n",
    "\n",
    "plot_amp(received, ylabel, title, name)"
   ]
  },
  {
   "cell_type": "markdown",
   "metadata": {},
   "source": [
    "The sequence is passed through the two matched filters - one detects the 0 symbols:"
   ]
  },
  {
   "cell_type": "code",
   "execution_count": null,
   "metadata": {},
   "outputs": [],
   "source": [
    "# Now pass through the two filters\n",
    "# use scipy.signal.lfilter function to filter data\n",
    "# along one-dimension with an IIR or FIR filter.\n",
    "fs0 = sps.lfilter(hs0, [1], received)\n",
    "\n",
    "\n",
    "# And plot the results\n",
    "ylabel = 'Filter output'\n",
    "title = 'Output of matched filter for $S_0$'\n",
    "name ='Comms_example_simple_S0_output.pdf'\n",
    "plot_amp(fs0, ylabel, title, name)"
   ]
  },
  {
   "cell_type": "markdown",
   "metadata": {},
   "source": [
    "and the other detects the 1 symbols:"
   ]
  },
  {
   "cell_type": "code",
   "execution_count": null,
   "metadata": {},
   "outputs": [],
   "source": [
    "# Repeat for detecting symbols representing 1's\n",
    "fs1 = sps.lfilter(hs1, [1], received)\n",
    "\n",
    "ylabel = 'Filter output'\n",
    "title = 'Output of matched filter for $S_1$'\n",
    "name = 'Comms_example_simple_S1_output.pdf'\n",
    "plot_amp(fs1, ylabel, title, name)"
   ]
  },
  {
   "cell_type": "markdown",
   "metadata": {},
   "source": [
    "From the above plots, it is evident that the matched filters are effective in detecting the corresponding symbols in the noisy received sequence.\n",
    "\n",
    "### Multipath channel\n",
    "A more realistic communication medium will result in repeated versions of the transmitted signal being received, with different delays and attenuations.  Here we simulate a three path channel, with the addition of gaussian noise.  The same processing is employed to detect the transmitted sequence."
   ]
  },
  {
   "cell_type": "code",
   "execution_count": null,
   "metadata": {},
   "outputs": [],
   "source": [
    "# A more realistic channel will have signals arriving at different delays,\n",
    "# with different attenuations, as well as additive noise\n",
    "received = (0.7*sequence + \n",
    "            0.4*np.concatenate((np.zeros(14),sequence[0:sequence.size-14])) + \n",
    "            0.2*np.concatenate((np.zeros(19),sequence[0:sequence.size-19])) + \n",
    "            np.random.randn(sequence.size)*0.4)\n",
    "\n",
    "\n",
    "# Now pass this new signal through the two filters\n",
    "fs0 = sps.lfilter(hs0, [1], received)\n",
    "\n",
    "# And plot the results\n",
    "ylabel = 'Filter output'\n",
    "title = 'Output of matched filter for $S_0$'\n",
    "name = 'Comms_example_multipath_S0_output.pdf'\n",
    "plot_amp(fs0, ylabel, title, name)"
   ]
  },
  {
   "cell_type": "code",
   "execution_count": null,
   "metadata": {},
   "outputs": [],
   "source": [
    "fs1 = sps.lfilter(hs1, [1], received)\n",
    "ylabel = 'Filter output'\n",
    "title = 'Output of matched filter for $S_1$'\n",
    "name = 'Comms_example_multipath_S1_output.pdf'\n",
    "plot_amp(fs1, ylabel, title, name)"
   ]
  },
  {
   "cell_type": "markdown",
   "metadata": {},
   "source": [
    "### Complex multipath channel\n",
    "Practical communications also experience phase alteration of the received symbols.  Here we modify the three path channel to include a complex phase term on each multipath.  The resulting correlation will be complex, so we perform the detection on the magnitude only, and ignore the phase component."
   ]
  },
  {
   "cell_type": "code",
   "execution_count": null,
   "metadata": {},
   "outputs": [],
   "source": [
    "# Finally, a channel complex attenuation\n",
    "\n",
    "received = (0.7*np.exp(1j*np.pi/3)*sequence + \n",
    "            0.4*np.exp(-1j*3*np.pi/5)*np.concatenate((np.zeros(14), sequence[0:sequence.size-14])) + \n",
    "            0.2*np.exp(-1j*2*np.pi/11)*np.concatenate((np.zeros(19), sequence[0:sequence.size-19])) + \n",
    "            np.random.randn(sequence.size)*0.4)\n",
    "\n",
    "# Now pass this new signal through the two filters\n",
    "\n",
    "fs0 = sps.lfilter(hs0, [1], received)\n",
    "fs1 = sps.lfilter(hs1, [1], received)\n",
    "\n",
    "# And plot the results\n",
    "plot_env(fs0, '0')"
   ]
  },
  {
   "cell_type": "code",
   "execution_count": null,
   "metadata": {},
   "outputs": [],
   "source": [
    "plot_env(fs1, '1')"
   ]
  },
  {
   "cell_type": "markdown",
   "metadata": {},
   "source": [
    "© The University of Edinburgh: Produced by D. Laurenson, School of Engineering. Initial code conversion by Xing Zixiao."
   ]
  }
 ],
 "metadata": {
  "kernelspec": {
   "display_name": "Python 3",
   "language": "python",
   "name": "python3"
  },
  "language_info": {
   "codemirror_mode": {
    "name": "ipython",
    "version": 3
   },
   "file_extension": ".py",
   "mimetype": "text/x-python",
   "name": "python",
   "nbconvert_exporter": "python",
   "pygments_lexer": "ipython3",
   "version": "3.7.3"
  }
 },
 "nbformat": 4,
 "nbformat_minor": 2
}
