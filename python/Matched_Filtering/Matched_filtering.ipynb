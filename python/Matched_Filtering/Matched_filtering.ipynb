{
 "cells": [
  {
   "cell_type": "markdown",
   "metadata": {},
   "source": [
    "# Matched filtering\n",
    "This notebook uses the second example signal from the Inverse filtering notebook, and applies a matched filter instead of inverse filtering."
   ]
  },
  {
   "cell_type": "markdown",
   "metadata": {},
   "source": [
    "### Preamble\n",
    "Start by importing the Python libraries that we will require"
   ]
  },
  {
   "cell_type": "code",
   "execution_count": null,
   "metadata": {},
   "outputs": [],
   "source": [
    "import numpy as np\n",
    "import scipy.signal as sps\n",
    "import matplotlib.pyplot as plt"
   ]
  },
  {
   "cell_type": "markdown",
   "metadata": {},
   "source": [
    "And define a function that will return true if running in a Jupyter Notebook"
   ]
  },
  {
   "cell_type": "code",
   "execution_count": null,
   "metadata": {},
   "outputs": [],
   "source": [
    "def is_jupyter():\n",
    "    \"\"\"Return true if running in a Jupyter Notebook\"\"\"\n",
    "    try:\n",
    "        if get_ipython().__class__.__name__ == 'ZMQInteractiveShell':\n",
    "            return True\n",
    "        else:\n",
    "            return False\n",
    "    except: \n",
    "        return False"
   ]
  },
  {
   "cell_type": "markdown",
   "metadata": {},
   "source": [
    "### User specified parameters\n",
    "The following parameters can be specified.\n",
    "\n",
    "Parameter | Meaning\n",
    "--------- | -------\n",
    "<code>number_of_samples</code>| length of the time record to evaluate\n",
    "<code>X</code> | an example waveform that we wish to detect in a data signal"
   ]
  },
  {
   "cell_type": "code",
   "execution_count": null,
   "metadata": {},
   "outputs": [],
   "source": [
    "number_of_samples = 60\n",
    "X = [1, -0.7, -0.3, -0.534, 0.6305, -0.23375]"
   ]
  },
  {
   "cell_type": "markdown",
   "metadata": {},
   "source": [
    "### Plotting Function"
   ]
  },
  {
   "cell_type": "code",
   "execution_count": null,
   "metadata": {},
   "outputs": [],
   "source": [
    "def plot_stem(x, y, title, name):\n",
    "    \"\"\"\n",
    "       Create a stem plot of sample.\n",
    "       \n",
    "       INPUT:\n",
    "            x       (array-like): The x-positions of the stems. \n",
    "            y       (array-like): The y-values of the stem heads.\n",
    "            title       (string): The title of the figure.\n",
    "            name        (string): The name used to save figure.\n",
    "    \"\"\"\n",
    "    plt.figure(figsize = (12, 6))\n",
    "    plt.rcParams.update({'font.size': 16})\n",
    "    \n",
    "    (markerLines, stemLines, baseLines) = plt.stem(x, y, use_line_collection=True)\n",
    "    plt.setp(baseLines, color = 'black', linewidth=1) \n",
    "    markerLines.set_markerfacecolor('none')\n",
    "    \n",
    "    plt.xlabel('Sample')\n",
    "    plt.xlim([0, x[-1]])\n",
    "    plt.ylabel('Output')\n",
    "    plt.title(title)\n",
    "    if not is_jupyter():\n",
    "        plt.tight_layout()\n",
    "        plt.savefig(name)"
   ]
  },
  {
   "cell_type": "markdown",
   "metadata": {},
   "source": [
    "### Generate matched filter and signal\n",
    "A matched filter is a time reversal of the signal that we are looking for.  As in the Inverse filter notebook, we create a signal that consists of noise, and the signal we are looking for added to this noise."
   ]
  },
  {
   "cell_type": "code",
   "execution_count": null,
   "metadata": {},
   "outputs": [],
   "source": [
    "# Create matched filter\n",
    "matched_filter = np.flip(X, 0)\n",
    "\n",
    "# Time index used for plotting\n",
    "n = np.arange(0, number_of_samples)\n",
    "\n",
    "# Generate noisy signal to be analysed\n",
    "noise = np.random.randn(number_of_samples) * 0.1\n",
    "Y = noise.copy()\n",
    "Y[30:30+len(X)] = Y[30:30+len(X)] + X"
   ]
  },
  {
   "cell_type": "markdown",
   "metadata": {},
   "source": [
    "### Apply the matched filter\n",
    "We apply the matched filter, defined above, as we would any other filter.  The output of the filter has the largest peak at the timepoint corresponding to the time at which the signal we are looking for appears."
   ]
  },
  {
   "cell_type": "code",
   "execution_count": null,
   "metadata": {},
   "outputs": [],
   "source": [
    "V = sps.lfilter(matched_filter, [1], Y)\n",
    "\n",
    "title = 'Matched filter output'\n",
    "name = 'Matched_filter.pdf'\n",
    "plot_stem(n, V, title, name)"
   ]
  },
  {
   "cell_type": "markdown",
   "metadata": {},
   "source": [
    "### Non sample spaced delays\n",
    "Now we want to investigate delaying the signal by a non-integer amount.  This can be done using interpolation.  We first of all increase the sampling rate by a factor of 10, then select a set of samples offset by 0.3 from the original samples (i.e. 3 samples at the new sampling rate).  We can then simply subsample these data (there is no need for a decimation filter) to obtain the fractionally shifted samples that we want."
   ]
  },
  {
   "cell_type": "code",
   "execution_count": null,
   "metadata": {},
   "outputs": [],
   "source": [
    "temp = np.zeros(number_of_samples)\n",
    "temp[30:30+len(X)] = X\n",
    "\n",
    "# Resample by a factor of 10\n",
    "highrate_temp = sps.resample_poly(temp, up=10, down=1)\n",
    "\n",
    "# Create an index into the resampled array offset by 3 samples\n",
    "step = np.arange(3, number_of_samples*10, 10)\n",
    "\n",
    "# Extract samples at these timepoints into a new array\n",
    "fractional_spaced = list(highrate_temp[step])\n",
    "\n",
    "# Create noisy version of this new signal\n",
    "Y_frac = noise + fractional_spaced"
   ]
  },
  {
   "cell_type": "markdown",
   "metadata": {},
   "source": [
    "As before, we apply the matched filter and plot it"
   ]
  },
  {
   "cell_type": "code",
   "execution_count": null,
   "metadata": {},
   "outputs": [],
   "source": [
    "U = sps.lfilter(matched_filter, [1], Y_frac)\n",
    "\n",
    "title = 'Matched filter output'\n",
    "name = 'Matched_filter_fractional_spaced.pdf'\n",
    "plot_stem(n, U, title, name)"
   ]
  },
  {
   "cell_type": "markdown",
   "metadata": {},
   "source": [
    "### Upsampling for detection\n",
    "The peak of the output when the input is fractionally mis-aligned to the signal is lower than it was in the first plot on this notebook.  We can use interpolation and matched filtering on this interpolated signal to obtain a higher peak, and also detect the time that the signal appears with better accuracy."
   ]
  },
  {
   "cell_type": "code",
   "execution_count": null,
   "metadata": {},
   "outputs": [],
   "source": [
    "# Upsample the received signal\n",
    "YU = sps.resample_poly(Y_frac, up=20, down=1)\n",
    "nu = np.arange(0, number_of_samples, 1/20)\n",
    "temp = np.zeros(20)\n",
    "temp[0] = 1\n",
    "\n",
    "# Generate a matched filter at this higher sampling rate\n",
    "G = np.kron(matched_filter, temp)\n",
    "\n",
    "# Apply it to the upsampled signal\n",
    "UU = sps.lfilter(G, [1], YU)\n",
    "\n",
    "# and plot it\n",
    "plt.figure(figsize = (12, 6))\n",
    "plt.plot(nu, UU)\n",
    "plt.xlim([0, nu[-1]])\n",
    "plt.title('Matched filter output', fontsize = 16)\n",
    "if not is_jupyter():\n",
    "    plt.tight_layout()\n",
    "    plt.savefig('Matched_filter_fractional_spaced_upsampled.pdf')"
   ]
  },
  {
   "cell_type": "markdown",
   "metadata": {},
   "source": [
    "© The University of Edinburgh: Produced by D. Laurenson, School of Engineering. Initial code conversion by Xing Zixiao."
   ]
  }
 ],
 "metadata": {
  "kernelspec": {
   "display_name": "Python 3",
   "language": "python",
   "name": "python3"
  },
  "language_info": {
   "codemirror_mode": {
    "name": "ipython",
    "version": 3
   },
   "file_extension": ".py",
   "mimetype": "text/x-python",
   "name": "python",
   "nbconvert_exporter": "python",
   "pygments_lexer": "ipython3",
   "version": "3.7.3"
  }
 },
 "nbformat": 4,
 "nbformat_minor": 2
}
