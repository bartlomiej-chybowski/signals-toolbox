{
 "cells": [
  {
   "cell_type": "markdown",
   "metadata": {},
   "source": [
    "# Inverse filter demo used in lecture\n",
    "This notebook is an example of what happens when an inverse filter is used to identify the presence of a signal."
   ]
  },
  {
   "cell_type": "markdown",
   "metadata": {},
   "source": [
    "### Premable\n",
    "Start by importing the Python libraries that we require"
   ]
  },
  {
   "cell_type": "code",
   "execution_count": null,
   "metadata": {},
   "outputs": [],
   "source": [
    "import numpy as np\n",
    "import scipy.signal as sps\n",
    "from IPython import display\n",
    "import matplotlib.pyplot as plt"
   ]
  },
  {
   "cell_type": "markdown",
   "metadata": {},
   "source": [
    "And define a function that will return true if running in a Jupyter Notebook"
   ]
  },
  {
   "cell_type": "code",
   "execution_count": null,
   "metadata": {},
   "outputs": [],
   "source": [
    "def is_jupyter():\n",
    "    \"\"\"Return true if running in a Jupyter Notebook\"\"\"\n",
    "    try:\n",
    "        if get_ipython().__class__.__name__ == 'ZMQInteractiveShell':\n",
    "            return True\n",
    "        else:\n",
    "            return False\n",
    "    except:\n",
    "        return False"
   ]
  },
  {
   "cell_type": "markdown",
   "metadata": {},
   "source": [
    "### User specified parameters\n",
    "The following parameters can be specified.\n",
    "\n",
    "Parameter | Meaning\n",
    "--------- | -------\n",
    "<code>number_of_samples</code>| length of the time record to evaluate\n",
    "<code>X1</code> | an example waveform that we wish to detect in a data signal\n",
    "<code>X2</code> | a second example waveform that we wish to detect"
   ]
  },
  {
   "cell_type": "code",
   "execution_count": null,
   "metadata": {},
   "outputs": [],
   "source": [
    "number_of_samples = 60\n",
    "X1 = [1, 0.4, 0.14, -0.38, 0.2125]\n",
    "X2 = [1, -0.7, -0.3, -0.534, 0.6305, -0.23375]"
   ]
  },
  {
   "cell_type": "markdown",
   "metadata": {},
   "source": [
    "### Plotting Functions"
   ]
  },
  {
   "cell_type": "code",
   "execution_count": null,
   "metadata": {},
   "outputs": [],
   "source": [
    "def plot_stem(x, y, name=''):\n",
    "    \"\"\"\n",
    "       Create a stem plot of inverse filter output.\n",
    "       \n",
    "       INPUT:\n",
    "            x (array-like): The x-positions of the stems. \n",
    "            y (array-like): The y-values of the stem heads.\n",
    "            name  (string): Name of the plot to save\n",
    "    \"\"\"\n",
    "    plt.figure(figsize = (12, 6))\n",
    "    plt.rcParams.update({'font.size': 16})\n",
    "    \n",
    "    (markerLines, stemLines, baseLines) = plt.stem(x, y, use_line_collection = True)\n",
    "    plt.setp(baseLines, color = 'black', linewidth=1) \n",
    "    markerLines.set_markerfacecolor('none')\n",
    "    \n",
    "    plt.xlabel('Sample')\n",
    "    plt.xlim([0, x[-1]])\n",
    "    plt.ylabel('Output')\n",
    "    plt.title('Inverse filter output')\n",
    "    \n",
    "    plt.show()\n",
    "    \n",
    "    if not is_jupyter() and not name:\n",
    "        plt.tight_layout()\n",
    "        plt.savefig(name)"
   ]
  },
  {
   "cell_type": "code",
   "execution_count": null,
   "metadata": {},
   "outputs": [],
   "source": [
    "def pz_plot(z, p):\n",
    "    \"\"\"\n",
    "       Plot the poles and zeros.\n",
    "       \n",
    "       INPUT:\n",
    "           z (complex number): Represent zeros.\n",
    "           p (complex number): Represent poles.\n",
    "           name  (string): Name of plot file to produce.\n",
    "    \"\"\"\n",
    "    \n",
    "    # Create a plot figure\n",
    "    plt.figure(figsize = (12, 6))\n",
    "    plt.rcParams.update({'font.size': 16})\n",
    "    plt.ion()\n",
    "    ax = plt.gca()\n",
    "    \n",
    "    # Set two axes with same standard tick length\n",
    "    ax.set_aspect(1)\n",
    "    \n",
    "    # Plot the unit circle \n",
    "    circle1 = plt.Circle((0, 0), 1, \n",
    "                         color = '#87cefa', \n",
    "                         fill = False,\n",
    "                         linestyle = 'dotted')\n",
    "    \n",
    "    # Plot the two straight lines perpendicular to \n",
    "    # each other through the origin\n",
    "    ax.plot(np.linspace(-2, 2, 100), \n",
    "            np.zeros(100), \n",
    "            color = '#87cefa', \n",
    "            linestyle = 'dotted')\n",
    "    ax.plot(np.zeros(100),\n",
    "            np.linspace(-1, 1, 100),  \n",
    "            color = '#87cefa',\n",
    "            linestyle = 'dotted')\n",
    "    \n",
    "    # Plot zeros \n",
    "    for i in range(len(z)):\n",
    "        ax.plot(np.real(z[i]),\n",
    "                np.imag(z[i]), \n",
    "                'bo', \n",
    "                markerfacecolor = 'none')\n",
    "                \n",
    "    # Plot poles \n",
    "    for i in range(len(p)):\n",
    "        ax.plot(np.real(p[i]), \n",
    "                np.imag(p[i]), \n",
    "                'bx')\n",
    "    \n",
    "    # Plot the origin\n",
    "    ax.plot(0, 0, 'bo', markerfacecolor = 'none')\n",
    "\n",
    "    # Tidy up the plot to control axes sizes and labels\n",
    "    ax.set_xticks(np.linspace(-2, 2, 5))\n",
    "    ax.set_yticks(np.linspace(-1, 1, 5))\n",
    "    ax.set_xlabel('Real Part')\n",
    "    ax.set_ylabel('Imaginary Part')\n",
    "    ax.set_title('Pole-Zero Plot')\n",
    "    ax.add_artist(circle1)"
   ]
  },
  {
   "cell_type": "markdown",
   "metadata": {},
   "source": [
    "### Generate signal\n",
    "Here we produce a signal that is a noisy input, with the signal that we are looking for at a delay of 30 samples."
   ]
  },
  {
   "cell_type": "code",
   "execution_count": null,
   "metadata": {},
   "outputs": [],
   "source": [
    "n = np.arange(0, number_of_samples)\n",
    "\n",
    "noise = np.random.randn(number_of_samples)*0.1\n",
    "Y = noise.copy()\n",
    "Y[30:30+len(X1)] = Y[30:30+len(X1)] + X1"
   ]
  },
  {
   "cell_type": "markdown",
   "metadata": {},
   "source": [
    "### Apply inverse filter\n",
    "We generate a filter that is given by $H(z)=\\frac{1}{X(z)}$, and apply it to the noisy signal, $y(n)$.  From the output, we can see that the signal has been found at the desired location, evidenced by the large value in the inverse filter output."
   ]
  },
  {
   "cell_type": "code",
   "execution_count": null,
   "metadata": {},
   "outputs": [],
   "source": [
    "# Now use an inverse filter on Y\n",
    "W = sps.lfilter([1], X1, Y)\n",
    "\n",
    "# and plot it\n",
    "plot_stem(n, W)"
   ]
  },
  {
   "cell_type": "markdown",
   "metadata": {},
   "source": [
    "### Apply the technique again\n",
    "We repeat the above experiment for the signal $x2(n)$, but this time the output is very different.  Instead of only detecting the presence of the signal within $y(n)$, the magnitude of the inverse filter output grows rapidly, and would continue to grow as we apply the filter to a longer record of the noisy signal."
   ]
  },
  {
   "cell_type": "code",
   "execution_count": null,
   "metadata": {},
   "outputs": [],
   "source": [
    "# Generate the new noisy signal\n",
    "Y = noise.copy()\n",
    "Y[30:30+len(X2)] = Y[30:30+len(X2)] + X2\n",
    "\n",
    "# Now use an inverse filter on Y\n",
    "W = sps.lfilter([1], X2, Y)\n",
    "    \n",
    "# and plot it\n",
    "plot_stem(n, W, name='Inverse_filter.pdf')"
   ]
  },
  {
   "cell_type": "markdown",
   "metadata": {},
   "source": [
    "What has happend is that the inverse filter is unstable, and due to the noise in the input signal, the filter instability expresses itself as exponential growth of the output.  Re-running this script will produce different graphs, but they will all exhibit exponential growth."
   ]
  },
  {
   "cell_type": "markdown",
   "metadata": {},
   "source": [
    "### z-transform of signals\n",
    "Here we plot the z-transforms of the two inverse filters corresponding to the two signals, $x1(n)$, and $x2(n)$.  In the first case, the signal has four zeros, all within the unit circle, so the pole-zero diagram has four poles, all within the unit circle."
   ]
  },
  {
   "cell_type": "code",
   "execution_count": null,
   "metadata": {},
   "outputs": [],
   "source": [
    "# Find the pole, zeros of response\n",
    "(z,p,k) = sps.tf2zpk(1,X1)\n",
    "pz_plot(z, p)"
   ]
  },
  {
   "cell_type": "markdown",
   "metadata": {},
   "source": [
    "In the second case, the input signal has five zeros, one of which is outside the unit circle, so the inverse filter has five poles.  It is the pole outside the unit circle that produces the instability leading to exponential growth of the output."
   ]
  },
  {
   "cell_type": "code",
   "execution_count": null,
   "metadata": {},
   "outputs": [],
   "source": [
    "(z1,p1,k1) = sps.tf2zpk(1,X2)\n",
    "pz_plot(z1, p1)"
   ]
  },
  {
   "cell_type": "markdown",
   "metadata": {},
   "source": [
    "© The University of Edinburgh: Produced by D. Laurenson, School of Engineering. Initial code conversion by Xing Zixiao."
   ]
  }
 ],
 "metadata": {
  "kernelspec": {
   "display_name": "Python 3",
   "language": "python",
   "name": "python3"
  },
  "language_info": {
   "codemirror_mode": {
    "name": "ipython",
    "version": 3
   },
   "file_extension": ".py",
   "mimetype": "text/x-python",
   "name": "python",
   "nbconvert_exporter": "python",
   "pygments_lexer": "ipython3",
   "version": "3.7.3"
  }
 },
 "nbformat": 4,
 "nbformat_minor": 2
}
