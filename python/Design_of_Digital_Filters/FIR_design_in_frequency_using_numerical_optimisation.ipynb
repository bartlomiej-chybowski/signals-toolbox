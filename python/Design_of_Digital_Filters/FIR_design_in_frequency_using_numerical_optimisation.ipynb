{
 "cells": [
  {
   "cell_type": "markdown",
   "metadata": {},
   "source": [
    "# FIR design in the frequency domain using numerical optimisation\n",
    "This script demonstrates how, in practice, FIR filters can be designed using numerical optimisation techniques.  The resulting filters meet the design criteria specified only if there are sufficient taps to accommodate the level of stopband rejection whilst meeting transition band criteria."
   ]
  },
  {
   "cell_type": "markdown",
   "metadata": {},
   "source": [
    "### Preamble\n",
    "Start by importing the Python libraries that we will require"
   ]
  },
  {
   "cell_type": "code",
   "execution_count": null,
   "metadata": {},
   "outputs": [],
   "source": [
    "import numpy as np\n",
    "from scipy import signal\n",
    "import matplotlib.pyplot as plt"
   ]
  },
  {
   "cell_type": "markdown",
   "metadata": {},
   "source": [
    "And define a function that will return true if running in a Jupyter Notebook"
   ]
  },
  {
   "cell_type": "code",
   "execution_count": null,
   "metadata": {},
   "outputs": [],
   "source": [
    "def is_jupyter():\n",
    "    \"\"\"Return true if running in a Jupyter Notebook\"\"\"\n",
    "    try:\n",
    "        if get_ipython().__class__.__name__ == 'ZMQInteractiveShell':\n",
    "            return True\n",
    "        else:\n",
    "            return False\n",
    "    except: \n",
    "        return False"
   ]
  },
  {
   "cell_type": "markdown",
   "metadata": {},
   "source": [
    "### Specify filter criteria\n",
    "Here the filter criteria are specified.\n",
    "\n",
    "For the Remez exchange algorithm implementation in Scipy, the band edges (lower and upper) are specified in the array, <code>bands</code>, with a single entry specifying the gain over that band in <code>desired</code>.  So <code>desired</code> is half of the length of <code>bands</code>.\n",
    "\n",
    "For the Least Squares approach, a variable gain can be specified for each band by specifying the gain at the start and also at the end of each band, so <code>desired</code> is the same length as <code>bands</code>.\n",
    "\n",
    "Weightings of the importance of the different bands can be specified in <code>weights</code> which can be used to enforce stricter, or looser, adherence to the specified criteria.\n",
    "\n",
    "Parameter | Meaning\n",
    "--------- | -------\n",
    "<code>numtaps</code> | The number of taps in the FIR filter. <code>numtaps</code> must be odd for fftls.\n",
    "<code>bands</code> | A monotonic nondecreasing sequence containing the band edges in normalised frequency. All elements must be non-negative and less than or equal 0.5\n",
    "<code>desired_remez</code> | A sequence half the size of bands containing the desired gain of each band\n",
    "<code>desired_ls</code> | A sequence the same size as bands containing the desired gain at the start and end point of each band\n",
    "<code>weight</code>  | A sequence half the size of bands containing the relative weighting of each band\n",
    "<code>fs</code> | Sampling frequency"
   ]
  },
  {
   "cell_type": "code",
   "execution_count": null,
   "metadata": {},
   "outputs": [],
   "source": [
    "numtaps = 65\n",
    "bands = [0, 0.1, 0.12, 0.5]\n",
    "desired_remez = [1, 0]\n",
    "desired_ls = [1, 1, 0, 0]\n",
    "weight = [1, 1]\n",
    "fs = 1"
   ]
  },
  {
   "cell_type": "markdown",
   "metadata": {},
   "source": [
    "### Plotting Functions\n",
    "Here we define the plotting functions that we will use for producing the outputs."
   ]
  },
  {
   "cell_type": "code",
   "execution_count": null,
   "metadata": {},
   "outputs": [],
   "source": [
    "def plot_stem(x, y, name, xlim = [0, 63]):\n",
    "    \"\"\"\n",
    "       Plot FIR frequency design\n",
    "       INPUT: \n",
    "           xlim ([left, right]): set the x limits from let to right. Default: [0, 63].\n",
    "           x       (array-like): The x-positions of the stems\n",
    "           y       (array-like): The y-values of the stem heads.\n",
    "           name        (string): The name used to save figure.\n",
    "    \"\"\"\n",
    "    # Create the plot figure\n",
    "    plt.figure(figsize=(12, 6))\n",
    "    \n",
    "    # Enlarge figure label and axis size\n",
    "    plt.rcParams.update({'font.size': 16})\n",
    "    \n",
    "    # stem plot  \n",
    "    (markerLines, stemLines, baseLines) = plt.stem(x, y, use_line_collection=True)\n",
    "    plt.setp(baseLines, color = 'black', linewidth=1) \n",
    "    plt.setp(stemLines, linewidth=1) \n",
    "    markerLines.set_markersize(8)\n",
    "    markerLines.set_markerfacecolor('none')\n",
    "    \n",
    "    # Tidy up the plot to control axes sizes and labels\n",
    "    plt.xlabel('n')\n",
    "    plt.ylabel('h(n)')\n",
    "    plt.xlim(xlim)\n",
    "    \n",
    "    # Save figure in python or ipython system\n",
    "    if not is_jupyter():\n",
    "        plt.tight_layout()\n",
    "        plt.savefig(name)"
   ]
  },
  {
   "cell_type": "code",
   "execution_count": null,
   "metadata": {},
   "outputs": [],
   "source": [
    "def plot_freq(x, y, name, xlims = [0, 0.5], ylims = [-80, 10]):\n",
    "    \"\"\"\n",
    "       Plot magnitude in dB scale of normalised frequency \n",
    "    \"\"\"\n",
    "    # Create the plot figure\n",
    "    plt.figure(figsize=(12, 6))\n",
    "    \n",
    "    # Enlarge figure label and axis size\n",
    "    plt.rcParams.update({'font.size': 16})\n",
    "    \n",
    "    # Plot the frequency\n",
    "    ax = plt.gca()\n",
    "    ax.plot(x, y)\n",
    "    \n",
    "    # Tidy up the plot to control axes sizes and labels\n",
    "    plt.xlabel('Normalised frequency')\n",
    "    plt.ylabel('Magnitude (dB)')\n",
    "    plt.xlim(xlims)\n",
    "    plt.ylim(ylims)\n",
    "    plt.xticks(np.linspace(0, 0.5, 11))\n",
    "    \n",
    "    # Save figure in python or ipython system\n",
    "    if not is_jupyter():\n",
    "        plt.tight_layout()\n",
    "        plt.savefig(name)"
   ]
  },
  {
   "cell_type": "markdown",
   "metadata": {},
   "source": [
    "### Remez exchange algorithm"
   ]
  },
  {
   "cell_type": "markdown",
   "metadata": {},
   "source": [
    "The first approach is to generate an impulse response using the Remez exchange algorithm"
   ]
  },
  {
   "cell_type": "code",
   "execution_count": null,
   "metadata": {},
   "outputs": [],
   "source": [
    "# Generate impulse response\n",
    "h1 = signal.remez(numtaps, bands, desired_remez, weight=weight, fs=fs)\n",
    "\n",
    "# Zero padd this for plotting\n",
    "z = np.zeros(4096)\n",
    "z[0 : h1.size] = h1\n",
    "\n",
    "n = np.arange(0,h1.size)\n",
    "\n",
    "# Generate frequency index\n",
    "f = np.multiply((fs/4096), np.arange(0, 4096))\n",
    "\n",
    "# Calculate the transfer function corresponding to the impulse response\n",
    "H = 20 * np.log10(abs(np.fft.fft(z)))"
   ]
  },
  {
   "cell_type": "markdown",
   "metadata": {},
   "source": [
    "Plot the filter impulse response"
   ]
  },
  {
   "cell_type": "code",
   "execution_count": null,
   "metadata": {},
   "outputs": [],
   "source": [
    "plot_stem(x = n, y = h1, name = 'FIR_freq_design_remez_impulse.pdf')"
   ]
  },
  {
   "cell_type": "markdown",
   "metadata": {},
   "source": [
    "Plot the transfer function, along with the original samples that were used to generate the impulse response."
   ]
  },
  {
   "cell_type": "code",
   "execution_count": null,
   "metadata": {},
   "outputs": [],
   "source": [
    "plot_freq(x = f, y= H, name = 'FIR_freq_design_remez_freq.pdf')"
   ]
  },
  {
   "cell_type": "markdown",
   "metadata": {},
   "source": [
    "### Least Squares approach"
   ]
  },
  {
   "cell_type": "markdown",
   "metadata": {},
   "source": [
    "The second approach, the Least Squares algorithm, minimises the difference between the desired gain and the actual gain."
   ]
  },
  {
   "cell_type": "code",
   "execution_count": null,
   "metadata": {},
   "outputs": [],
   "source": [
    "# Generate impulse response\n",
    "h2 = signal.firls(numtaps, bands, desired_ls, weight=weight, fs=fs)\n",
    "\n",
    "# Zero padd this for plotting\n",
    "z[0 : h2.size] = h2\n",
    "\n",
    "n = np.arange(0,h2.size)\n",
    "\n",
    "# Generate frequency index\n",
    "f = np.multiply((fs/4096), np.arange(0, 4096))\n",
    "\n",
    "# Calculate the transfer function corresponding to the impulse response\n",
    "H = 20 * np.log10(abs(np.fft.fft(z)))"
   ]
  },
  {
   "cell_type": "markdown",
   "metadata": {},
   "source": [
    "Plot the impulse response"
   ]
  },
  {
   "cell_type": "code",
   "execution_count": null,
   "metadata": {},
   "outputs": [],
   "source": [
    "plot_stem(x = n, y = h2, name = 'FIR_freq_design_ls_impulse.pdf')"
   ]
  },
  {
   "cell_type": "markdown",
   "metadata": {},
   "source": [
    "Plot the transfer function"
   ]
  },
  {
   "cell_type": "code",
   "execution_count": null,
   "metadata": {},
   "outputs": [],
   "source": [
    "plot_freq(x = f, y = H, name = 'FIR_freq_design_ls_freq.pdf')"
   ]
  },
  {
   "cell_type": "markdown",
   "metadata": {},
   "source": [
    "© The University of Edinburgh: Produced by D. Laurenson, School of Engineering. Initial code conversion by Xing Zixiao."
   ]
  }
 ],
 "metadata": {
  "kernelspec": {
   "display_name": "Python 3",
   "language": "python",
   "name": "python3"
  },
  "language_info": {
   "codemirror_mode": {
    "name": "ipython",
    "version": 3
   },
   "file_extension": ".py",
   "mimetype": "text/x-python",
   "name": "python",
   "nbconvert_exporter": "python",
   "pygments_lexer": "ipython3",
   "version": "3.7.6"
  }
 },
 "nbformat": 4,
 "nbformat_minor": 2
}
