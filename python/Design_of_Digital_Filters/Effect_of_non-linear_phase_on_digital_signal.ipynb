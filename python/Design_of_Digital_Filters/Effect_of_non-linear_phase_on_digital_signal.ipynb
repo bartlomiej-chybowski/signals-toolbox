{
 "cells": [
  {
   "cell_type": "markdown",
   "metadata": {},
   "source": [
    "# The importance of linear phase when filtering\n",
    "In certain situations, for example digital communications, it is important that all filters that are designed have linear phase.  In this notebook we design a filter that does not attenuate any frequency, but instead alters only the phase of the input in a non-linear fashion.  As a result of this process, the signal no longer has an obvious digital structure."
   ]
  },
  {
   "cell_type": "markdown",
   "metadata": {},
   "source": [
    "### Preamble\n",
    "Start by importing the Python libraries that we will require"
   ]
  },
  {
   "cell_type": "code",
   "execution_count": null,
   "metadata": {},
   "outputs": [],
   "source": [
    "import numpy as np\n",
    "import matplotlib.pyplot as plt\n",
    "import scipy.signal as sps"
   ]
  },
  {
   "cell_type": "markdown",
   "metadata": {},
   "source": [
    "And define a function that will return true if running in a Jupyter Notebook"
   ]
  },
  {
   "cell_type": "code",
   "execution_count": null,
   "metadata": {},
   "outputs": [],
   "source": [
    "def is_jupyter():\n",
    "    \"\"\"Return true if running in a Jupyter Notebook\"\"\"\n",
    "    try:\n",
    "        if get_ipython().__class__.__name__ == 'ZMQInteractiveShell':\n",
    "            return True\n",
    "        else:\n",
    "            return False\n",
    "    except: \n",
    "        return False"
   ]
  },
  {
   "cell_type": "markdown",
   "metadata": {},
   "source": [
    "### User specified parameters\n",
    "\n",
    "The following parameters can be specified.  \n",
    "\n",
    "Parameter | Meaning\n",
    "--------- | -------\n",
    "<code>symbols</code> | Number of data symbols (e.g. 10)\n",
    "<code>subsamples</code> | Number of time samples to take for each symbol (e.g. 40)\n"
   ]
  },
  {
   "cell_type": "code",
   "execution_count": null,
   "metadata": {},
   "outputs": [],
   "source": [
    "symbols = 10\n",
    "subsamples = 40"
   ]
  },
  {
   "cell_type": "markdown",
   "metadata": {},
   "source": [
    "### Define poles and corresponding zeros within the unit circle\n",
    "The following defines an all-pass filter, which means all frequencies are subject to the same gain, and none are attenuated.  It achieves this by ensuring that all poles are matched with a corresponding zero in the reciprocal position.  The phase changes that the filter introduces are a result of the angular location of the poles (and zeros)"
   ]
  },
  {
   "cell_type": "code",
   "execution_count": null,
   "metadata": {},
   "outputs": [],
   "source": [
    "# Define a set of poles that will result in the phase change we desire\n",
    "# In order to make sure that the output is real, all poles must be\n",
    "# matched with their complex conjugates.  (The exception is poles that\n",
    "# are already real).\n",
    "p = np.zeros(5, dtype=complex)\n",
    "p[0] = 0.8 * np.exp(1j*2*np.pi/8)\n",
    "p[1] = p[0].conjugate()\n",
    "p[2] = 0.9 * np.exp(1j*np.pi/8)\n",
    "p[3] = p[2].conjugate()\n",
    "p[4] = 0.95\n",
    "\n",
    "# Generate zeros that correspond to these, remembering to take the complex\n",
    "# conjugate so that the pole and zero have the same angle on the Argand\n",
    "# diagram.  The resulting transfer function will be frequency independent\n",
    "# (i.e. flat).\n",
    "z = np.zeros(len(p), dtype=complex)\n",
    "for i in range(len(p)):\n",
    "    z[i] = 1 / p[i].conjugate()\n",
    "\n",
    "# Combine all of the poles and zeros into a single tapped delay line\n",
    "a = [1]\n",
    "b = [1]\n",
    "for i in range(len(p)):\n",
    "    a = np.convolve(a,[1, -p[i]])\n",
    "    b = np.convolve(b,[1, -z[i]])"
   ]
  },
  {
   "cell_type": "markdown",
   "metadata": {},
   "source": [
    "### Normalise the filter to give a gain of 1\n",
    "We want the gain of the filter (and that means all frequencies) to be 1.  This is easily done by scaling the numerator by the inverse of the sum of all of the filter coefficients"
   ]
  },
  {
   "cell_type": "code",
   "execution_count": null,
   "metadata": {},
   "outputs": [],
   "source": [
    "b = b * sum(a) / sum(b)"
   ]
  },
  {
   "cell_type": "markdown",
   "metadata": {},
   "source": [
    "### Generate a data sequence\n",
    "To demonstrate the effect on a digital signal, we will generate a set of data samples"
   ]
  },
  {
   "cell_type": "code",
   "execution_count": null,
   "metadata": {},
   "outputs": [],
   "source": [
    "# randint returns random integers from 1 (inclusive) to 3 (exclusive)\n",
    "# with output size symbols (i.e. 1 or 2).  We subtract 1 to make this\n",
    "# 0 or 1\n",
    "data = np.random.randint(1, 3, symbols) - 1\n",
    "\n",
    "# Expand it in the time domain so that we can observe the transients\n",
    "# Kronecker product of two arrays\n",
    "expanded = np.kron(data, np.ones(subsamples))\n",
    "\n",
    "# Filter the expanded waveform\n",
    "output = sps.lfilter(b, a, expanded)"
   ]
  },
  {
   "cell_type": "markdown",
   "metadata": {},
   "source": [
    "### Plot the resulting signals\n",
    "After filtering we can observe the difference that altering the phase will make.  It is evident that the waveform is severely distorted, and it would be very difficult to work out what the original data sequence was."
   ]
  },
  {
   "cell_type": "code",
   "execution_count": null,
   "metadata": {},
   "outputs": [],
   "source": [
    "# For plotting, determine the timescale in terms of symbols\n",
    "t = np.arange(0, (len(output))) / subsamples\n",
    "\n",
    "# Plot the original data along with the output from the filter\n",
    "plt.figure(figsize = (12, 6))\n",
    "# update label and axis fontsize\n",
    "plt.rcParams.update({'font.size': 16})\n",
    "# get current axis\n",
    "ax = plt.gca()\n",
    "ax.plot(t, expanded, label = 'Original data')\n",
    "ax.plot(t, output.real, label = 'Altered phase')\n",
    "\n",
    "plt.xlabel('Symbol time')\n",
    "plt.ylabel('Amplitude')\n",
    "plt.legend()\n",
    "\n",
    "# Save figure in python or ipython system\n",
    "if not is_jupyter(): plt.savefig('non_linear_phase_example.pdf')"
   ]
  },
  {
   "cell_type": "markdown",
   "metadata": {},
   "source": [
    "© The University of Edinburgh: Produced by D. Laurenson, School of Engineering. Initial code conversion by Xing Zixiao."
   ]
  }
 ],
 "metadata": {
  "kernelspec": {
   "display_name": "Python 3",
   "language": "python",
   "name": "python3"
  },
  "language_info": {
   "codemirror_mode": {
    "name": "ipython",
    "version": 3
   },
   "file_extension": ".py",
   "mimetype": "text/x-python",
   "name": "python",
   "nbconvert_exporter": "python",
   "pygments_lexer": "ipython3",
   "version": "3.7.6"
  }
 },
 "nbformat": 4,
 "nbformat_minor": 2
}
