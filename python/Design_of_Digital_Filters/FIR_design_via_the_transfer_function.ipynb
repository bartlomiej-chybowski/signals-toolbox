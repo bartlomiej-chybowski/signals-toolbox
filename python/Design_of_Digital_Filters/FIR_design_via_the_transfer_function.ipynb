{
 "cells": [
  {
   "cell_type": "markdown",
   "metadata": {},
   "source": [
    "# FIR design via the transfer function\n",
    "In this script, I have used the tables of transition values for the filters that are generated.  If the cut-off frequency, or the number of taps is altered, new coefficinets will be required from the tables."
   ]
  },
  {
   "cell_type": "markdown",
   "metadata": {},
   "source": [
    "### Preamble\n",
    "Start by importing the Python libraries that we will require"
   ]
  },
  {
   "cell_type": "code",
   "execution_count": null,
   "metadata": {},
   "outputs": [],
   "source": [
    "import numpy as np\n",
    "import matplotlib.pyplot as plt"
   ]
  },
  {
   "cell_type": "markdown",
   "metadata": {},
   "source": [
    "And define a function that will return true if running in a Jupyter Notebook"
   ]
  },
  {
   "cell_type": "code",
   "execution_count": null,
   "metadata": {},
   "outputs": [],
   "source": [
    "def is_jupyter():\n",
    "    \"\"\"Return true if running in a Jupyter Notebook\"\"\"\n",
    "    try:\n",
    "        if get_ipython().__class__.__name__ == 'ZMQInteractiveShell':\n",
    "            return True\n",
    "        else:\n",
    "            return False\n",
    "    except: \n",
    "        return False"
   ]
  },
  {
   "cell_type": "markdown",
   "metadata": {},
   "source": [
    "### Generate impulse response\n",
    "From samples of the frequencey response we can generate the required impulse response.  The parameters are a set of sample points, $\\alpha$, and the number of taps."
   ]
  },
  {
   "cell_type": "code",
   "execution_count": null,
   "metadata": {},
   "outputs": [],
   "source": [
    "def generate_impulse_response(freq_samples, alpha, ir_len):\n",
    "    # Generate the index of impulse response samples\n",
    "    n = np.arange(0,ir_len)\n",
    "    \n",
    "    # Initialise the returned impulse response\n",
    "    h = np.zeros(ir_len)\n",
    "    \n",
    "    # Now implement the formula that generates the impulse\n",
    "    # response given the frequency samples\n",
    "\n",
    "    # The impulse response function depends on the value of alpha\n",
    "    if alpha==0:\n",
    "        # Our samples start with a d.c. term\n",
    "        h = np.ones(ir_len)*freq_samples[0]\n",
    "        # Now add in all of the other frequency terms\n",
    "        for idx in range(1,len(freq_samples)):\n",
    "            h = h + (-1)**idx * freq_samples[idx] * \\\n",
    "                2 * np.cos(np.pi*2*idx*(n+0.5)/ir_len)\n",
    "    else:\n",
    "        # There is no d.c. term when alpha=0.5\n",
    "        for idx in range(0,len(freq_samples)):\n",
    "            h = h + (-1)**idx * freq_samples[idx] * \\\n",
    "                2 * np.sin(np.pi*(2*idx+1)*(n+0.5)/ir_len)\n",
    "    h = h/64;\n",
    "\n",
    "    return(h)"
   ]
  },
  {
   "cell_type": "markdown",
   "metadata": {},
   "source": [
    "### Plotting Functions\n",
    "Here we define the plotting functions that we will use for producing the outputs."
   ]
  },
  {
   "cell_type": "code",
   "execution_count": null,
   "metadata": {},
   "outputs": [],
   "source": [
    "def plot_stem(x, y, name, xlim = [0, 63]):\n",
    "    \"\"\"\n",
    "       Plot FIR frequency design\n",
    "       INPUT: \n",
    "           xlim ([left, right]): set the x limits from let to right. Default: [0, 63].\n",
    "           x       (array-like): The x-positions of the stems\n",
    "           y       (array-like): The y-values of the stem heads.\n",
    "           name        (string): The name used to save figure.\n",
    "    \"\"\"\n",
    "    # Create the plot figure\n",
    "    plt.figure(figsize=(12, 6))\n",
    "    \n",
    "    # Enlarge figure label and axis size\n",
    "    plt.rcParams.update({'font.size': 16})\n",
    "    \n",
    "    # stem plot  \n",
    "    (markerLines, stemLines, baseLines) = plt.stem(x, y, use_line_collection=True)\n",
    "    plt.setp(baseLines, color = 'black', linewidth=1) \n",
    "    plt.setp(stemLines, linewidth=1) \n",
    "    markerLines.set_markersize(8)\n",
    "    markerLines.set_markerfacecolor('none')\n",
    "    \n",
    "    # Tidy up the plot to control axes sizes and labels\n",
    "    plt.xlabel('n')\n",
    "    plt.ylabel('h(n)')\n",
    "    plt.xlim(xlim)\n",
    "    \n",
    "    # Save figure in python or ipython system\n",
    "    if not is_jupyter():\n",
    "        plt.tight_layout()\n",
    "        plt.savefig(name)"
   ]
  },
  {
   "cell_type": "code",
   "execution_count": null,
   "metadata": {},
   "outputs": [],
   "source": [
    "def plot_freq(x, y, x1, y1, name, xlims = [0, 0.5], ylims = [-80, 10]):\n",
    "    \"\"\"\n",
    "       Plot magnitude in dB scale of normalised frequency \n",
    "    \"\"\"\n",
    "    # Create the plot figure\n",
    "    plt.figure(figsize=(12, 6))\n",
    "    \n",
    "    # Enlarge figure label and axis size\n",
    "    plt.rcParams.update({'font.size': 16})\n",
    "    \n",
    "    # Plot the frequency\n",
    "    ax = plt.gca()\n",
    "    ax.plot(x, y)\n",
    "    ax.plot(x1, y1, 's', markerfacecolor = 'none', markersize = 8)\n",
    "    \n",
    "    # Tidy up the plot to control axes sizes and labels\n",
    "    plt.xlabel('Normalised frequency')\n",
    "    plt.ylabel('Magnitude (dB)')\n",
    "    plt.xlim(xlims)\n",
    "    plt.ylim(ylims)\n",
    "    plt.xticks(np.linspace(0, 0.5, 11))\n",
    "    \n",
    "    # Save figure in python or ipython system\n",
    "    if not is_jupyter():\n",
    "        plt.tight_layout()\n",
    "        plt.savefig(name)"
   ]
  },
  {
   "cell_type": "markdown",
   "metadata": {},
   "source": [
    "### Naïve $\\alpha=0$"
   ]
  },
  {
   "cell_type": "markdown",
   "metadata": {},
   "source": [
    "Here we will define the filter by inverting the samples of the desired transfer function.  In the passband the samples will have a value of 1, and in the stopband a value of 0.  This results in the impulse response consisting of 7 complex exponentials, which simplify to a constant term, plus 3 cosine terms."
   ]
  },
  {
   "cell_type": "code",
   "execution_count": null,
   "metadata": {},
   "outputs": [],
   "source": [
    "# Generate impulse response\n",
    "h1 = generate_impulse_response(freq_samples=[1,1,1,1], alpha=0, ir_len=64)\n",
    "\n",
    "# Zero padd this for plotting\n",
    "z = np.zeros(4096)\n",
    "z[0:64] = h1\n",
    "\n",
    "n = np.arange(0,h1.size)\n",
    "\n",
    "# Calculate the spacing of the samples so that we can plot them separately on the final plot\n",
    "spacing = z.size / n.size\n",
    "\n",
    "# Generate frequency index\n",
    "f = np.multiply((1/4096), np.arange(0, 4096))\n",
    "\n",
    "# Calculate the transfer function corresponding to the impulse response\n",
    "H = 20 * np.log10(abs(np.fft.fft(z)))"
   ]
  },
  {
   "cell_type": "markdown",
   "metadata": {},
   "source": [
    "Plot the filter impulse response"
   ]
  },
  {
   "cell_type": "code",
   "execution_count": null,
   "metadata": {},
   "outputs": [],
   "source": [
    "plot_stem(x = n, y = h1, name = 'FIR_freq_design_naive_alpha_0.pdf')"
   ]
  },
  {
   "cell_type": "markdown",
   "metadata": {},
   "source": [
    "Plot the transfer function, along with the original samples that were used to generate the impulse response."
   ]
  },
  {
   "cell_type": "code",
   "execution_count": null,
   "metadata": {
    "scrolled": false
   },
   "outputs": [],
   "source": [
    "plot_freq(x = f, y= H, x1 = f[0 : -1 : int(spacing)], y1 = H[0 : -1 : int(spacing)], \n",
    "          name = 'FIR_freq_design_naive_alpha_0_transfer.pdf')"
   ]
  },
  {
   "cell_type": "markdown",
   "metadata": {},
   "source": [
    "### Naïve $\\alpha=0.5$"
   ]
  },
  {
   "cell_type": "markdown",
   "metadata": {},
   "source": [
    "If $\\alpha=0.5$, then the first sample is offset from the d.c. value, and we end up with 6 complex exponential terms that result in three sinusoidal terms."
   ]
  },
  {
   "cell_type": "code",
   "execution_count": null,
   "metadata": {},
   "outputs": [],
   "source": [
    "# Generate impulse response\n",
    "h2 = generate_impulse_response(freq_samples=[1,1,1], alpha=0.5, ir_len=64)\n",
    "\n",
    "# Zero padd this for plotting\n",
    "z[0 : 64] = h2\n",
    "\n",
    "fft = np.fft.fft(z)\n",
    "# Avoid zero when calcuating the log of the fft\n",
    "fft = np.where(fft == 0, 1e-99, fft)\n",
    "\n",
    "# Convert to dBs\n",
    "H = 20 * np.log10(abs(fft))"
   ]
  },
  {
   "cell_type": "markdown",
   "metadata": {},
   "source": [
    "Plot the impulse response"
   ]
  },
  {
   "cell_type": "code",
   "execution_count": null,
   "metadata": {},
   "outputs": [],
   "source": [
    "plot_stem(x = n, y = h2, name = 'FIR_freq_design_naive_alpha_0_5.pdf')"
   ]
  },
  {
   "cell_type": "markdown",
   "metadata": {},
   "source": [
    "Plot the transfer function"
   ]
  },
  {
   "cell_type": "code",
   "execution_count": null,
   "metadata": {},
   "outputs": [],
   "source": [
    "plot_freq(x = f, y = H, \n",
    "          x1 = f[int(spacing/2) : -1 : int(spacing)],\n",
    "          y1 = H[int(spacing/2) : -1 : int(spacing)], \n",
    "          name = 'FIR_freq_design_naive_alpha_0_5_transfer.pdf')"
   ]
  },
  {
   "cell_type": "markdown",
   "metadata": {},
   "source": [
    "### One transition coefficient with $\\alpha=0$ "
   ]
  },
  {
   "cell_type": "markdown",
   "metadata": {},
   "source": [
    "This time, an additional term is added to the impusle response for a single transition coefficient beyond the end of the passband.  The coefficient value comes from the transition table for a 64 tap filter.\n",
    "\n",
    " BW  |     Minimax  |         T1\n",
    " ----|--------------|-----------\n",
    "  1  | -43.13807279 | 0.42903727\n",
    "  2  | -42.60259151 | 0.40895721\n",
    "  3  | -42.69454422 | 0.39915214\n",
    "  4  | -42.85522858 | 0.39331863\n",
    "  5  | -43.00406441 | 0.38946941\n",
    "  6  | -43.12866660 | 0.38676437\n",
    "  7  | -43.22994751 | 0.38478417\n",
    "  8  | -43.31122440 | 0.38329559\n",
    "  9  | -43.37573423 | 0.38215883\n",
    " 10  | -43.42611473 | 0.38128542\n",
    " 11  | -43.46438014 | 0.38061717\n",
    " 12  | -43.49200682 | 0.38011496\n",
    " 13  | -43.51002055 | 0.37975218\n",
    " 14  | -43.51906829 | 0.37951108\n",
    " 15  | -43.51893143 | 0.37938262\n",
    " 16  | -43.50337124 | 0.37938706\n",
    " 17  | -43.47679197 | 0.37950305\n",
    " 18  | -43.43819276 | 0.37973491\n",
    " 19  | -43.38607107 | 0.38009185\n",
    " 20  | -43.31829832 | 0.38058889\n",
    " 21  | -43.23194758 | 0.38124808\n",
    " 22  | -43.12306250 | 0.38210045\n",
    " 23  | -42.98644138 | 0.38318832\n",
    " 24  | -42.81568133 | 0.38456685\n",
    " 25  | -42.58989504 | 0.38636397\n",
    " 26  | -42.29372477 | 0.38869300\n",
    " 27  | -42.12359373 | 0.39071338\n",
    " 28  | -42.33104649 | 0.39131769\n",
    " 29  | -43.66271612 | 0.38754643\n",
    " 30  | -49.58953218 | 0.37016432"
   ]
  },
  {
   "cell_type": "code",
   "execution_count": null,
   "metadata": {},
   "outputs": [],
   "source": [
    "# Generate impulse response\n",
    "h1 = generate_impulse_response(freq_samples=[1,1,1,1,0.39331863], alpha=0, ir_len=64)\n",
    "\n",
    "z[0:64] = h1\n",
    "\n",
    "fft = np.fft.fft(z)\n",
    "# Avoid zero when calcuating the log of the fft\n",
    "fft = np.where(fft == 0, 1e-99, fft)\n",
    "\n",
    "# Convert to dBs\n",
    "H = 20 * np.log10(abs(fft))"
   ]
  },
  {
   "cell_type": "markdown",
   "metadata": {},
   "source": [
    "Plot the impulse response"
   ]
  },
  {
   "cell_type": "code",
   "execution_count": null,
   "metadata": {},
   "outputs": [],
   "source": [
    "plot_stem(x = n, y = h1, name = 'FIR_freq_design_transition_alpha_0.pdf')"
   ]
  },
  {
   "cell_type": "markdown",
   "metadata": {},
   "source": [
    "Plot the transfer function"
   ]
  },
  {
   "cell_type": "code",
   "execution_count": null,
   "metadata": {},
   "outputs": [],
   "source": [
    "plot_freq(x = f, y = H, \n",
    "          x1 = f[0 : -1 : int(spacing)], \n",
    "          y1 = H[0 : -1 : int(spacing)],\n",
    "          name = 'FIR_freq_design_transition_alpha_0_transfer.pdf')"
   ]
  },
  {
   "cell_type": "markdown",
   "metadata": {},
   "source": [
    "### One transition coefficient with $\\alpha=0.5$"
   ]
  },
  {
   "cell_type": "markdown",
   "metadata": {},
   "source": [
    "As before, the filter consists of sine terms, again with one additional term due to the transition coefficient.\n",
    "\n",
    " BW  |     Minimax  |         T1\n",
    " ----|--------------|-----------\n",
    "  1  | -53.03119136 | 0.25847710\n",
    "  2  | -49.90350952 | 0.30463711\n",
    "  3  | -48.60291028 | 0.32300712\n",
    "  4  | -47.86102764 | 0.33277230\n",
    "  5  | -47.33367822 | 0.33893119\n",
    "  6  | -46.97754010 | 0.34302388\n",
    "  7  | -46.72567773 | 0.34589374\n",
    "  8  | -46.54255107 | 0.34797697\n",
    "  9  | -46.40768757 | 0.34952025\n",
    " 10  | -46.30861640 | 0.35067226\n",
    " 11  | -46.23747411 | 0.35152665\n",
    " 12  | -46.18925238 | 0.35214388\n",
    " 13  | -46.16084315 | 0.35256314\n",
    " 14  | -46.15052183 | 0.35280889\n",
    " 15  | -46.15767925 | 0.35289461\n",
    " 16  | -46.18272939 | 0.35282465\n",
    " 17  | -46.22717577 | 0.35259477\n",
    " 18  | -46.29383352 | 0.35219155\n",
    " 19  | -46.38729611 | 0.35159035\n",
    " 20  | -46.51478209 | 0.35075138\n",
    " 21  | -46.68769185 | 0.34961255\n",
    " 22  | -46.92458433 | 0.34807636\n",
    " 23  | -47.14487469 | 0.34637292\n",
    " 24  | -47.42740283 | 0.34413830\n",
    " 25  | -47.84619508 | 0.34098168\n",
    " 26  | -48.51462320 | 0.33629501\n",
    " 27  | -49.71903979 | 0.32876324\n",
    " 28  | -52.43790432 | 0.31493401\n",
    " 29  | -57.56537219 | 0.29131653\n",
    " 30  | -75.23313068 | 0.23754895"
   ]
  },
  {
   "cell_type": "code",
   "execution_count": null,
   "metadata": {},
   "outputs": [],
   "source": [
    "h2 = generate_impulse_response(freq_samples=[1,1,1,0.32300712], alpha=0.5, ir_len=64)\n",
    "\n",
    "z[0:64] = h2\n",
    "\n",
    "fft = np.fft.fft(z)\n",
    "# Avoid zero when calcuating the log of the fft\n",
    "fft = np.where(fft == 0, 1e-99, fft)\n",
    "\n",
    "# Convert to dBs\n",
    "H = 20 * np.log10(abs(fft))"
   ]
  },
  {
   "cell_type": "markdown",
   "metadata": {},
   "source": [
    "Plot the impulse response"
   ]
  },
  {
   "cell_type": "code",
   "execution_count": null,
   "metadata": {},
   "outputs": [],
   "source": [
    "plot_stem(x = n, y = h2, name = 'FIR_freq_design_transition_alpha_0_5.pdf')"
   ]
  },
  {
   "cell_type": "markdown",
   "metadata": {},
   "source": [
    "Plot the transfer function"
   ]
  },
  {
   "cell_type": "code",
   "execution_count": null,
   "metadata": {},
   "outputs": [],
   "source": [
    "plot_freq(x = f, y = H,\n",
    "          x1 = f[int(spacing/2) : -1 : int(spacing)],\n",
    "          y1 = H[int(spacing/2) : -1 : int(spacing)],\n",
    "          name = 'FIR_freq_design_transition_alpha_0_5_transfer.pdf')"
   ]
  },
  {
   "cell_type": "markdown",
   "metadata": {},
   "source": [
    "### Two transition coefficients with $\\alpha=0$"
   ]
  },
  {
   "cell_type": "markdown",
   "metadata": {},
   "source": [
    "We can add more transition coefficients to improve the stopband rejection.  Here we add two term|s to the original impusle response for two transition coefficients beyond the end of the passband.|\n",
    "\n",
    " BW  |     Minimax  |         T1 |         T2\n",
    " ----|--------------|------------|-----------\n",
    "  1  | -71.34605669 | 0.09263874 | 0.58655937\n",
    "  2  | -68.95100188 | 0.10431198 | 0.59506849\n",
    "  3  | -67.93254397 | 0.10747244 | 0.59610745\n",
    "  4  | -67.44900166 | 0.10856629 | 0.59575155\n",
    "  5  | -67.18725918 | 0.10895954 | 0.59509665\n",
    "  6  | -67.03460832 | 0.10907286 | 0.59442057\n",
    "  7  | -66.93190177 | 0.10909093 | 0.59383920\n",
    "  8  | -66.86171016 | 0.10906313 | 0.59334310\n",
    "  9  | -66.80449374 | 0.10903805 | 0.59295723\n",
    " 10  | -66.75452398 | 0.10902604 | 0.59266770\n",
    " 11  | -66.70635147 | 0.10903719 | 0.59247065\n",
    " 12  | -66.65580479 | 0.10907898 | 0.59236442\n",
    " 13  | -66.61315306 | 0.10911932 | 0.59229093\n",
    " 14  | -66.58374846 | 0.10914004 | 0.59221566\n",
    " 15  | -66.56856078 | 0.10913574 | 0.59212528\n",
    " 16  | -66.56996407 | 0.10909761 | 0.59200254\n",
    " 17  | -66.59197182 | 0.10901270 | 0.59182471\n",
    " 18  | -66.64072153 | 0.10886269 | 0.59156137\n",
    " 19  | -66.72532703 | 0.10862172 | 0.59117104\n",
    " 20  | -66.85935189 | 0.10825315 | 0.59059591\n",
    " 21  | -67.06340089 | 0.10770412 | 0.58975335\n",
    " 22  | -67.36988614 | 0.10689648 | 0.58852172\n",
    " 23  | -67.83240144 | 0.10571086 | 0.58671529\n",
    " 24  | -68.54578277 | 0.10395716 | 0.58403729\n",
    " 25  | -69.37429612 | 0.10137252 | 0.57991904\n",
    " 26  | -70.53978036 | 0.09751009 | 0.57365691\n",
    " 27  | -72.63886162 | 0.09144898 | 0.56377692\n",
    " 28  | -77.12408773 | 0.08131032 | 0.54699381\n",
    " 29  | -90.13150301 | 0.06310367 | 0.51528633"
   ]
  },
  {
   "cell_type": "code",
   "execution_count": null,
   "metadata": {},
   "outputs": [],
   "source": [
    "h1 = generate_impulse_response(freq_samples=[1,1,1,1,0.59575155,0.10856629], alpha=0, ir_len=64)\n",
    "\n",
    "z[0:64] = h1\n",
    "\n",
    "fft = np.fft.fft(z)\n",
    "# Avoid zero when calcuating the log of the fft\n",
    "fft = np.where(fft == 0, 1e-99, fft)\n",
    "\n",
    "# Convert to dBs\n",
    "H = 20 * np.log10(abs(fft))"
   ]
  },
  {
   "cell_type": "markdown",
   "metadata": {},
   "source": [
    "Plot the transfer function"
   ]
  },
  {
   "cell_type": "code",
   "execution_count": null,
   "metadata": {},
   "outputs": [],
   "source": [
    "plot_freq(x = f, y = H,\n",
    "          x1 = f[0 : -1 : int(spacing)],\n",
    "          y1 = H[0 : -1 : int(spacing)],\n",
    "          name = 'FIR_freq_design_two_transition_alpha_0_transfer.pdf')"
   ]
  },
  {
   "cell_type": "markdown",
   "metadata": {},
   "source": [
    "### Two transition coefficients with $\\alpha=0.5$"
   ]
  },
  {
   "cell_type": "markdown",
   "metadata": {},
   "source": [
    "As we have done above, we add two terms to the original impulse response expression.\n",
    "\n",
    " BW  |     Minimax  |         T1 |         T2\n",
    " ----|--------------|------------|-----------\n",
    "  1  | -81.97820165 | 0.04489532 | 0.39745787\n",
    "  2  | -77.47677603 | 0.06234297 | 0.47253399\n",
    "  3  | -75.43366003 | 0.07130853 | 0.50308407\n",
    "  4  | -74.24422323 | 0.07671668 | 0.51940171\n",
    "  5  | -73.46603435 | 0.08030149 | 0.52943714\n",
    "  6  | -72.93950065 | 0.08277505 | 0.53606168\n",
    "  7  | -72.56980748 | 0.08454181 | 0.54066095\n",
    "  8  | -72.30567792 | 0.08582789 | 0.54395301\n",
    "  9  | -72.11738551 | 0.08676782 | 0.54634301\n",
    " 10  | -71.98698265 | 0.08744490 | 0.54807309\n",
    " 11  | -71.90354545 | 0.08791162 | 0.54929296\n",
    " 12  | -71.86074494 | 0.08820051 | 0.55009562\n",
    " 13  | -71.85560193 | 0.08832996 | 0.55053620\n",
    " 14  | -71.88797277 | 0.08830718 | 0.55064184\n",
    " 15  | -71.96055865 | 0.08812921 | 0.55041587\n",
    " 16  | -72.07948268 | 0.08778219 | 0.54983786\n",
    " 17  | -72.25485704 | 0.08724091 | 0.54886332\n",
    " 18  | -72.43054548 | 0.08666751 | 0.54778241\n",
    " 19  | -72.67739161 | 0.08586042 | 0.54622555\n",
    " 20  | -73.02645554 | 0.08473955 | 0.54403565\n",
    " 21  | -73.53427215 | 0.08316908 | 0.54094465\n",
    " 22  | -74.10930839 | 0.08139764 | 0.53737357\n",
    " 23  | -74.88277545 | 0.07910531 | 0.53268557\n",
    " 24  | -76.19851979 | 0.07559324 | 0.52548201\n",
    " 25  | -77.70372654 | 0.07169698 | 0.51714360\n",
    " 26  | -80.60026196 | 0.06542802 | 0.50351323\n",
    " 27  | -84.97097160 | 0.05729977 | 0.48466304\n",
    " 28  | -97.31820422 | 0.04306546 | 0.44907719\n",
    " 29  | -127.60738638 | 0.02428725 | 0.39014979"
   ]
  },
  {
   "cell_type": "code",
   "execution_count": null,
   "metadata": {},
   "outputs": [],
   "source": [
    "h2 = generate_impulse_response(freq_samples=[1,1,1,0.50308407,0.07130853], alpha=0.5, ir_len=64)\n",
    "\n",
    "z[0:64] = h2\n",
    "\n",
    "fft = np.fft.fft(z)\n",
    "# Avoid zero when calcuating the log of the fft\n",
    "fft = np.where(fft == 0, 1e-99, fft)\n",
    "\n",
    "# Convert to dBs\n",
    "H = 20 * np.log10(abs(fft))"
   ]
  },
  {
   "cell_type": "markdown",
   "metadata": {},
   "source": [
    "Plot the transfer function"
   ]
  },
  {
   "cell_type": "code",
   "execution_count": null,
   "metadata": {},
   "outputs": [],
   "source": [
    "plot_freq(x = f, y = H,\n",
    "          x1 = f[int(spacing/2): -1 : int(spacing)],\n",
    "          y1 = H[int(spacing/2) : -1 : int(spacing)],\n",
    "          name = 'FIR_freq_design_two_transition_alpha_0_5_transfer.pdf')"
   ]
  },
  {
   "cell_type": "markdown",
   "metadata": {},
   "source": [
    "© The University of Edinburgh: Produced by D. Laurenson, School of Engineering. Initial code conversion by Xing Zixiao."
   ]
  }
 ],
 "metadata": {
  "kernelspec": {
   "display_name": "Python 3",
   "language": "python",
   "name": "python3"
  },
  "language_info": {
   "codemirror_mode": {
    "name": "ipython",
    "version": 3
   },
   "file_extension": ".py",
   "mimetype": "text/x-python",
   "name": "python",
   "nbconvert_exporter": "python",
   "pygments_lexer": "ipython3",
   "version": "3.8.5"
  }
 },
 "nbformat": 4,
 "nbformat_minor": 2
}
