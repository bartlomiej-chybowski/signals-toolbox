{
 "cells": [
  {
   "cell_type": "markdown",
   "metadata": {},
   "source": [
    "# FIR filter design via the impulse response\n",
    "\n",
    "FIR filter design with Hanning Window"
   ]
  },
  {
   "cell_type": "markdown",
   "metadata": {},
   "source": [
    "### Preamble\n",
    "Start by importing the Python libraries that we will require"
   ]
  },
  {
   "cell_type": "code",
   "execution_count": null,
   "metadata": {},
   "outputs": [],
   "source": [
    "import numpy as np\n",
    "import matplotlib.pyplot as plt"
   ]
  },
  {
   "cell_type": "markdown",
   "metadata": {},
   "source": [
    "And define a function that will return true if running in a Jupyter Notebook"
   ]
  },
  {
   "cell_type": "code",
   "execution_count": null,
   "metadata": {},
   "outputs": [],
   "source": [
    "def is_jupyter():\n",
    "    \"\"\"Return true if running in a Jupyter Notebook\"\"\"\n",
    "    try:\n",
    "        if get_ipython().__class__.__name__ == 'ZMQInteractiveShell':\n",
    "            return True\n",
    "        else:\n",
    "            return False\n",
    "    except: \n",
    "        return False"
   ]
  },
  {
   "cell_type": "markdown",
   "metadata": {},
   "source": [
    "### Define plotting functions\n",
    "First define a function to plot the impulse response."
   ]
  },
  {
   "cell_type": "code",
   "execution_count": null,
   "metadata": {},
   "outputs": [],
   "source": [
    "def plot_stem(x, y, M, name):\n",
    "    \"\"\"\n",
    "       Plot FIR impulse response.\n",
    "       INPUT:\n",
    "           x (array-like): The x-positions of the stems.\n",
    "           y (array-like): The y-values of the stem heads.\n",
    "           M        (int): The upper limit of x axis.\n",
    "           name  (string): The name used to save figure.\n",
    "    \"\"\"\n",
    "    # Create the plot figure\n",
    "    plt.figure(figsize = (12, 6))\n",
    "    \n",
    "    # Enlarge figure label and axis size\n",
    "    plt.rcParams.update({'font.size': 16})\n",
    "    \n",
    "    # stem plot  \n",
    "    (markerLines, stemLines, baseLines) = plt.stem(x, y, use_line_collection = True)\n",
    "    plt.setp(baseLines, color = 'black', linewidth=0.8) \n",
    "    plt.setp(stemLines, linewidth=1.5) \n",
    "    markerLines.set_markersize(2)\n",
    "    \n",
    "    # Tidy up the plot to control axes sizes and labels\n",
    "    plt.xlabel('n')\n",
    "    plt.ylabel('h(n)')\n",
    "    plt.xlim([0, M-1])\n",
    "    \n",
    "    # Save figure in python or ipython system\n",
    "    if not is_jupyter():\n",
    "        plt.tight_layout()\n",
    "        plt.savefig(name)"
   ]
  },
  {
   "cell_type": "markdown",
   "metadata": {},
   "source": [
    "Now define another function to plot the frequency response"
   ]
  },
  {
   "cell_type": "code",
   "execution_count": null,
   "metadata": {},
   "outputs": [],
   "source": [
    "def plot_freq(x, y, name):\n",
    "    \"\"\"\n",
    "       Plot the magnitude of normalised freuqnecy\n",
    "       INPUT:\n",
    "           x (array-like): The horizontal coordinates of the data points.\n",
    "           y (array-like): The vertical coordinates of the data points.\n",
    "           name  (string): The name used to save figure.\n",
    "    \"\"\"\n",
    "    # Create the plot figure\n",
    "    plt.figure(figsize = (12, 6))\n",
    "    \n",
    "    # Enlarge figure label and axis size\n",
    "    plt.rcParams.update({'font.size': 16})\n",
    "    \n",
    "    # Plot the frequency\n",
    "    plt.plot(x, y)\n",
    "    \n",
    "    # Tidy up the plot to control axes sizes and labels\n",
    "    plt.xlabel('Normalised frequency')\n",
    "    plt.ylabel('Magnitude (dB)')\n",
    "    plt.xlim([0, 0.1])\n",
    "    plt.ylim([-80, 10])\n",
    "    plt.xticks(np.linspace(0, 0.1, 11))\n",
    "    \n",
    "    # Save figure in python or ipython system\n",
    "    if not is_jupyter():\n",
    "        plt.tight_layout()\n",
    "        plt.savefig(name)"
   ]
  },
  {
   "cell_type": "markdown",
   "metadata": {},
   "source": [
    "### Define the impulse response\n",
    "We define the impulse response as\n",
    "$$\\frac{1}{\\pi n}\\sin\\left(\\frac{\\pi n}{10}\\right)$$\n",
    "This is the ideal impulse response windowed by a rectangular window function, and valid for $$-\\frac{M}{2}<n<\\frac{M}{2}$$"
   ]
  },
  {
   "cell_type": "code",
   "execution_count": null,
   "metadata": {},
   "outputs": [],
   "source": [
    "# First define the sample points\n",
    "M = 311\n",
    "mid_point = (M-1) / 2\n",
    "n = np.arange(0, M)\n",
    "\n",
    "distance = n - mid_point\n",
    "\n",
    "# Avoid division by zero error being flagged\n",
    "old_settings=np.seterr(divide='ignore', invalid='ignore')\n",
    "# Calculate the ideal impulse response\n",
    "h_ideal = np.multiply(np.divide(1, (np.pi*(distance))), np.sin(0.1*np.pi*(n-mid_point)))\n",
    "# And re-enable the warnings\n",
    "np.seterr(**old_settings);"
   ]
  },
  {
   "cell_type": "markdown",
   "metadata": {},
   "source": [
    "### Result of applying de L'Hôpital's rule\n",
    "\n",
    " As we need to evaluate the filter response at the mid point separately,\n",
    " this is computed here.  The window response at the mid-point is 1, so it\n",
    " is just the result of applying de L'Hôpital's rule"
   ]
  },
  {
   "cell_type": "code",
   "execution_count": null,
   "metadata": {},
   "outputs": [],
   "source": [
    "h_ideal[int(mid_point)] = 0.1"
   ]
  },
  {
   "cell_type": "markdown",
   "metadata": {},
   "source": [
    "### Window\n",
    "Now apply the Hann window.  If a different stopband criterion is required, this window value can be changed."
   ]
  },
  {
   "cell_type": "code",
   "execution_count": null,
   "metadata": {},
   "outputs": [],
   "source": [
    "h = np.multiply(h_ideal,np.hanning(M))"
   ]
  },
  {
   "cell_type": "markdown",
   "metadata": {},
   "source": [
    "### Now display the filter taps\n",
    "Here the delay that is introduced by the filter is evident as the peak is located in the middle of the impulse response, and in particular, not at delay 0."
   ]
  },
  {
   "cell_type": "code",
   "execution_count": null,
   "metadata": {},
   "outputs": [],
   "source": [
    "plot_stem(n, h, M, 'FIR_311_tap_impulse_response.pdf')"
   ]
  },
  {
   "cell_type": "markdown",
   "metadata": {},
   "source": [
    "### Compute and plot the frequency response using an fft\n",
    "We then convert the result to the dB scale for plotting."
   ]
  },
  {
   "cell_type": "code",
   "execution_count": null,
   "metadata": {},
   "outputs": [],
   "source": [
    "FFT_length = 4096\n",
    "f = np.multiply((1/FFT_length), np.arange(0, FFT_length))\n",
    "H = 20*np.log10(abs(np.fft.fft(h,FFT_length)))\n",
    "\n",
    "plot_freq(f, H, 'FIR_311_tap_frequency_response.pdf')"
   ]
  },
  {
   "cell_type": "markdown",
   "metadata": {},
   "source": [
    "###  Repeat for an even length filter"
   ]
  },
  {
   "cell_type": "code",
   "execution_count": null,
   "metadata": {},
   "outputs": [],
   "source": [
    "M = 310\n",
    "mid_point = (M+1) / 2\n",
    "n = np.arange(0, M)\n",
    "\n",
    "distance = n - mid_point + 1\n",
    "\n",
    "h = np.multiply(np.multiply(np.divide(1, (np.pi*(distance))), np.sin(0.1*np.pi*(n-mid_point+1))),\n",
    "               np.hanning(M))\n",
    "\n",
    "# Calculate the transfer function\n",
    "fft = np.fft.fft(h,FFT_length)\n",
    "\n",
    "# For displaying as a transfer function, it is useful to have a very small value,\n",
    "# but not zero, before calculating the dB equivalent.  numpy.where allows all\n",
    "# zero elements to be substituted by a non-zero value:\n",
    "fft = np.where(fft == 0, 1e-99, fft)\n",
    "\n",
    "# Convert to dBs\n",
    "H = 20*np.log10(abs(fft))"
   ]
  },
  {
   "cell_type": "markdown",
   "metadata": {},
   "source": [
    "Plot the figure"
   ]
  },
  {
   "cell_type": "code",
   "execution_count": null,
   "metadata": {},
   "outputs": [],
   "source": [
    "plot_stem(n, h, M, 'FIR_310_tap_impulse_response.pdf')\n",
    "plot_freq(f, H, 'FIR_310_tap_frequency_response.pdf')"
   ]
  },
  {
   "cell_type": "markdown",
   "metadata": {},
   "source": [
    "© The University of Edinburgh: Produced by D. Laurenson, School of Engineering. Initial code conversion by Xing Zixiao."
   ]
  }
 ],
 "metadata": {
  "kernelspec": {
   "display_name": "Python 3",
   "language": "python",
   "name": "python3"
  },
  "language_info": {
   "codemirror_mode": {
    "name": "ipython",
    "version": 3
   },
   "file_extension": ".py",
   "mimetype": "text/x-python",
   "name": "python",
   "nbconvert_exporter": "python",
   "pygments_lexer": "ipython3",
   "version": "3.7.6"
  }
 },
 "nbformat": 4,
 "nbformat_minor": 2
}
