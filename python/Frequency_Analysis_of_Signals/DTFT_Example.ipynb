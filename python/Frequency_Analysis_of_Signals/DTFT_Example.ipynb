{
 "cells": [
  {
   "cell_type": "markdown",
   "metadata": {},
   "source": [
    "# DTFT Example "
   ]
  },
  {
   "cell_type": "markdown",
   "metadata": {},
   "source": [
    "### Introduction\n",
    "The discrete-time Fourier transform is applied to aperiodic sampled time domain signals.  Because the signals are aperiodic in time, the transform is continuous in frequency.  For the purposes of this demonstration, we define the transform explicitly, rather than computing it from the time domain signal.\n",
    "### Preamble\n",
    "Start by importing the Python libraries that we will require"
   ]
  },
  {
   "cell_type": "code",
   "execution_count": null,
   "metadata": {},
   "outputs": [],
   "source": [
    "import sympy as sp\n",
    "import numpy as np\n",
    "import matplotlib.pyplot as plt"
   ]
  },
  {
   "cell_type": "markdown",
   "metadata": {},
   "source": [
    "And define a function that will return true if running in a Jupyter Notebook"
   ]
  },
  {
   "cell_type": "code",
   "execution_count": null,
   "metadata": {},
   "outputs": [],
   "source": [
    "def is_jupyter():\n",
    "    \"\"\"Return true if running in a Jupyter Notebook\"\"\"\n",
    "    try:\n",
    "        if get_ipython().__class__.__name__ == 'ZMQInteractiveShell':\n",
    "            return True\n",
    "        else:\n",
    "            return False\n",
    "    except: \n",
    "        return False"
   ]
  },
  {
   "cell_type": "markdown",
   "metadata": {},
   "source": [
    "### User specified parameters\n",
    "The following parameters can be specified. \n",
    "\n",
    "Parameter | Meaning\n",
    "--------- | -------\n",
    "<code>omega</code>| Frequence range (e.g. -3 $\\pi$ to 3 $\\pi$)\n",
    "<code>A</code> | Amplitude of input (e.g. 8)\n",
    "<code>L</code> | Terms (e.g. 8)"
   ]
  },
  {
   "cell_type": "code",
   "execution_count": null,
   "metadata": {},
   "outputs": [],
   "source": [
    "omega = np.arange(-3*np.pi, 3*np.pi, 0.005)\n",
    "A = 8\n",
    "L = 8"
   ]
  },
  {
   "cell_type": "markdown",
   "metadata": {},
   "source": [
    "### Define signal\n",
    "The signal is discrete in time, but of arbitrary length.  We will define it as a sequence of values, and a specified starting index (sample number).  The default function is a rectangular waveform of height <code>A</code>, and length <code>L</code>.  This can be replaced by any set of samples, so other waveforms may be used."
   ]
  },
  {
   "cell_type": "code",
   "execution_count": null,
   "metadata": {},
   "outputs": [],
   "source": [
    "x = A*np.ones(L)\n",
    "x_start = 0"
   ]
  },
  {
   "cell_type": "markdown",
   "metadata": {},
   "source": [
    "### Transform definition\n",
    "Given the signal, we can implement the transform for samples in the frequency domain (the selected $\\omega$ terms), such that\n",
    "$$X(\\omega)=\\sum_{n=xstart}^{xstart+L-1} x(n) e^{-jn\\omega}$$\n",
    "where the signal, $x(n)$, is of length $L$."
   ]
  },
  {
   "cell_type": "code",
   "execution_count": null,
   "metadata": {},
   "outputs": [],
   "source": [
    "def X(x, x_start, omega):\n",
    "    \"\"\"\n",
    "       Define transform of x(n) - as the result is continuous,\n",
    "       the transform has to be computed term by term\n",
    "       \n",
    "       INPUT:\n",
    "           x: The signal.\n",
    "           x_start: The index of the first sample\n",
    "           omega (array-like): Frequency range of input signal.\n",
    "       \n",
    "       RETURN:\n",
    "            result: The transform of x(n).\n",
    "    \"\"\"\n",
    "    \n",
    "    # The length of the signal defines the number of terms in the summation\n",
    "    terms = len(x)\n",
    "    \n",
    "    # Initialise the results vector\n",
    "    result = np.zeros(len(omega))\n",
    "    \n",
    "    # Use the DTFT formula to compute the transform term by term\n",
    "    for n in range(terms):\n",
    "        result = result+x[n]*np.exp(-(1j)*omega*(x_start+n))\n",
    "\n",
    "    # Return the reseult\n",
    "    return result"
   ]
  },
  {
   "cell_type": "markdown",
   "metadata": {},
   "source": [
    "### Plot the dtft_example figure"
   ]
  },
  {
   "cell_type": "code",
   "execution_count": null,
   "metadata": {},
   "outputs": [],
   "source": [
    "# Get transform \n",
    "b = X(x, x_start, omega)\n",
    "\n",
    "# Create the plot figure\n",
    "fig = plt.figure(figsize = (16, 8))\n",
    "\n",
    "# Enlarge the label and axis size\n",
    "plt.rcParams.update({'font.size': 16})\n",
    "\n",
    "# Plot the magnitude of the transform\n",
    "plt.plot(omega, abs(b), label=r'X($\\omega$)')\n",
    "\n",
    "# Tidy up the plot to control axes sizes and labels\n",
    "plt.xlim(-3*np.pi, 3*np.pi)\n",
    "plt.ylim(0, 1.1*A*L)\n",
    "plt.xticks([-3*np.pi, -2*np.pi, -np.pi, 0, np.pi, 2*np.pi, 3*np.pi],\n",
    "           ['$-3\\pi$', '$-2\\pi$', '$-\\pi$', '0', '$\\pi$', '$2\\pi$', '$3\\pi$'])\n",
    "plt.yticks([0, 0.5*A*L, A*L],\n",
    "           ['0', '$\\it AL /2$', '$\\it AL$'])\n",
    "plt.xlabel('Frequency (radians/sampling interval)')\n",
    "plt.ylabel('Magnitude')\n",
    "plt.legend(loc='upper right', prop={'size': 14})\n",
    "\n",
    "if not is_jupyter():\n",
    "    plt.savefig('dtft_example_amplitude_python.pdf')"
   ]
  },
  {
   "cell_type": "code",
   "execution_count": null,
   "metadata": {},
   "outputs": [],
   "source": [
    "# Figure 2\n",
    "fig2 = plt.figure(figsize = (16, 8))\n",
    "plt.rcParams.update({'font.size': 16})\n",
    "\n",
    "# Plot the angle of transform \n",
    "plt.plot(omega, np.angle(b), label='$X(\\omega)$')\n",
    "\n",
    "# Tidy up the plot to control axes sizes and labels\n",
    "plt.xlim([-3*np.pi, 3*np.pi])\n",
    "plt.ylim([-1.1*np.pi, 1.1*np.pi])\n",
    "plt.xticks([-3*np.pi, -2*np.pi, -np.pi, 0, np.pi, 2*np.pi, 3*np.pi],\n",
    "           ['$-3\\pi$', '$-2\\pi$', '$-\\pi$', '0', '$\\pi$', '$2\\pi$', '$3\\pi$'])\n",
    "plt.yticks([-np.pi, 0, np.pi],\n",
    "           ['$-\\pi$', '0', '$\\pi$'])\n",
    "plt.xlabel('Frequency (radians/sampling interval)')\n",
    "plt.ylabel('Phase')\n",
    "plt.legend(loc='upper right', prop={'size': 14})\n",
    "\n",
    "if not is_jupyter():\n",
    "    plt.savefig('dtft_example_phase_python.pdf')"
   ]
  },
  {
   "cell_type": "markdown",
   "metadata": {},
   "source": [
    "© The University of Edinburgh: Produced by D. Laurenson, School of Engineering. Initial code conversion by Xing Zixiao."
   ]
  }
 ],
 "metadata": {
  "kernelspec": {
   "display_name": "Python 3",
   "language": "python",
   "name": "python3"
  },
  "language_info": {
   "codemirror_mode": {
    "name": "ipython",
    "version": 3
   },
   "file_extension": ".py",
   "mimetype": "text/x-python",
   "name": "python",
   "nbconvert_exporter": "python",
   "pygments_lexer": "ipython3",
   "version": "3.7.3"
  }
 },
 "nbformat": 4,
 "nbformat_minor": 2
}
