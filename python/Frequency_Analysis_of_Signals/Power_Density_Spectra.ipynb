{
 "cells": [
  {
   "cell_type": "markdown",
   "metadata": {},
   "source": [
    "# Power Density Spectra"
   ]
  },
  {
   "cell_type": "markdown",
   "metadata": {},
   "source": [
    "### Preamble\n",
    "Start by importing the Python libraries that we will require"
   ]
  },
  {
   "cell_type": "code",
   "execution_count": null,
   "metadata": {},
   "outputs": [],
   "source": [
    "import numpy as np\n",
    "import numpy.matlib as npm\n",
    "import matplotlib.pyplot as plt\n",
    "from matplotlib.ticker import MaxNLocator"
   ]
  },
  {
   "cell_type": "markdown",
   "metadata": {},
   "source": [
    "And define a function that will return true if running in a Jupyter Notebook"
   ]
  },
  {
   "cell_type": "code",
   "execution_count": null,
   "metadata": {},
   "outputs": [],
   "source": [
    "def is_jupyter():\n",
    "    \"\"\"Return true if running in a Jupyter Notebook\"\"\"\n",
    "    try:\n",
    "        if get_ipython().__class__.__name__ == 'ZMQInteractiveShell':\n",
    "            return True\n",
    "        else:\n",
    "            return False\n",
    "    except: \n",
    "        return False"
   ]
  },
  {
   "cell_type": "markdown",
   "metadata": {},
   "source": [
    "### User specified parameters\n",
    "The following parameters can be specified. \n",
    "\n",
    "Parameter | Meaning\n",
    "--------- | -------\n",
    "<code>L</code> | Length of the pulse in the time domain (e.g. 7)\n",
    "<code>N</code> | Period of the signal (the number of samples to be repeated, e.g. 10).  Note that <code>N</code>$\\ge$<code>L</code>"
   ]
  },
  {
   "cell_type": "code",
   "execution_count": null,
   "metadata": {},
   "outputs": [],
   "source": [
    "L = 7\n",
    "N = 10"
   ]
  },
  {
   "cell_type": "markdown",
   "metadata": {},
   "source": [
    "### Define signal to be transformed\n",
    "The signal is a rectangular pulse of length <code>L</code> samples, which repeats after <code>N</code> samples."
   ]
  },
  {
   "cell_type": "code",
   "execution_count": null,
   "metadata": {},
   "outputs": [],
   "source": [
    "def sampled_function(L,N):\n",
    "    \"\"\"\n",
    "        Define a rectangular pulse of length L, \n",
    "    \"\"\"\n",
    "    if L > N :\n",
    "        raise Exception('Signal pulse length cannot be larger than period (L<=N)')\n",
    "    \n",
    "    signal = np.zeros(N)\n",
    "    signal[0:L] = np.ones(L)\n",
    "    return signal"
   ]
  },
  {
   "cell_type": "markdown",
   "metadata": {},
   "source": [
    "### Generate power density spectrum\n",
    "Compute the power density spectrum of the input signal, assuming that the input is periodic"
   ]
  },
  {
   "cell_type": "code",
   "execution_count": null,
   "metadata": {},
   "outputs": [],
   "source": [
    "def compute_PDS(signal):\n",
    "    \"\"\"\n",
    "        Compute the power density spectrum of the input signal\n",
    "    \"\"\"\n",
    "    \n",
    "    # Find the length of the input to define the period\n",
    "    N = len(signal)\n",
    "\n",
    "    PDS = np.abs(np.fft.fft(signal,N)/N)**2\n",
    "\n",
    "    return PDS    "
   ]
  },
  {
   "cell_type": "markdown",
   "metadata": {},
   "source": [
    "### Define plotting functions\n",
    "This function plots periodic repetitions of the input signal"
   ]
  },
  {
   "cell_type": "code",
   "execution_count": null,
   "metadata": {},
   "outputs": [],
   "source": [
    "def plot_signal(signal, L):\n",
    "    \"\"\"\n",
    "        Plot the input signal.  L specifies the length of the rectangular pulse\n",
    "    \"\"\"\n",
    "\n",
    "    # Find the length of the input to define the period\n",
    "    N = len(signal)\n",
    "    \n",
    "    # Create the plot figure\n",
    "    plt.figure(figsize = (16, 8))\n",
    "    plt.rcParams.update({'font.size': 16})\n",
    "    \n",
    "    signal_plot = npm.repmat(signal, 1, 3).reshape(3*N, 1)\n",
    "    index = np.arange(-N, 2*N)\n",
    "    \n",
    "    # Plot the power density spectra of frequency\n",
    "    (markerLines, stemLines, baseLines) = plt.stem(index, \n",
    "                                                   signal_plot,\n",
    "                                                   markerfmt ='.',\n",
    "                                                   use_line_collection = True,\n",
    "                                                   bottom = 0)\n",
    "    plt.setp(stemLines, linewidth=1)\n",
    "    plt.setp(baseLines, color = 'black', linewidth=1) \n",
    "    \n",
    "    # Tidy up the plot to control axes sizes and labels\n",
    "    plt.xlim(-0.5*N, 1.5*N)\n",
    "    \n",
    "    # As we are plotting against sample number, then it looks\n",
    "    # better if only integer values are shown.  This code forces\n",
    "    # only integers to be used on the axis\n",
    "    ax = plt.gca()\n",
    "    ax.xaxis.set_major_locator(MaxNLocator(integer=True))\n",
    "    \n",
    "    # Keep the edge of the plot in line with 0 on the y-axis\n",
    "    plt.ylim(bottom = 0)\n",
    "    \n",
    "    plt.xlabel('Samples, n')\n",
    "    plt.ylabel('x(n)')\n",
    "    plt.title('$ L = %d, N =%d $'%(L, N) )\n",
    "    \n",
    "    # save figure in python or ipython system\n",
    "    if not is_jupyter(): plt.savefig('PDS_signal_ex_%d.pdf'%N)"
   ]
  },
  {
   "cell_type": "markdown",
   "metadata": {},
   "source": [
    "This function is used to plot the power density spectrum"
   ]
  },
  {
   "cell_type": "code",
   "execution_count": null,
   "metadata": {},
   "outputs": [],
   "source": [
    "def plot_PDS(PDS, L):\n",
    "    \"\"\"\n",
    "        Plot the power density spectrum.  L specifies the length of the rectangular pulse\n",
    "    \"\"\"\n",
    "\n",
    "    # Find the length of the input to define the period\n",
    "    N = len(PDS)\n",
    "    \n",
    "    # Create the plot figure\n",
    "    plt.figure(figsize = (16, 8))\n",
    "    plt.rcParams.update({'font.size': 16})\n",
    "    \n",
    "    PDS_plot = npm.repmat(PDS, 1, 4).reshape(4*N, 1)\n",
    "    index = np.arange(-2*N, 2*N)\n",
    "    \n",
    "    # Plot the power density spectra of frequency\n",
    "    (markerLines, stemLines, baseLines) = plt.stem(index/N, \n",
    "                                                   N*np.sqrt(PDS_plot),\n",
    "                                                   markerfmt ='.',\n",
    "                                                   use_line_collection = True,\n",
    "                                                   bottom = 0)\n",
    "    plt.setp(stemLines, linewidth=1)\n",
    "    plt.setp(baseLines, color = 'black', linewidth=1) \n",
    "    \n",
    "    # Tidy up the plot to control axes sizes and labels\n",
    "    plt.xlim(-1.5, 1.5)\n",
    "    plt.ylim(bottom = 0)\n",
    "    plt.xlabel('Frequency (Cycles/Sampling interval)')\n",
    "    plt.ylabel('$N |c_k|$')\n",
    "    plt.title('$ L = %d, N =%d $'%(L, N) )\n",
    "    \n",
    "    # save figure in python or ipython system\n",
    "    if not is_jupyter(): plt.savefig('PDS_ex_%d.pdf'%N)"
   ]
  },
  {
   "cell_type": "markdown",
   "metadata": {},
   "source": [
    "### Plot with defined parameters"
   ]
  },
  {
   "cell_type": "code",
   "execution_count": null,
   "metadata": {},
   "outputs": [],
   "source": [
    "signal = sampled_function(L, N)\n",
    "plot_signal(signal, L)"
   ]
  },
  {
   "cell_type": "code",
   "execution_count": null,
   "metadata": {},
   "outputs": [],
   "source": [
    "PDS = compute_PDS(signal)\n",
    "plot_PDS(PDS, L)"
   ]
  },
  {
   "cell_type": "markdown",
   "metadata": {},
   "source": [
    "### Plot with period of 4N"
   ]
  },
  {
   "cell_type": "code",
   "execution_count": null,
   "metadata": {},
   "outputs": [],
   "source": [
    "signal = sampled_function(L, 4*N)\n",
    "PDS = compute_PDS(signal)\n",
    "plot_PDS(PDS, L)"
   ]
  },
  {
   "cell_type": "markdown",
   "metadata": {},
   "source": [
    "© The University of Edinburgh: Produced by D. Laurenson, School of Engineering. Initial code conversion by Xing Zixiao."
   ]
  }
 ],
 "metadata": {
  "kernelspec": {
   "display_name": "Python 3",
   "language": "python",
   "name": "python3"
  },
  "language_info": {
   "codemirror_mode": {
    "name": "ipython",
    "version": 3
   },
   "file_extension": ".py",
   "mimetype": "text/x-python",
   "name": "python",
   "nbconvert_exporter": "python",
   "pygments_lexer": "ipython3",
   "version": "3.7.3"
  }
 },
 "nbformat": 4,
 "nbformat_minor": 2
}
