{
 "cells": [
  {
   "cell_type": "markdown",
   "metadata": {},
   "source": [
    "# Discrete-time Fourier Series of a pulse train "
   ]
  },
  {
   "cell_type": "markdown",
   "metadata": {},
   "source": [
    "### Introduction\n",
    "To obtain the frequency transform of a periodic continuous time signal, the Fourier Series is used.  This results in a frequency domain that is sampled.  For a periodic signal that is sampled in the time domain (discrete), then there is an equivalen transform called the Discrete-time Fourier Series (DTFS).  As the signal is periodic in the time domain, then it is sampled in the frequency domain, but also as it is sampled in the time domain, it is periodic in the frequency domain.\n",
    "\n",
    "The code below defines a pulse shape in the time domain, then uses a transform to obtain its frequency representation.\n",
    "### Preamble\n",
    "Start by importing the Python libraries that we will require"
   ]
  },
  {
   "cell_type": "code",
   "execution_count": null,
   "metadata": {},
   "outputs": [],
   "source": [
    "import numpy as np\n",
    "import matplotlib.pyplot as plt"
   ]
  },
  {
   "cell_type": "markdown",
   "metadata": {},
   "source": [
    "And define a function that will return true if running in a Jupyter Notebook"
   ]
  },
  {
   "cell_type": "code",
   "execution_count": null,
   "metadata": {},
   "outputs": [],
   "source": [
    "def is_jupyter():\n",
    "    \"\"\"Return true if running in a Jupyter Notebook\"\"\"\n",
    "    try:\n",
    "        if get_ipython().__class__.__name__ == 'ZMQInteractiveShell':\n",
    "            return True\n",
    "        else:\n",
    "            return False\n",
    "    except: \n",
    "        return False"
   ]
  },
  {
   "cell_type": "markdown",
   "metadata": {},
   "source": [
    "### User specified parameters\n",
    "The following parameters can be specified. \n",
    "\n",
    "Parameter | Meaning\n",
    "--------- | -------\n",
    "<code>N</code> | The period of the pulse train (e.g. 36)\n",
    "<code>L</code> | The number of 1's in the pulse train.  Note this must be an odd. Number for pulse train to be symmetric (e.g. 5)\n",
    "<code>A</code> | Height of the pulse train (e.g. 1)\n",
    "<code>figure_cycles</code> | Number of periods to plot the result over(e.g. 3)"
   ]
  },
  {
   "cell_type": "code",
   "execution_count": null,
   "metadata": {},
   "outputs": [],
   "source": [
    "N = 36                 \n",
    "L = 5                                        \n",
    "A = 1                  \n",
    "figure_cycles = 3"
   ]
  },
  {
   "cell_type": "markdown",
   "metadata": {},
   "source": [
    "### Signal Definition\n",
    "\n",
    "Now we define the signal.  As it is periodic, we only define one full period, so the number of samples in the signal is <code>N</code>.  For reasons that will become clearer later in the course, we want the signal to be symmetric around the origin, so the length of the pulse must be an odd number of samples.  We will set the first $\\frac{L+1}{2}$ samples to the amplitude, <code>A</code>, and the last $\\frac{L-1}{2}$ samples to the same values.  Everything in between will be zero.\n",
    "\n",
    "If you want to define your own signal, you should make sure that it is symmetric across the first sample, or equivalently sample $\\frac{N}{2}$."
   ]
  },
  {
   "cell_type": "code",
   "execution_count": null,
   "metadata": {},
   "outputs": [],
   "source": [
    "last_pulse = (L-1) / 2\n",
    "\n",
    "# Check for a valid length\n",
    "if np.floor(last_pulse) != last_pulse :\n",
    "    raise Exception ('Pulse length, L, must be an odd integer')\n",
    "    \n",
    "signal = np.zeros((1, N))\n",
    "signal[0, 0 : int(last_pulse)+1] = A\n",
    "signal[0, N - int(last_pulse):] = A"
   ]
  },
  {
   "cell_type": "markdown",
   "metadata": {},
   "source": [
    "### Compute the DTFS\n",
    "\n",
    "The transform is usually complex, however as the input was real and symmetric, the transform will also be symmetric and purely real.  The FFT returns one period of the transform, starting with sample 0, so for plotting purposes we will need to copy this.  Note that this step is only required for plotting on the display - in practice as we know it is periodic, we would only use one period of the signal.  Normally this would be the frequency samples from $0$ up to $N-1$."
   ]
  },
  {
   "cell_type": "code",
   "execution_count": null,
   "metadata": {},
   "outputs": [],
   "source": [
    "transform = np.fft.fft(a=signal)"
   ]
  },
  {
   "cell_type": "markdown",
   "metadata": {},
   "source": [
    "### Determine the samples to plot\n",
    "\n",
    "To plot multiple repetitions of signal we first of all define how many repetitions are required, then duplicate the Fourier series that number of times.  We need to keep track of where the centre of the repetitions is, as this will be our origin in the frequency domain.  To get the frequency scale right we work out the frequency terms that we have in the multiple repetitions, then normalise these so that one period of $N$ samples corresponds to the frequency label $2\\pi$."
   ]
  },
  {
   "cell_type": "code",
   "execution_count": null,
   "metadata": {},
   "outputs": [],
   "source": [
    "# Determine the whole number of repetitions required\n",
    "# Use numpy.ceil function to get the ceiling element-wise\n",
    "repetitions = np.ceil(figure_cycles/2) * 2\n",
    "\n",
    "# And duplicate the result that many times\n",
    "# Use numpy.real function to get the real part of complex number\n",
    "dtfs = np.tile(np.real(transform),int(repetitions))\n",
    "\n",
    "extent = np.ceil(N*figure_cycles/2)\n",
    "centre_index = 1 + N*repetitions/2\n",
    "offsets = np.arange(-extent, extent+1) \n",
    "x_scale = offsets * 2 * np.pi / N\n",
    "result_indices = centre_index + offsets"
   ]
  },
  {
   "cell_type": "markdown",
   "metadata": {},
   "source": [
    "### Plot the figure\n",
    "\n",
    "Now we have the result, for viewing we use matplotlib, and adjust the plot properties to set the correct scales and labels"
   ]
  },
  {
   "cell_type": "code",
   "execution_count": null,
   "metadata": {},
   "outputs": [],
   "source": [
    "# Create the plot figure\n",
    "plt.figure(figsize = (16, 8))\n",
    "# Update the label fontsize\n",
    "plt.rcParams.update({'font.size': 16})\n",
    "\n",
    "# Plot the amplitude \n",
    "(markerLines, stemLines, baseLines) = plt.stem(x_scale,\n",
    "                                               dtfs[0, result_indices.astype(int)],\n",
    "                                               use_line_collection = True,\n",
    "                                               markerfmt ='.')\n",
    "# Update the size and linewidth of markerlines and stemlines in stem plot \n",
    "plt.setp(markerLines, markersize=6)\n",
    "plt.setp(stemLines, linewidth=1)\n",
    "plt.setp(baseLines, color = 'black', linewidth=1)  \n",
    "plt.margins(0.5)\n",
    "\n",
    "# Set the xlim and ylim of plot\n",
    "plt.xlim((x_scale[0], x_scale[-1]))\n",
    "plt.ylim(-A*L*0.3, A*L)\n",
    "\n",
    "# Formatting the x-axis. \n",
    "multiples_of_pi = np.arange(np.ceil(-extent*2/N), np.floor(extent*2/N)+1)\n",
    "XTicks = np.pi * multiples_of_pi\n",
    "\n",
    "# Generate the tick labels - it is a bit awkward around -\\pi, 0 and \\pi,\n",
    "# so use a dictionary of special cases to do this\n",
    "xtick_labels = []\n",
    "special_cases = {\n",
    "    -1: '$-\\pi$',\n",
    "    0: '0',\n",
    "    1: '$\\pi$'\n",
    "}\n",
    "for i in multiples_of_pi:\n",
    "    xtick_labels = xtick_labels + [special_cases.get(i, '$%d\\pi$'%i)]\n",
    "\n",
    "plt.xticks(XTicks, xtick_labels)   \n",
    "plt.xlabel('Frequency (rad/sample)')\n",
    "\n",
    "# Formatting the y-axis. \n",
    "plt.ylabel('Amplitude')\n",
    "\n",
    "# Set the figure title\n",
    "title = plt.title('L=%d, N=%d, A=%0.0f' %(L, N, A))"
   ]
  },
  {
   "cell_type": "markdown",
   "metadata": {},
   "source": [
    "### Save the result\n",
    "\n",
    "If we are not running in a Jupyter notebook, save the resulting plot as a PDF file for use in documentation"
   ]
  },
  {
   "cell_type": "code",
   "execution_count": null,
   "metadata": {},
   "outputs": [],
   "source": [
    "if not is_jupyter():\n",
    "    plt.savefig('pulse_train_transform.pdf')"
   ]
  },
  {
   "cell_type": "markdown",
   "metadata": {},
   "source": [
    "© The University of Edinburgh: Produced by D. Laurenson, School of Engineering. Initial code conversion by Xing Zixiao."
   ]
  }
 ],
 "metadata": {
  "kernelspec": {
   "display_name": "Python 3",
   "language": "python",
   "name": "python3"
  },
  "language_info": {
   "codemirror_mode": {
    "name": "ipython",
    "version": 3
   },
   "file_extension": ".py",
   "mimetype": "text/x-python",
   "name": "python",
   "nbconvert_exporter": "python",
   "pygments_lexer": "ipython3",
   "version": "3.7.3"
  }
 },
 "nbformat": 4,
 "nbformat_minor": 2
}
