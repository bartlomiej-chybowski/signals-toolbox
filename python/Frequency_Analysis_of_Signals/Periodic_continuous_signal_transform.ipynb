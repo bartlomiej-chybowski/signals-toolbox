{
 "cells": [
  {
   "cell_type": "markdown",
   "metadata": {},
   "source": [
    "# Continuous time, periodic signal transform"
   ]
  },
  {
   "cell_type": "markdown",
   "metadata": {},
   "source": [
    "### Preamble\n",
    "Start by importing the Python libraries that we will require"
   ]
  },
  {
   "cell_type": "code",
   "execution_count": null,
   "metadata": {},
   "outputs": [],
   "source": [
    "import sympy as sp\n",
    "import numpy as np\n",
    "import mpmath as mp\n",
    "import matplotlib.pyplot as plt\n",
    "from mpl_toolkits.mplot3d import Axes3D \n",
    "from ipywidgets import interactive, widgets\n",
    "from IPython.display import display"
   ]
  },
  {
   "cell_type": "markdown",
   "metadata": {},
   "source": [
    "And define a function that will return true if running in a Jupyter Notebook"
   ]
  },
  {
   "cell_type": "code",
   "execution_count": null,
   "metadata": {},
   "outputs": [],
   "source": [
    "def is_jupyter():\n",
    "    \"\"\"Return true if running in a Jupyter Notebook\"\"\"\n",
    "    try:\n",
    "        if get_ipython().__class__.__name__ == 'ZMQInteractiveShell':\n",
    "            return True\n",
    "        else:\n",
    "            return False\n",
    "    except: \n",
    "        return False"
   ]
  },
  {
   "cell_type": "markdown",
   "metadata": {},
   "source": [
    "### User specified parameters\n",
    "\n",
    "The following parameters can be specified. \n",
    "\n",
    "Parameter | Meaning\n",
    "--------- | -------\n",
    "<code>T_p</code> | The period of signal in the time domain (s) (e.g. 1)\n",
    "<code>plot_width</code> | The width of frequency domain plot (Hz) (e.g. 20)\n",
    "<code>waveform</code> | Select the waveform to use (e.g. 1)"
   ]
  },
  {
   "cell_type": "code",
   "execution_count": null,
   "metadata": {},
   "outputs": [],
   "source": [
    "T_p = 1\n",
    "plot_width = 20\n",
    "waveform = 1"
   ]
  },
  {
   "cell_type": "markdown",
   "metadata": {},
   "source": [
    "### Symbols\n",
    "Define symbols to be used"
   ]
  },
  {
   "cell_type": "code",
   "execution_count": null,
   "metadata": {},
   "outputs": [],
   "source": [
    "t = sp.Symbol('t')\n",
    "k = sp.Symbol('k')"
   ]
  },
  {
   "cell_type": "markdown",
   "metadata": {},
   "source": [
    "### The signal and its transform\n",
    "First we need to define the signal and its transform.  It is a finite duration, continuous signal, so will have a continuous aperiodic transform.  Later on we will want to be able to delay the signal, so add delay as a parameter that we can alter"
   ]
  },
  {
   "cell_type": "markdown",
   "metadata": {},
   "source": [
    "#### Waveform definition\n",
    "Note that the list of waveforms can be added to by users"
   ]
  },
  {
   "cell_type": "code",
   "execution_count": null,
   "metadata": {},
   "outputs": [],
   "source": [
    "# First define the set of waveforms that are available.  More can be added if desired\n",
    "\n",
    "def signal_set(delay = 0):\n",
    "    \"\"\"\n",
    "        Define the signals that may be used.  Additional signals can be added to this list\n",
    "    \"\"\"\n",
    "    # Use sympy.Piecewise function Piecewise( (expr,cond), (expr,cond), ... ) to define a continuous function\n",
    "    waveforms = {\n",
    "        # Rectangular pulse centred on delay\n",
    "        1: sp.Piecewise(\n",
    "            # Rectangular pulse, with height 1 between the signal limits\n",
    "            (1, (t > -0.25+delay) & (t < 0.25+delay)),\n",
    "            # and elsewhere it is zero\n",
    "            (0, True)\n",
    "        ),\n",
    "        \n",
    "        # Ramp function centred on delay\n",
    "        2: sp.Piecewise(\n",
    "            (4*(t-delay), (t > -0.25+delay) & (t < 0.25+delay)),\n",
    "            (0, True)\n",
    "        ),\n",
    "        \n",
    "        # Triangular function centred on delay\n",
    "        3: sp.Piecewise(\n",
    "            # The rising section\n",
    "            (4*(0.25+(t-delay)), (t < delay) & (t > -0.25+delay)),\n",
    "            # and the falling section\n",
    "            (4*(0.25-(t-delay)), (t > delay) & (t < 0.25+delay)),\n",
    "            (0, True)\n",
    "        ),\n",
    "    }\n",
    "    \n",
    "    return waveforms"
   ]
  },
  {
   "cell_type": "markdown",
   "metadata": {},
   "source": [
    "Then define the functions to access the waveforms created above"
   ]
  },
  {
   "cell_type": "code",
   "execution_count": null,
   "metadata": {},
   "outputs": [],
   "source": [
    "def signal(waveform = 1, delay = 0):\n",
    "    \"\"\"\n",
    "        Define the signal to be used\n",
    "    \"\"\"\n",
    "\n",
    "    waveforms = signal_set(delay)\n",
    "    \n",
    "    return waveforms.get(waveform, 0)\n",
    "\n",
    "def number_of_waveforms():\n",
    "    \"\"\"\n",
    "        Count the number of waveforms defined\n",
    "    \"\"\"\n",
    "    \n",
    "    return len(signal_set())"
   ]
  },
  {
   "cell_type": "markdown",
   "metadata": {},
   "source": [
    "#### Select function\n",
    "The signal is generated by the function defined above, and then we create a plot of the signal.  This is done by converting the symbolic function to a set of samples that can be plotted in figures."
   ]
  },
  {
   "cell_type": "code",
   "execution_count": null,
   "metadata": {},
   "outputs": [],
   "source": [
    "time_equation = signal(waveform = waveform, delay = 0)\n",
    "\n",
    "plot_limits = [-T_p*0.5, T_p*0.5]\n",
    "time_function = sp.lambdify(t, time_equation, 'numpy')\n",
    "time_scale = np.linspace(plot_limits[0], plot_limits[1], 400)\n",
    "time_values = time_function(time_scale)"
   ]
  },
  {
   "cell_type": "markdown",
   "metadata": {},
   "source": [
    "Now plot the signal waveform"
   ]
  },
  {
   "cell_type": "code",
   "execution_count": null,
   "metadata": {},
   "outputs": [],
   "source": [
    "# Enlarge the figure, label and axis size\n",
    "plt.rcParams['figure.figsize'] = 16, 8\n",
    "plt.rcParams.update({'font.size': 16})\n",
    "\n",
    "plt.figure()\n",
    "ax = plt.gca()\n",
    "ax.plot(time_scale, time_values)\n",
    "plt.xlim(plot_limits[0], plot_limits[1])\n",
    "\n",
    "ax.set_xlabel(\"Time (s)\")\n",
    "ax.set_ylabel('Amplitude')\n",
    "ax.set_title('$x(t)$');"
   ]
  },
  {
   "cell_type": "markdown",
   "metadata": {},
   "source": [
    "#### Compute the transform\n",
    "Now compute the transform of the signal using:\n",
    "\\begin{equation}\n",
    "    c_k = \\frac{1}{T_p}\\int_{-\\frac{T_p}{2}}^{\\frac{T_p}{2}} x(t) e^{-j2\\pi k t/T_p} dt\n",
    "\\end{equation}\n",
    "\n",
    "In the python code, the transform is computed using symbolic maths"
   ]
  },
  {
   "cell_type": "code",
   "execution_count": null,
   "metadata": {},
   "outputs": [],
   "source": [
    "# Compute the transform of the signal\n",
    "c_k = sp.integrate(time_equation*sp.exp(-sp.I*2*sp.pi*k*t/T_p)/T_p, (t, -T_p/2, T_p/2))"
   ]
  },
  {
   "cell_type": "markdown",
   "metadata": {},
   "source": [
    "The result is then converted to a set of samples.\n",
    "\n",
    "Note, that there may be divide by zero warnings generated as a result of this.  These are due to the potential difficulty in evaluating functions of the form $\\frac{\\sin(x)}{x}$, or other similar functions that may result from the integration."
   ]
  },
  {
   "cell_type": "code",
   "execution_count": null,
   "metadata": {},
   "outputs": [],
   "source": [
    "# Acquire samples of the transform\n",
    "c_k_function = sp.lambdify(k, c_k, modules='numpy')\n",
    "plot_limits = [-plot_width*T_p, plot_width*T_p]\n",
    "frequency = np.arange(plot_limits[0], plot_limits[1]+1,1)\n",
    "c_k_values = c_k_function(frequency)"
   ]
  },
  {
   "cell_type": "markdown",
   "metadata": {},
   "source": [
    "### Plot the magnitude\n",
    "\n",
    "Note that any zero values may result in an error being generated.  This should not affect the resulting figure."
   ]
  },
  {
   "cell_type": "code",
   "execution_count": null,
   "metadata": {},
   "outputs": [],
   "source": [
    "plt.figure()\n",
    "ax = plt.gca()\n",
    "\n",
    "yll = -50\n",
    "yul = 0\n",
    "\n",
    "plt.ylim([yll,yul])\n",
    "\n",
    "(markerLines, stemLines, baseLines) = plt.stem(frequency,\n",
    "                                               20*np.log10(abs(c_k_values)),\n",
    "                                               markerfmt='ro',\n",
    "                                               use_line_collection=True,\n",
    "                                               bottom = yll)\n",
    "\n",
    "left, right = plt.xlim()\n",
    "plt.xlim(left+1, right-1)\n",
    "\n",
    "ax.set_xlabel(\"Frequency, $k$\")\n",
    "ax.set_ylabel('Magnitude of (dB)')\n",
    "ax.set_title('$c_k$')\n",
    "\n",
    "# Save figure in python or ipython system\n",
    "if not is_jupyter(): plt.savefig('odd_cont_time_magnitude.pdf')"
   ]
  },
  {
   "cell_type": "markdown",
   "metadata": {},
   "source": [
    "### Plot the phase"
   ]
  },
  {
   "cell_type": "code",
   "execution_count": null,
   "metadata": {},
   "outputs": [],
   "source": [
    "plt.figure()\n",
    "ax = plt.gca()\n",
    "yll = -np.pi*1.1\n",
    "yul = np.pi*1.1\n",
    "\n",
    "plt.ylim([yll,yul])\n",
    "\n",
    "(markerLines, stemLines, baseLines) = plt.stem(frequency,\n",
    "                                               np.angle(c_k_values),\n",
    "                                               markerfmt='ro',\n",
    "                                               use_line_collection=True,\n",
    "                                               bottom = 0)\n",
    "left, right = plt.xlim()\n",
    "plt.xlim(left+1, right-1)\n",
    "\n",
    "ax.set_yticks = ([-np.pi/2, 0, np.pi/2], ['$-\\pi/2$', '0', '$\\pi/2$'])\n",
    "ax.set_xlabel('Frequency (rad/s)')\n",
    "ax.set_ylabel('Phase (rad)')\n",
    "ax.set_title('$X(\\omega)$')\n",
    "\n",
    "# Save figure in python or ipython system\n",
    "if not is_jupyter(): plt.savefig('odd_cont_time_phase.pdf')"
   ]
  },
  {
   "cell_type": "markdown",
   "metadata": {},
   "source": [
    "© The University of Edinburgh: Produced by D. Laurenson, School of Engineering. Initial code conversion by Xing Zixiao."
   ]
  }
 ],
 "metadata": {
  "kernelspec": {
   "display_name": "Python 3",
   "language": "python",
   "name": "python3"
  },
  "language_info": {
   "codemirror_mode": {
    "name": "ipython",
    "version": 3
   },
   "file_extension": ".py",
   "mimetype": "text/x-python",
   "name": "python",
   "nbconvert_exporter": "python",
   "pygments_lexer": "ipython3",
   "version": "3.7.3"
  }
 },
 "nbformat": 4,
 "nbformat_minor": 2
}
