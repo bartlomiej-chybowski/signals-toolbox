{
 "cells": [
  {
   "cell_type": "markdown",
   "metadata": {},
   "source": [
    "# Discrete-time Fourier Transform symmetry properties"
   ]
  },
  {
   "cell_type": "markdown",
   "metadata": {},
   "source": [
    "DTFT_symmetry_example plots the DTFT of a random real-valued signal to show complex conjugate symmetry.\n",
    "The DTFT is defined by:\n",
    "$$X(\\omega)=\\sum_{n=-\\infty}^{\\infty} x(n) e^{-j\\omega n}$$\n",
    "Note that this example implements the transform directly, so will potentially be very slow if the number of data samples, $x(n)$ is large."
   ]
  },
  {
   "cell_type": "markdown",
   "metadata": {},
   "source": [
    "### Preamble\n",
    "Start by importing the Python libraries that we will require"
   ]
  },
  {
   "cell_type": "code",
   "execution_count": null,
   "metadata": {},
   "outputs": [],
   "source": [
    "import numpy as np\n",
    "import matplotlib.pyplot as plt"
   ]
  },
  {
   "cell_type": "markdown",
   "metadata": {},
   "source": [
    "And define a function that will return true if running in a Jupyter Notebook"
   ]
  },
  {
   "cell_type": "code",
   "execution_count": null,
   "metadata": {},
   "outputs": [],
   "source": [
    "def is_jupyter():\n",
    "    \"\"\"Return true if running in a Jupyter Notebook\"\"\"\n",
    "    try:\n",
    "        if get_ipython().__class__.__name__ == 'ZMQInteractiveShell':\n",
    "            return True\n",
    "        else:\n",
    "            return False\n",
    "    except: \n",
    "        # not running in ipython\n",
    "        return False"
   ]
  },
  {
   "cell_type": "markdown",
   "metadata": {},
   "source": [
    "### User specified parameters\n",
    "\n",
    "The following parameters can be specified.  Note that `frequency_samples` should be larger than `number_of_samples`.\n",
    "\n",
    "Parameter | Meaning\n",
    "--------- | -------\n",
    "<code>frequency_samples</code> | The number of points in the frequency domain that are plotted.  This should be a large value (e.g. 2048).\n",
    "<code>number_of_samples</code> | The number of points in the signal being analysed.  For this example it should be small (e.g. 16)."
   ]
  },
  {
   "cell_type": "code",
   "execution_count": null,
   "metadata": {},
   "outputs": [],
   "source": [
    "frequency_samples = 2048\n",
    "number_of_samples = 16"
   ]
  },
  {
   "cell_type": "markdown",
   "metadata": {},
   "source": [
    "### Definitions\n",
    "\n",
    "Here we define the sample index, and the random signal itself.  `n` is the index of the samples (0..number_of_samples-1), and `s` is the signal, which is defined as a random sequence of floating point numbers in the range 0 to 1."
   ]
  },
  {
   "cell_type": "code",
   "execution_count": null,
   "metadata": {},
   "outputs": [],
   "source": [
    "# Define time scale\n",
    "n = np.arange(0, number_of_samples)\n",
    "\n",
    "# Generate a random signal\n",
    "s = np.random.rand(1, n.size).reshape(16)"
   ]
  },
  {
   "cell_type": "markdown",
   "metadata": {},
   "source": [
    "### Plot the signal\n",
    "It is useful to see the signal itself, so let's plot it below using a stem plot."
   ]
  },
  {
   "cell_type": "code",
   "execution_count": null,
   "metadata": {},
   "outputs": [],
   "source": [
    "# Create the plot figure\n",
    "plt.figure(figsize = (16, 8))\n",
    "\n",
    "# Enlarge label and axis size\n",
    "plt.rcParams.update({'font.size': 16})\n",
    "\n",
    "# Stem plot of signal\n",
    "(markerLines, stemLines, baseLines) = plt.stem(n, s, use_line_collection = True)\n",
    "plt.setp(baseLines, color = 'black', linewidth=1) \n",
    "\n",
    "# Tidy up the plot to control axes sizes and labels\n",
    "plt.xlim(0, number_of_samples-1)\n",
    "plt.xlabel('Sample number')\n",
    "plt.ylabel('Amplitude')\n",
    "\n",
    "# Save figure in python or ipython system\n",
    "if not is_jupyter(): plt.savefig('real_valued_signal.pdf')"
   ]
  },
  {
   "cell_type": "markdown",
   "metadata": {},
   "source": [
    "### Compute samples of the DTFT\n",
    "Here we will implement the transform by calculating individual samples of the DTFT.  In Python this involves defining a vector of frequencies of interest, then calculating each term of the sum, and adding together.  The $\\sqrt{-1}$ term is denoted as `1j`."
   ]
  },
  {
   "cell_type": "code",
   "execution_count": null,
   "metadata": {},
   "outputs": [],
   "source": [
    "# Define x-axis for plots, and samples of DTFT\n",
    "omega = ((np.arange(0,frequency_samples))-(frequency_samples/2)) * 2 \\\n",
    "        * np.pi / frequency_samples\n",
    "\n",
    "# We can compute the DTFT samples by implementing the transform equation\n",
    "S_omega = np.zeros(frequency_samples)\n",
    "for sample in range(0,number_of_samples):\n",
    "    S_omega = S_omega + s[sample] * np.exp(-1j*omega*sample)"
   ]
  },
  {
   "cell_type": "markdown",
   "metadata": {},
   "source": [
    "### Plot the magnitude\n",
    "The DTFT will be a complex quantity, so we can either plot the real and imaginary components as two separate values, or plot the magnitude and phase.  Because the input signal is purely real, the magnitude of the transform will be symmetric.  Here we will plot magnitude and phase.  If you want to see what the real and imaginary components look like, all you need to do is replace `20*np.log10(abs(S_omega))` with `S_omega.real` or `S_omega.imag`, and adjust the ylimits to be `-number_of_samples` to `number_of_samples`.  You can do something similar with the next plot."
   ]
  },
  {
   "cell_type": "code",
   "execution_count": null,
   "metadata": {},
   "outputs": [],
   "source": [
    "# Create the plot figure\n",
    "fig1 = plt.figure(figsize = (16, 8))\n",
    "\n",
    "# Enlarge label and axis size\n",
    "plt.rcParams.update({'font.size': 16})\n",
    "\n",
    "# Plot the magnitude of the transform using a dB scale\n",
    "plt.plot(omega, 20*np.log10(abs(S_omega)))\n",
    "\n",
    "# Tidy up the plot to control axes sizes and labels\n",
    "plt.xlim(-np.pi, np.pi)\n",
    "plt.xticks(np.linspace(-np.pi,np.pi,5), \n",
    "           ['$-\\pi$', '$-\\pi/2$', '0', '$\\pi/2$', '$\\pi$'])\n",
    "plt.grid(True, lw = 2, ls = '--', c = '.85')\n",
    "plt.xlabel('Frequency (rad/sample)')\n",
    "\n",
    "# Get the current axis limits\n",
    "ax1 = plt.gca()\n",
    "y1 = ax1.get_ylim()\n",
    "\n",
    "# Limit the lower range to -50 dB\n",
    "ylim = max(-50, y1[0])\n",
    "plt.ylim(bottom = ylim)\n",
    "plt.ylabel('Magnitude (dB)')\n",
    "\n",
    "if not is_jupyter(): plt.savefig('real_valued_magnitude.pdf')"
   ]
  },
  {
   "cell_type": "markdown",
   "metadata": {},
   "source": [
    "### Plot the phase\n",
    "The phase of the transform will be antisymmetric because the input is real.  If you implement the suggested change to plot real and imaginary components, you will find that the real component of the transform is symmetric, while the imaginary component is antisymmetric."
   ]
  },
  {
   "cell_type": "code",
   "execution_count": null,
   "metadata": {},
   "outputs": [],
   "source": [
    "# Create the plot figure\n",
    "plt.figure(figsize = (16, 8))\n",
    "\n",
    "# Enlarge label and axis size\n",
    "plt.rcParams.update({'font.size': 16})\n",
    "\n",
    "# Plot the angle of the transform using a rad scale\n",
    "plt.plot(omega, np.angle(S_omega))\n",
    "\n",
    "# Tidy up the plot to control axes sizes and labels\n",
    "plt.xlim(-np.pi, np.pi)\n",
    "plt.ylim(-np.pi, np.pi)\n",
    "plt.xticks(np.linspace(-np.pi,np.pi,5),\n",
    "           ['$-\\pi$', '$-\\pi/2$', '0', '$\\pi/2$', '$\\pi$'])\n",
    "plt.yticks(np.linspace(-np.pi,np.pi,5),\n",
    "           ['$-\\pi$', '$-\\pi/2$', '0', '$\\pi/2$', '$\\pi$'])\n",
    "plt.xlabel('Frequency (rad/sample)')\n",
    "plt.ylabel('Phase (rad)')\n",
    "plt.grid(True, lw = 2, ls = '--', c = '.85')\n",
    "\n",
    "if not is_jupyter(): plt.savefig('real_valued_phase.pdf')"
   ]
  },
  {
   "cell_type": "markdown",
   "metadata": {},
   "source": [
    "© The University of Edinburgh: Produced by D. Laurenson, School of Engineering. Initial code conversion by Xing Zixiao."
   ]
  }
 ],
 "metadata": {
  "kernelspec": {
   "display_name": "Python 3",
   "language": "python",
   "name": "python3"
  },
  "language_info": {
   "codemirror_mode": {
    "name": "ipython",
    "version": 3
   },
   "file_extension": ".py",
   "mimetype": "text/x-python",
   "name": "python",
   "nbconvert_exporter": "python",
   "pygments_lexer": "ipython3",
   "version": "3.7.6"
  }
 },
 "nbformat": 4,
 "nbformat_minor": 2
}
