{
 "cells": [
  {
   "cell_type": "markdown",
   "metadata": {},
   "source": [
    "# Modulation Example \n",
    "This demonstrates the effect of modulation on a signal.  The base signal is a rectangular waveform, which is then modulated by multiplying with a cosine function.  The transform is equal to the convolution of the transforms of the two signals."
   ]
  },
  {
   "cell_type": "markdown",
   "metadata": {},
   "source": [
    "### Preamble\n",
    "Start by importing the Python libraries that we will require"
   ]
  },
  {
   "cell_type": "code",
   "execution_count": null,
   "metadata": {},
   "outputs": [],
   "source": [
    "import numpy as np\n",
    "import matplotlib.pyplot as plt"
   ]
  },
  {
   "cell_type": "markdown",
   "metadata": {},
   "source": [
    "And define a function that will return true if running in a Jupyter Notebook"
   ]
  },
  {
   "cell_type": "code",
   "execution_count": null,
   "metadata": {},
   "outputs": [],
   "source": [
    "def is_jupyter():\n",
    "    \"\"\"Return true if running in a Jupyter Notebook\"\"\"\n",
    "    try:\n",
    "        if get_ipython().__class__.__name__ == 'ZMQInteractiveShell':\n",
    "            return True\n",
    "        else:\n",
    "            return False\n",
    "    except: \n",
    "        return False"
   ]
  },
  {
   "cell_type": "markdown",
   "metadata": {},
   "source": [
    "### User specified parameters\n",
    "\n",
    "The following parameters can be specified.  \n",
    "\n",
    "Parameter | Meaning\n",
    "--------- | -------\n",
    "<code>omega</code> | The frequency range. (e.g. -3$\\pi$ to 3$\\pi$)\n",
    "<code>A</code> | Amplitude of input (e.g. 8)"
   ]
  },
  {
   "cell_type": "code",
   "execution_count": null,
   "metadata": {},
   "outputs": [],
   "source": [
    "omega = np.arange(-3*np.pi, 3*np.pi, 0.005)\n",
    "A = 8"
   ]
  },
  {
   "cell_type": "markdown",
   "metadata": {},
   "source": [
    "### Function definition\n",
    "Here we define the transform of a rectangular pulse for the frequency terms, <code>omega</code>."
   ]
  },
  {
   "cell_type": "code",
   "execution_count": null,
   "metadata": {},
   "outputs": [],
   "source": [
    "def X(omega, terms):\n",
    "    \"\"\"\n",
    "        Define transform of x(n) using the trigonometric series\n",
    "    \"\"\"\n",
    "    # Start with the d.c. term, a_0\n",
    "    result = A * np.ones(omega.size)\n",
    "    \n",
    "    # Then add in the even terms corresponding to the rectangular input signal\n",
    "    for index in range(1, terms):\n",
    "        result = result + A * 2 * np.cos(index*omega)\n",
    "        \n",
    "    return result"
   ]
  },
  {
   "cell_type": "markdown",
   "metadata": {},
   "source": [
    "For convenience we also define a plotting function that plots three signals contained within <code>y</code>, and formats the axes appropriately."
   ]
  },
  {
   "cell_type": "code",
   "execution_count": null,
   "metadata": {},
   "outputs": [],
   "source": [
    "def Plot_Amplitude(y, xlim, ylim, yticks, name):\n",
    "    \"\"\"\n",
    "        Plot function X with different terms. \n",
    "        INPUT: \n",
    "            y (array-like): A list of X.\n",
    "            xlim ([left, right]): Set the xlim from left to right.\n",
    "            ylim ([left, right]): Set the ylim from left to right.\n",
    "            yticks (array-like): The tick locations and labels of the y-axis.\n",
    "            name (str): The name used to save plot.  \n",
    "    \"\"\"\n",
    "    # Create the figure and enlarge its label and axis\n",
    "    plt.figure(figsize = (16, 8))\n",
    "    plt.rcParams.update({'font.size': 16})\n",
    "    \n",
    "    # Plot the figure\n",
    "    ax = plt.gca()\n",
    "    ax.plot(omega, y[0], 'r', label = r'$X(\\omega-\\pi/2)/2$')  \n",
    "    ax.plot(omega, y[1], 'g', label = r'$X(\\omega+\\pi/2)/2$')\n",
    "    ax.plot(omega, y[2], 'b', label = 'Modulated signal')\n",
    "    \n",
    "    # Tidy up the plot to control axes sizes and labels\n",
    "    plt.xlim(-3*np.pi, 3*np.pi)\n",
    "    plt.ylim(ylim)\n",
    "    plt.xticks([-3*np.pi, -2*np.pi, -np.pi, 0, np.pi, 2*np.pi, 3*np.pi],\n",
    "               ['$-3\\pi$', '$-2\\pi$', '$-\\pi$', '0', '$\\pi$', '$2\\pi$', '$3\\pi$'])\n",
    "    plt.yticks(yticks[0], yticks[1])\n",
    "    ax.FontSize = 16\n",
    "    plt.xlabel('Frequency (radians/sampling interval)')\n",
    "    plt.ylabel('Amplitude')\n",
    "    plt.legend(prop = {'size': 14})\n",
    "    \n",
    "    # Save figure in python or ipython system\n",
    "    if not is_jupyter(): plt.savefig(name)"
   ]
  },
  {
   "cell_type": "markdown",
   "metadata": {},
   "source": [
    "### Plot the transform of the unmodulated signal\n",
    "In this plot we apply no modulation to the input, so the transform is not subjected to a frequency shift.  In this case, the input is a rectangular pulse of length 7, centred on sample 0.  This means that the transform comprises 4 terms (one constant term, and three cosine terms)."
   ]
  },
  {
   "cell_type": "code",
   "execution_count": null,
   "metadata": {},
   "outputs": [],
   "source": [
    "# Create the figure\n",
    "plt.figure(figsize = (16, 8))\n",
    "plt.rcParams.update({'font.size': 16})\n",
    "\n",
    "# Plot the amplitude\n",
    "plt.plot(omega, X(omega, 4), label=r'X($\\omega$)')\n",
    "ax = plt.gca()\n",
    "\n",
    "# Tidy up the plot to control axes sizes and labels\n",
    "plt.xlim(-3*np.pi, 3*np.pi)\n",
    "plt.ylim(-2.6*A, 9.4*A)\n",
    "plt.xticks([-3*np.pi, -2*np.pi, -np.pi, 0, np.pi, 2*np.pi, 3*np.pi],\n",
    "           ['$-3\\pi$', '$-2\\pi$', '$-\\pi$', '0', '$\\pi$', '$2\\pi$', '$3\\pi$'])\n",
    "plt.yticks([-2*A, 0, 4*A, 8*A],\n",
    "           ['-2A', '0', '4A', '8A'])\n",
    "ax.FontSize = 16\n",
    "plt.xlabel('Frequency (radians/sampling interval)')\n",
    "plt.ylabel('Amplitude')\n",
    "plt.legend(prop = {'size': 14})\n",
    "\n",
    "# Save figure in python or ipython system\n",
    "if not is_jupyter(): plt.savefig('modulation_example_input.pdf')"
   ]
  },
  {
   "cell_type": "markdown",
   "metadata": {},
   "source": [
    "### Modulated signal\n",
    "Here we modulate with a cosine that has a period of four samples.  This means that it has a frequency that is a quarter of the sampling frequency.  We plot the convolution of the unmodulated transform with the impulses of the cosine transform as two separate parts, and the combined modulated transform."
   ]
  },
  {
   "cell_type": "code",
   "execution_count": null,
   "metadata": {
    "scrolled": false
   },
   "outputs": [],
   "source": [
    "y1 = [X(omega-np.pi/2, 4)/2, X(omega+np.pi/2, 4)/2, \n",
    "     (X(omega-np.pi/2, 4) + X(omega+np.pi/2, 4))/2]\n",
    "\n",
    "xlim1 = [-3*np.pi, 3*np.pi]\n",
    "ylim1 = [-1.3*A, 5.2*A]\n",
    "yticks1 = [[-A, 0, 2*A, 4*A], ['-A','0','2A','4A']]\n",
    "name1 = 'modulation_example_1.pdf'\n",
    "\n",
    "Plot_Amplitude(y1, xlim1, ylim1, yticks1, name1)"
   ]
  },
  {
   "cell_type": "markdown",
   "metadata": {},
   "source": [
    "### Increasing length of the signal\n",
    "Here we plot the transform for a signal of length 21 samples (again centred on the origin), with the same modulating waveform.  In this case, as the unmodulated signal is longer in duration, the shape of the transform becomes narrower.  The frequency of the modulating signal is unchanged, so the shifts in frequency produced by the convolution are the same as before."
   ]
  },
  {
   "cell_type": "code",
   "execution_count": null,
   "metadata": {},
   "outputs": [],
   "source": [
    "y2 = [X(omega-np.pi/2, 11)/2, X(omega+np.pi/2, 11)/2, \n",
    "     (X(omega-np.pi/2, 11) + X(omega+np.pi/2, 11))/2] \n",
    "\n",
    "xlim2 = [-3*np.pi, 3*np.pi]\n",
    "ylim2 = [-3.2*A, 15.5*A]\n",
    "yticks2 = [[-2*A, 0, 5*A, 10*A, 15*A], \n",
    "           ['-2A','0','5A','10A','15A']]\n",
    "name2 = 'modulation_example_2.pdf'\n",
    "\n",
    "Plot_Amplitude(y2, xlim2, ylim2, yticks2, name2)"
   ]
  },
  {
   "cell_type": "markdown",
   "metadata": {},
   "source": [
    "© The University of Edinburgh: Produced by D. Laurenson, School of Engineering. Initial code conversion by Xing Zixiao."
   ]
  }
 ],
 "metadata": {
  "kernelspec": {
   "display_name": "Python 3",
   "language": "python",
   "name": "python3"
  },
  "language_info": {
   "codemirror_mode": {
    "name": "ipython",
    "version": 3
   },
   "file_extension": ".py",
   "mimetype": "text/x-python",
   "name": "python",
   "nbconvert_exporter": "python",
   "pygments_lexer": "ipython3",
   "version": "3.7.3"
  }
 },
 "nbformat": 4,
 "nbformat_minor": 2
}
