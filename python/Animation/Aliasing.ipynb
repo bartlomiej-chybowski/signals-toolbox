{
 "cells": [
  {
   "cell_type": "markdown",
   "metadata": {},
   "source": [
    "### Imprort libraries"
   ]
  },
  {
   "cell_type": "code",
   "execution_count": null,
   "metadata": {},
   "outputs": [],
   "source": [
    "import numpy as np\n",
    "import matplotlib.pyplot as plt\n",
    "import matplotlib.animation\n",
    "import scipy.signal as sps\n",
    "from IPython.display import HTML"
   ]
  },
  {
   "cell_type": "markdown",
   "metadata": {},
   "source": [
    "### Functions Definition"
   ]
  },
  {
   "cell_type": "code",
   "execution_count": null,
   "metadata": {},
   "outputs": [],
   "source": [
    "def alias_option(signal_name, sampling_points):\n",
    "    res = 0\n",
    "    if signal_name == 'alias_Chirp':\n",
    "        res = sps.chirp(sampling_points, 0, 1, 20)\n",
    "        \n",
    "    elif signal_name == 'alias_Cosine':\n",
    "        res = np.cos(20*np.pi*sampling_points)\n",
    "    \n",
    "    elif signal_name == 'alias_Square':\n",
    "        res = (np.mod(sampling_points,0.2)>0.1)*1\n",
    "        \n",
    "    return res"
   ]
  },
  {
   "cell_type": "markdown",
   "metadata": {},
   "source": [
    "### Signal Model Initialisation"
   ]
  },
  {
   "cell_type": "code",
   "execution_count": null,
   "metadata": {},
   "outputs": [],
   "source": [
    "# We use a Hamming window filter with a transition band of\n",
    "# 6.6*pi/M.  If we assume a 1% transition band, then\n",
    "# M>=330.  As we want a delay of a whole number of samples,\n",
    "# an odd length is required\n",
    "flength = 331\n",
    "samplingInterval = 0.004\n",
    "\n",
    "# Define the sampling rate for the \"original\" signal\n",
    "original_samplingInterval = 0.002\n",
    "\n",
    "signal_options = ['Cosine', 'Chirp', 'Square']\n",
    "signal = 'alias_' + signal_options[0]\n",
    "\n",
    "# Iteration interval of animation, between 0,1\n",
    "step = 0.005"
   ]
  },
  {
   "cell_type": "markdown",
   "metadata": {},
   "source": [
    "### Animation"
   ]
  },
  {
   "cell_type": "code",
   "execution_count": null,
   "metadata": {
    "scrolled": false
   },
   "outputs": [],
   "source": [
    "fig, ax = plt.subplots(figsize=(16, 8))\n",
    "plt.rcParams.update({'font.size': 16})\n",
    "matplotlib.rcParams['animation.embed_limit'] = 23\n",
    "\n",
    "ax.set_xlabel('Time', fontsize=16)\n",
    "ax.set_ylabel('Amplitude', fontsize=16)\n",
    "ax.set_xlim(0, 1)\n",
    "\n",
    "reconstruct, = ax.plot([], [], 'g-', linewidth = 1.3, label = 'Reconstructed Signal')\n",
    "originalSignal, = ax.plot([], [],'b-', linewidth = 1.3,label = 'Original Signal')\n",
    "\n",
    "(markerLines, stemLines, baseLines) = ax.stem([0], [0], label = 'Sampled Signal')\n",
    "plt.setp(stemLines, color = 'red', linewidth=1.3) \n",
    "plt.setp(baseLines, color = 'black', linewidth=1.3)\n",
    "plt.setp(markerLines, color = 'red') \n",
    "markerLines.set_markerfacecolor('none')\n",
    "\n",
    "ax.legend(loc = 'upper right')\n",
    "\n",
    "def animate(i):\n",
    "    value = (i+1) * step\n",
    "    samplingInterval = 0.004 + value*0.096\n",
    "    \n",
    "    ## Perform the sampling\n",
    "    # Determine the ratio of downsampling (non-integer)\n",
    "    sampling_ratio = samplingInterval / original_samplingInterval\n",
    "    \n",
    "    # We assume that the reconstructed sampling rate is\n",
    "    # approximately the same regardless of the downsampling rate.\n",
    "    # So the filter transition band will not change significantly,\n",
    "    # meaning that the filter length is fixed\n",
    "    pre_post_filter = (flength-1) / 2\n",
    "    \n",
    "    # Determine the number of extra samples required before the\n",
    "    # start and after the end to allow for the filter tails.  This\n",
    "    # should be a whole number of samples, and be as long as the\n",
    "    # half filter length\n",
    "    extra_samples = np.ceil(pre_post_filter / sampling_ratio)\n",
    "    \n",
    "    # Generate the vector of time values corresponding to the\n",
    "    # samples\n",
    "    sampling_points = np.arange(-extra_samples*samplingInterval,\n",
    "                                1 + extra_samples*samplingInterval + samplingInterval/2,\n",
    "                                samplingInterval)\n",
    "\n",
    "    # Compute the sampled values at these points\n",
    "    sampled_values = alias_option(signal, sampling_points)\n",
    "    \n",
    "    ## Generate the reconstructed signal\n",
    "    # Choose an interpolation factor that results in a sample\n",
    "    # spacing no larger than the original sampling\n",
    "    interp_factor = np.ceil(sampling_ratio)\n",
    "\n",
    "    # Define the FIR filter to remove all images above half of the\n",
    "    # sampling rate (note that fir1 works in a normalised frequency\n",
    "    # where 1 is the Nyquist rate).  The filter is scaled as this\n",
    "    # is an interpolating filter\n",
    "    h = interp_factor * sps.firwin(numtaps = flength-1,\n",
    "                                 cutoff = 1/interp_factor, \n",
    "                                 pass_zero = True)\n",
    "\n",
    "    # Create a vector for the interpolated signal prior to filtering\n",
    "    interp_wz = np.zeros(int(len(sampled_values)*interp_factor))\n",
    "\n",
    "    # and copy the sampled values into this\n",
    "    interp_wz[np.arange(0, len(interp_wz), interp_factor, dtype = int)] = sampled_values\n",
    "\n",
    "    # Applying the filter results in a smoothed interpolated signal\n",
    "    interpolated = sps.lfilter(h, [1], interp_wz)\n",
    "    \n",
    "    ## Plot the results\n",
    "    # Compute the offset which comprises the samples prior to time\n",
    "    # 0, plus the filter delay (half of the filter length)\n",
    "    offset = interp_factor*extra_samples + pre_post_filter\n",
    "\n",
    "    # Extract the signal corresponding to the original time range\n",
    "    reconstructed = interpolated[np.arange(0, int(np.ceil(interp_factor/samplingInterval))) \n",
    "                                 + 1 + int(offset)]\n",
    "\n",
    "    # and the time vector associated with these samples\n",
    "    rt = (np.arange(0, int(np.ceil(interp_factor/samplingInterval)))\n",
    "          * samplingInterval / interp_factor)\n",
    "    \n",
    "    \n",
    "    ## Reconstructed Signal plot\n",
    "    reconstruct.set_data(rt, reconstructed)\n",
    "    \n",
    "\n",
    "    ## Original Signal plot\n",
    "    t = np.arange(0, 1.002, original_samplingInterval)\n",
    "    s = alias_option(signal, t)\n",
    "    \n",
    "    ymin = min(s)\n",
    "    ymax = max(s)\n",
    "    YLim = np.array([ymin, ymax]) + (ymax-ymin)*np.array([-0.15, 0.15])\n",
    "    ax.set_ylim(YLim)\n",
    "    \n",
    "    originalSignal.set_data(t, s)\n",
    "    \n",
    "    \n",
    "    ## update stem plot, need clear operation cla()\n",
    "\n",
    "    markerLines.set_data(sampling_points, sampled_values)\n",
    "    baseLines.set_data([0, len(sampling_points)], [0,0])\n",
    "    stem_len = len(stemLines)\n",
    "    \n",
    "    for i in range(len(sampling_points)):\n",
    "        if i < stem_len:\n",
    "            stemLines[i].set_data([sampling_points[i], sampling_points[i]], [0, sampled_values[i]])\n",
    "        else:\n",
    "            stemLines.append(matplotlib.lines.Line2D([sampling_points[i], sampling_points[i]],\n",
    "                                                     [0, sampled_values[i]], color = \"red\"))\n",
    "            ax.add_line(stemLines[i])\n",
    "\n",
    "ani = matplotlib.animation.FuncAnimation(fig, animate, frames=int(1/step))\n",
    "plt.close()\n",
    "\n",
    "HTML(ani.to_jshtml())"
   ]
  },
  {
   "cell_type": "markdown",
   "metadata": {},
   "source": [
    "© The University of Edinburgh: Produced by D. Laurenson, School of Engineering. Initial code conversion by Xing Zixiao."
   ]
  }
 ],
 "metadata": {
  "kernelspec": {
   "display_name": "Python 3",
   "language": "python",
   "name": "python3"
  },
  "language_info": {
   "codemirror_mode": {
    "name": "ipython",
    "version": 3
   },
   "file_extension": ".py",
   "mimetype": "text/x-python",
   "name": "python",
   "nbconvert_exporter": "python",
   "pygments_lexer": "ipython3",
   "version": "3.6.6"
  }
 },
 "nbformat": 4,
 "nbformat_minor": 2
}
