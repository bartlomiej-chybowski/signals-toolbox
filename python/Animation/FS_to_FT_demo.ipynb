{
 "cells": [
  {
   "cell_type": "markdown",
   "metadata": {},
   "source": [
    "### Import libraries"
   ]
  },
  {
   "cell_type": "code",
   "execution_count": null,
   "metadata": {},
   "outputs": [],
   "source": [
    "from ipywidgets import interactive\n",
    "from IPython.display import display\n",
    "\n",
    "import numpy as np\n",
    "import matplotlib.pyplot as plt\n",
    "import matplotlib.animation\n",
    "import scipy.signal as sps\n",
    "from IPython.display import HTML"
   ]
  },
  {
   "cell_type": "markdown",
   "metadata": {},
   "source": [
    "### Parameters"
   ]
  },
  {
   "cell_type": "code",
   "execution_count": null,
   "metadata": {},
   "outputs": [],
   "source": [
    "time_limit = 4\n",
    "frequency_range = 25 \n",
    "\n",
    "uXLim = [-time_limit, time_limit]\n",
    "lXLim=[-frequency_range, frequency_range]\n",
    "period = 1\n",
    "\n",
    "time_axis = np.round(np.arange(-0.5, 0.5+0.005, 0.005), decimals=3)\n",
    "\n",
    "delta = ((time_axis[-1]-time_axis[0]) / \n",
    "         (len(time_axis)-1))\n",
    "\n",
    "waveform_options = ['Rectangular pulse', 'Triangle', 'Raised cosine']\n",
    "\n",
    "waveform = waveform_options[1]\n",
    "\n",
    "# animation iteraton interval between 0,1\n",
    "step = 0.005"
   ]
  },
  {
   "cell_type": "markdown",
   "metadata": {},
   "source": [
    "### Function Definition"
   ]
  },
  {
   "cell_type": "code",
   "execution_count": null,
   "metadata": {},
   "outputs": [],
   "source": [
    "def td_waveform(Waveform):\n",
    "    wf = Waveform\n",
    "    s = np.zeros(time_axis.size)\n",
    "    \n",
    "    if wf == waveform_options[0]:\n",
    "        # Define a rectangular pulse in time\n",
    "        s[abs(time_axis)<=0.1] = 1\n",
    "        \n",
    "    elif wf == waveform_options[1]:\n",
    "        # Define a triangular pulse in time\n",
    "        s[abs(time_axis)<=0.2] = 1 - 5 * abs(time_axis[abs(time_axis)<=0.2])\n",
    "        \n",
    "    elif wf ==  waveform_options[2]:\n",
    "        # Define a raised cosine pulse in time\n",
    "        s[abs(time_axis)<=0.2] = 1 + np.cos(np.pi*time_axis[abs(time_axis)<=0.2]/0.2)\n",
    "        \n",
    "    return s"
   ]
  },
  {
   "cell_type": "code",
   "execution_count": null,
   "metadata": {},
   "outputs": [],
   "source": [
    "def Perform_animation(Waveform):\n",
    "    time_signal = td_waveform(Waveform)\n",
    "    \n",
    "    # Generate a closely spaced frequency response\n",
    "    zero_padded = np.zeros(4096)\n",
    "    zero_padded[0:int((len(time_signal)+1)/2)] = time_signal[int((len(time_signal)+1)/2-1):]\n",
    "    zero_padded[int(-1-((len(time_signal)-3)/2)):] = time_signal[0:int((len(time_signal)-1)/2)]\n",
    "\n",
    "    # We assume a symmetric signal\n",
    "    frequency_response = (np.fft.fftshift(np.fft.fft(zero_padded))).real\n",
    "    fmin = min(frequency_response)\n",
    "    fmax = max(frequency_response)\n",
    "\n",
    "    if (fmin < 0):\n",
    "        fmin = fmin * 1.05\n",
    "    else:\n",
    "        fmin = fmin * 0.95\n",
    "\n",
    "    if (fmax < 0):\n",
    "        fmax = fmax * 0.95\n",
    "    else:\n",
    "        fmax = fmax * 1.05\n",
    "\n",
    "    flimits = [fmin, fmax]\n",
    "    frequency_axis = (np.arange(-(len(zero_padded)/2),(len(zero_padded)/2))\n",
    "                     / (delta*len(zero_padded)))\n",
    "\n",
    "\n",
    "    fig, [ax1, ax2] = plt.subplots(2, 1, figsize=(16, 8))\n",
    "    TimeAX, = ax1.plot([], [], 'b')\n",
    "    ax1.set_title('Time Domain')\n",
    "    ax1.set_xlabel('Time (s)')\n",
    "    ax1.set_ylabel('Amplitude')\n",
    "    ax1.set_xlim(uXLim)\n",
    "    \n",
    "    if Waveform == 'Raised cosine':\n",
    "        ax1.set_ylim(0, 2)\n",
    "    else: \n",
    "        ax1.set_ylim(0, 1.01)\n",
    "\n",
    "    (markerLines, stemLines, baseLines) = ax2.stem([0], [0])\n",
    "    plt.setp(stemLines, color = 'blue', linewidth=1.3) \n",
    "    plt.setp(baseLines, color = 'black', linewidth=1.3)\n",
    "    plt.setp(markerLines, color = 'blue') \n",
    "    markerLines.set_markerfacecolor('none')\n",
    "\n",
    "    ax2.set_xlabel('Frequency (Hz)')\n",
    "    ax2.set_ylabel('Amplitude')\n",
    "    ax2.set_title('Frequency Domain')\n",
    "    ax2.set_xlim(lXLim)\n",
    "    \n",
    "    plt.tight_layout()\n",
    "    def animate(i):\n",
    "        value = (i) * step\n",
    "        period = np.round(1 + time_limit*value, 4)\n",
    "\n",
    "        # The maximum number of repetitions is given by 2*time_limit+1,\n",
    "        # so generate this many copies, with the apropriate number of\n",
    "        # zeros between repetitions\n",
    "        reps = 2*time_limit + 1\n",
    "        separation = np.round((period-1)/delta, 0)\n",
    "        time_sep = len(time_signal) + separation\n",
    "        time_data = np.zeros(int(len(time_signal) * reps + separation * (reps-1)))\n",
    "        ptr = 1\n",
    "        for idx in range(reps):\n",
    "            time_data[int(ptr-1) : int(ptr+len(time_signal)-1)] = time_signal\n",
    "            ptr = ptr + time_sep\n",
    "\n",
    "        time_scale = ((np.arange(0, (len(time_data))) - ((len(time_data)-1)/2)) \n",
    "                      * delta)\n",
    "\n",
    "        # Time Domain plot\n",
    "        TimeAX.set_data(time_scale, time_data)\n",
    "\n",
    "        # Frequency domain stem plot\n",
    "        f_sample_spacing = len(frequency_response) / (len(time_signal)+separation)\n",
    "        upper = np.arange(0, (frequency_range * delta * \n",
    "                              len(frequency_response)), f_sample_spacing)\n",
    "        upper = upper.reshape(1, len(upper))\n",
    "\n",
    "        faxis = np.concatenate((-np.fliplr(upper), upper[0, 1:].reshape(1, upper.size-1)), axis = 1)\n",
    "\n",
    "        findex = np.round(faxis) + len(frequency_response)/2\n",
    "        faxis = faxis / (delta*len(frequency_response))\n",
    "        fvalues = frequency_response[findex.astype(int)] / time_sep\n",
    "\n",
    "        lYLim = flimits / time_sep\n",
    "        ax2.set_ylim(lYLim) \n",
    "\n",
    "        ## update stem plot\n",
    "        markerLines.set_data(faxis[0], fvalues[0])\n",
    "        baseLines.set_data([-len(fvalues[0]), len(fvalues[0])], [0,0])\n",
    "        stem_len = len(stemLines)\n",
    "\n",
    "        for i in range(len(fvalues[0])):\n",
    "            if i < stem_len:\n",
    "                stemLines[i].set_data([faxis[0][i], faxis[0][i]], [0, fvalues[0][i]])\n",
    "            else:\n",
    "                stemLines.append(matplotlib.lines.Line2D([faxis[0][i], faxis[0][i]],\n",
    "                                                         [0, fvalues[0][i]], color = \"blue\"))\n",
    "                ax2.add_line(stemLines[i])\n",
    "\n",
    "        plt.tight_layout()\n",
    "\n",
    "    ani = matplotlib.animation.FuncAnimation(fig, animate, \n",
    "                                             frames = int(1/step)+1)\n",
    "    plt.close()\n",
    "\n",
    "    display(HTML(ani.to_jshtml()))\n",
    "\n"
   ]
  },
  {
   "cell_type": "code",
   "execution_count": null,
   "metadata": {
    "scrolled": false
   },
   "outputs": [],
   "source": [
    "### if cell show result in scrolling mode, click menu cell - Current Outputs - Toggle twice\n",
    "matplotlib.rcParams.update({'font.size': 15})\n",
    "interactive(Perform_animation, Waveform=waveform_options)"
   ]
  },
  {
   "cell_type": "markdown",
   "metadata": {},
   "source": [
    "© The University of Edinburgh: Produced by D. Laurenson, School of Engineering. Initial code conversion by Xing Zixiao."
   ]
  }
 ],
 "metadata": {
  "kernelspec": {
   "display_name": "Python 3",
   "language": "python",
   "name": "python3"
  },
  "language_info": {
   "codemirror_mode": {
    "name": "ipython",
    "version": 3
   },
   "file_extension": ".py",
   "mimetype": "text/x-python",
   "name": "python",
   "nbconvert_exporter": "python",
   "pygments_lexer": "ipython3",
   "version": "3.6.6"
  }
 },
 "nbformat": 4,
 "nbformat_minor": 2
}
