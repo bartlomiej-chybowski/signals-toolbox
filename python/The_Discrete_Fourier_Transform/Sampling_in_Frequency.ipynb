{
 "cells": [
  {
   "cell_type": "markdown",
   "metadata": {},
   "source": [
    "# The DFT as a sampled DTFT\n",
    "The discrete Fourier transform (DFT) can be considered as a sampled version of the discrete-time Fourier transform of one period of the signal.  Here we plot the DTFT, and superimpose a plot with $N$ samples of the DTFT.  If $N$ is too small, then it becomes clear that the samples cannot fully represent the DTFT, and hence information would be lost."
   ]
  },
  {
   "cell_type": "markdown",
   "metadata": {},
   "source": [
    "### Preamble\n",
    "Start by importing the Python libraries that we will require"
   ]
  },
  {
   "cell_type": "code",
   "execution_count": null,
   "metadata": {},
   "outputs": [],
   "source": [
    "import numpy as np\n",
    "import matplotlib.pyplot as plt"
   ]
  },
  {
   "cell_type": "markdown",
   "metadata": {},
   "source": [
    "And define a function that will return true if running in a Jupyter Notebook"
   ]
  },
  {
   "cell_type": "code",
   "execution_count": null,
   "metadata": {},
   "outputs": [],
   "source": [
    "def is_jupyter():\n",
    "    \"\"\"Return true if running in a Jupyter Notebook\"\"\"\n",
    "    try:\n",
    "        if get_ipython().__class__.__name__ == 'ZMQInteractiveShell':\n",
    "            return True\n",
    "        else:\n",
    "            return False\n",
    "    except: \n",
    "        return False"
   ]
  },
  {
   "cell_type": "markdown",
   "metadata": {},
   "source": [
    "### User specified parameters\n",
    "The following parameters can be specified.  \n",
    "\n",
    "Parameter | Meaning\n",
    "--------- | -------\n",
    "<code>x_lims</code> |Set the range of the frequency axis in the plots."
   ]
  },
  {
   "cell_type": "code",
   "execution_count": null,
   "metadata": {},
   "outputs": [],
   "source": [
    "x_lims = [-1.5*np.pi, 2.9*np.pi]"
   ]
  },
  {
   "cell_type": "markdown",
   "metadata": {},
   "source": [
    "### Function definitions\n",
    "We start by defining the discrete-time Fourier transform for the sequence $$[-0.25,0,0.5,\\underset{\\uparrow}{1.5},0.5,0,-0.25]$$\n",
    "Note that $\\uparrow$ denotes the sample x(0).  We create a function that returns the frequency profile for a specified set of frequencies, <code>sample_points</code>.  In this example, the input has 7 points."
   ]
  },
  {
   "cell_type": "code",
   "execution_count": null,
   "metadata": {},
   "outputs": [],
   "source": [
    "def frequency_profile(sample_points):\n",
    "    \"\"\"\n",
    "       Get y-axis data for sampling data x_vals.\n",
    "    \"\"\"\n",
    "    X = 1.5 + np.cos(sample_points) - 0.5 * np.cos(3*sample_points)\n",
    "    \n",
    "    return X"
   ]
  },
  {
   "cell_type": "markdown",
   "metadata": {},
   "source": [
    "We now define a function that will plot the discrete-time Fourier transform using a continuous line, and a set of <code>N_points</code> of the function that form the DFT values."
   ]
  },
  {
   "cell_type": "code",
   "execution_count": null,
   "metadata": {},
   "outputs": [],
   "source": [
    "def plot_figures(DTFT_freq, DTFT_amp, DFT_freq, DFT_amp):\n",
    "    \"\"\"\n",
    "        Plot a figure showing a continuous DTFT, and samples of this\n",
    "        function representing the DFT.  Also plot a second figure that\n",
    "        displays the inverse DFT of the samples.  Arguments are:\n",
    "            DTFT_freq: the frequencies corresponding to the DTFT plot samples\n",
    "            DTFT_amp: the amplitude of the DTFT at the plot sampling points\n",
    "            DFT_freq: the N_points frequencies of the DFT samples\n",
    "            DFT_amp: the DFT amplitude at the N_points sampling points\n",
    "    \"\"\"\n",
    "\n",
    "    # Extract the plot information that we need from the data\n",
    "    N_points = len(DFT_freq)\n",
    "    x_lims = [min(DTFT_freq),max(DTFT_freq)]\n",
    "    \n",
    "    # Create the plot figure\n",
    "    plt.figure(figsize = (16, 8))\n",
    "    # Update label font size\n",
    "    plt.rcParams.update({'font.size': 16})\n",
    "    \n",
    "    # plot X in continuous frequency\n",
    "    plt.plot(DTFT_freq, DTFT_amp)\n",
    "    \n",
    "    # Get current axes instance\n",
    "    ax = plt.gca()\n",
    "    \n",
    "    # Get current ylim\n",
    "    yll, yul = ax.get_ylim()\n",
    "    \n",
    "    # Plot sampling using stem \n",
    "    (markerLines, stemLines, baseLines) = plt.stem(DFT_freq, \n",
    "                                                   DFT_amp, \n",
    "                                                   markerfmt='ro',\n",
    "                                                   use_line_collection = True,\n",
    "                                                   bottom = yll)\n",
    "    \n",
    "    # Set stemlines and baselines color to red and linewidth = 1\n",
    "    plt.setp(stemLines, color = 'red', linewidth=1)\n",
    "    plt.setp(baseLines, color = 'red', linewidth=1)\n",
    "    \n",
    "    # Tidy up the plot to control axes sizes and labels\n",
    "    plt.xlim(x_lims)\n",
    "    plt.ylim([yll, yul])\n",
    "    \n",
    "    # Set y axis to invisible\n",
    "    ax.get_yaxis().set_visible(False)\n",
    "    plt.title('$X(\\omega)$, N=%d'%N_points)\n",
    "    plt.xlabel('Frequency (radians/sampling interval)')\n",
    "    plt.xticks(np.linspace(-np.pi, 2*np.pi, 4), \n",
    "               ['$-\\pi$', '0', '$\\pi$', '$2\\pi$'])\n",
    "    \n",
    "    # Save figure in python or ipython system\n",
    "    if not is_jupyter(): plt.savefig('sampling_in_frequency_%d.pdf'%N_points)\n",
    "    \n",
    "    # Now use the inverse DFT transform to attempt to recover the data\n",
    "    # from the samples of the DTFT\n",
    "\n",
    "    # Calculate inverse DFT which should be real as the transform\n",
    "    # is symmetric and real\n",
    "    xn = np.real(np.fft.ifft(DFT_amp))\n",
    "\n",
    "    # Create the second plot figure\n",
    "    plt.figure(figsize = (16, 8))\n",
    "    # Update label font size\n",
    "    plt.rcParams.update({'font.size': 16})\n",
    "    plot_data = np.tile(xn,3)\n",
    "    plot_time = np.arange(-len(xn),2*len(xn))\n",
    "    # Plot sampling using stem \n",
    "    (markerLines, stemLines, baseLines) = plt.stem(plot_time, \n",
    "                                                   plot_data, \n",
    "                                                   markerfmt='ro',\n",
    "                                                   use_line_collection = True,\n",
    "                                                   bottom = 0)\n",
    "\n",
    "    # Set stemlines and baselines color and linewidth\n",
    "    plt.setp(stemLines, color = 'blue', linewidth=1)\n",
    "    plt.setp(baseLines, color = 'black', linewidth=1)\n",
    "\n",
    "    plt.xlim([-len(xn),2*len(xn)-1])\n",
    "    \n",
    "    plt.title('Inverse DFT, $x(n)$, N=%d'%N_points)\n",
    "    plt.xlabel('Time (samples)')\n",
    "    plt.ylabel('Amplitude')\n",
    "\n",
    "    # Save figure in python or ipython system\n",
    "    if not is_jupyter(): plt.savefig('sampling_in_frequency_inverse_transform_%d.pdf'%N_points)\n"
   ]
  },
  {
   "cell_type": "markdown",
   "metadata": {},
   "source": [
    "Here we generate the continuous and discrete data that is to be plotted.  The function computes the sample spacing (which is very closely spaced for the DTFT plot), and calls the function to determine the value at each of these frequency samples.  These are passed to <code>plot_figure()</code> to display the result."
   ]
  },
  {
   "cell_type": "code",
   "execution_count": null,
   "metadata": {},
   "outputs": [],
   "source": [
    "def plot_sampled_DTFT(x_lims, N_points):\n",
    "    \"\"\"\n",
    "       Plot figure with different N points.\n",
    "    \"\"\"\n",
    "    DTFT_freq = np.linspace(x_lims[0], x_lims[1],\n",
    "                     int((x_lims[1]-x_lims[0])/0.01*np.pi))\n",
    "    DTFT_amp = frequency_profile(DTFT_freq)\n",
    "    \n",
    "    # Define x-axis and y-axis for sampling\n",
    "    DFT_freq = np.arange(0,N_points) * 2 * np.pi / N_points\n",
    "    DFT_amp = frequency_profile(DFT_freq)\n",
    "\n",
    "    plot_figures(DTFT_freq, DTFT_amp, DFT_freq, DFT_amp)"
   ]
  },
  {
   "cell_type": "markdown",
   "metadata": {},
   "source": [
    "### Plot the figure for different numbers of samples in the frequency domain"
   ]
  },
  {
   "cell_type": "code",
   "execution_count": null,
   "metadata": {},
   "outputs": [],
   "source": [
    "# For the first plot, use 8 points\n",
    "plot_sampled_DTFT(x_lims, 8)"
   ]
  },
  {
   "cell_type": "markdown",
   "metadata": {},
   "source": [
    "Now let's plot the graphs for different values of $N$.  When $N$ is sufficiently large, then the original data sequence can be recovered.  However, if $N$ is too small, then it is not possible to use the inverse transform to recover this data from the frequency domain samples."
   ]
  },
  {
   "cell_type": "code",
   "execution_count": null,
   "metadata": {
    "scrolled": false
   },
   "outputs": [],
   "source": [
    "# For the remaining plots, repeat with different N \n",
    "plot_sampled_DTFT(x_lims, 11)\n",
    "plot_sampled_DTFT(x_lims, 7)\n",
    "plot_sampled_DTFT(x_lims, 4)"
   ]
  },
  {
   "cell_type": "markdown",
   "metadata": {},
   "source": [
    "© The University of Edinburgh: Produced by D. Laurenson, School of Engineering. Initial code conversion by Xing Zixiao."
   ]
  }
 ],
 "metadata": {
  "kernelspec": {
   "display_name": "Python 3",
   "language": "python",
   "name": "python3"
  },
  "language_info": {
   "codemirror_mode": {
    "name": "ipython",
    "version": 3
   },
   "file_extension": ".py",
   "mimetype": "text/x-python",
   "name": "python",
   "nbconvert_exporter": "python",
   "pygments_lexer": "ipython3",
   "version": "3.7.6"
  }
 },
 "nbformat": 4,
 "nbformat_minor": 2
}
