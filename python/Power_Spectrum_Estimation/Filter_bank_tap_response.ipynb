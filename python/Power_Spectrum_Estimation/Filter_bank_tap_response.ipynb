{
 "cells": [
  {
   "cell_type": "markdown",
   "metadata": {},
   "source": [
    "# Filter bank tap response\n",
    "This notebook plots the frequency response of a single DFT tap, assuming no window function.  The DFT is essentially a set of finite impulse response (FIR) filters, with the impulse response for the frequency term $f_s$ specified as:\n",
    "$$h(n)=e^{j2\\pi f_s n/L}$$\n",
    "The frequency response of the term can be found by calculating the transfer function corresponding to this impulse response."
   ]
  },
  {
   "cell_type": "markdown",
   "metadata": {},
   "source": [
    "### Preamble\n",
    "Start by importing the Python libraries that we will require"
   ]
  },
  {
   "cell_type": "code",
   "execution_count": null,
   "metadata": {},
   "outputs": [],
   "source": [
    "import numpy as np\n",
    "import matplotlib.pyplot as plt"
   ]
  },
  {
   "cell_type": "markdown",
   "metadata": {},
   "source": [
    "And define a function that will return true if running in a Jupyter Notebook"
   ]
  },
  {
   "cell_type": "code",
   "execution_count": null,
   "metadata": {},
   "outputs": [],
   "source": [
    "def is_jupyter():\n",
    "    \"\"\"Return true if running in a Jupyter Notebook\"\"\"\n",
    "    try:\n",
    "        if get_ipython().__class__.__name__ == 'ZMQInteractiveShell':\n",
    "            return True\n",
    "        else:\n",
    "            return False\n",
    "    except: \n",
    "        return False"
   ]
  },
  {
   "cell_type": "markdown",
   "metadata": {},
   "source": [
    "### User specified parameters\n",
    "\n",
    "The following parameters can be specified.  \n",
    "\n",
    "Parameter | Meaning\n",
    "--------- | -------\n",
    "<code>L</code> |The length of the DFT (e.g. 32)\n",
    "<code>f_s</code> | The DFT tap to be computed (e.g. 6)\n",
    "<code>FFT_length</code> |Length of the FFT after zero padding the impulse response (e.g. 2048)"
   ]
  },
  {
   "cell_type": "code",
   "execution_count": null,
   "metadata": {},
   "outputs": [],
   "source": [
    "L = 32\n",
    "f_s = 6\n",
    "FFT_length = 2048"
   ]
  },
  {
   "cell_type": "markdown",
   "metadata": {},
   "source": [
    "### Obtain the impulse response\n",
    "The impulse response of the filter corresponding to the frequency term $f_s$ is given by $h(n)=e^{j2\\pi f_s n/L}$."
   ]
  },
  {
   "cell_type": "code",
   "execution_count": null,
   "metadata": {},
   "outputs": [],
   "source": [
    "n = np.arange(0, L)\n",
    "h = np.exp(1j*2*np.pi*f_s*n/L)"
   ]
  },
  {
   "cell_type": "markdown",
   "metadata": {},
   "source": [
    "### Perform a zero-padded FFT of the impulse response.  \n",
    "Compute the transfer function.  As the first term of the FFT result is the d.c. term, we perform a circular shift to re-arrange the result so that the negative frequency terms come first, followed by the positive frequency terms."
   ]
  },
  {
   "cell_type": "code",
   "execution_count": null,
   "metadata": {},
   "outputs": [],
   "source": [
    "# Use numpy.roll(array, shift) function to perform a circular shift\n",
    "H = np.roll(np.fft.fft(h.T, FFT_length), int(FFT_length/2))"
   ]
  },
  {
   "cell_type": "markdown",
   "metadata": {},
   "source": [
    "### Plot the magnitude of the frequency response"
   ]
  },
  {
   "cell_type": "code",
   "execution_count": null,
   "metadata": {},
   "outputs": [],
   "source": [
    "# Create the plot figure\n",
    "plt.figure(figsize = (16, 8))\n",
    "# Update label fontsize\n",
    "plt.rcParams.update({'font.size': 16})\n",
    "\n",
    "# Plot the magnitude of the transform\n",
    "plt.plot(20*np.log10(abs(H)/L))\n",
    "\n",
    "# Tidy up the plot to control axes sizes and labels\n",
    "plt.xlim([0, FFT_length])\n",
    "plt.xlabel('Frequency (rad/sample)', fontsize = 15)\n",
    "plt.ylim([-50, 5])\n",
    "plt.ylabel('Magnitude (dB)', fontsize = 15)\n",
    "\n",
    "# Label the x-axis\n",
    "tick_positions = np.array([0, FFT_length/4, FFT_length/2, \n",
    "                      3*FFT_length/4, FFT_length,\n",
    "                      np.mod(FFT_length*(0.5+f_s/L), FFT_length)])\n",
    "\n",
    "tick_labels = [ '$-\\pi$', '$-\\pi/2$', '0', '$\\pi/2$', '$\\pi$', '$f_s$' ]\n",
    "plt.xticks(tick_positions, tick_labels)\n",
    "\n",
    "# Save figure in python or ipython system\n",
    "if not is_jupyter():\n",
    "    plt.tight_layout()\n",
    "    plt.savefig('FIR_filter_bank_estimate.pdf')"
   ]
  },
  {
   "cell_type": "markdown",
   "metadata": {},
   "source": [
    "© The University of Edinburgh: Produced by D. Laurenson, School of Engineering. Initial code conversion by Xing Zixiao."
   ]
  }
 ],
 "metadata": {
  "kernelspec": {
   "display_name": "Python 3",
   "language": "python",
   "name": "python3"
  },
  "language_info": {
   "codemirror_mode": {
    "name": "ipython",
    "version": 3
   },
   "file_extension": ".py",
   "mimetype": "text/x-python",
   "name": "python",
   "nbconvert_exporter": "python",
   "pygments_lexer": "ipython3",
   "version": "3.7.3"
  }
 },
 "nbformat": 4,
 "nbformat_minor": 2
}
