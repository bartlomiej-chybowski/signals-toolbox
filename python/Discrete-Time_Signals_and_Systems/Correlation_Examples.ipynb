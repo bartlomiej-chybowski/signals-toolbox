{
 "cells": [
  {
   "cell_type": "markdown",
   "metadata": {},
   "source": [
    "# Correlation Examples\n",
    "These examples are based on pseudorandom sequences.  For the purposes of the notes, a particular sequence which has a high autocorrelation peak, an m-sequence, is used."
   ]
  },
  {
   "cell_type": "markdown",
   "metadata": {},
   "source": [
    "### Import function"
   ]
  },
  {
   "cell_type": "markdown",
   "metadata": {},
   "source": [
    "The code to generate the m-sequence is long, and not directly related to correlation.  So, this is held in an external file, mseq_function.py.  To avoid the code being displayed as an output, in a Jupyter notebook, or ipython script, it is loaded with <code>%run</code>.  For standard Python, import is used."
   ]
  },
  {
   "cell_type": "code",
   "execution_count": null,
   "metadata": {},
   "outputs": [],
   "source": [
    "try:\n",
    "    # in jupyter or ipynb system\n",
    "    %run mseq_function.py\n",
    "except: \n",
    "    # When download this jupyter notebook as .py file,\n",
    "    # the line above will raise an error,\n",
    "    # so in python system\n",
    "    from mseq_function import *"
   ]
  },
  {
   "cell_type": "markdown",
   "metadata": {},
   "source": [
    "### Preamble\n",
    "Start by importing the Python libraries that we will require"
   ]
  },
  {
   "cell_type": "code",
   "execution_count": null,
   "metadata": {},
   "outputs": [],
   "source": [
    "import numpy as np\n",
    "import matplotlib.pyplot as plt"
   ]
  },
  {
   "cell_type": "markdown",
   "metadata": {},
   "source": [
    "And define a function that will return true if running in a Jupyter Notebook"
   ]
  },
  {
   "cell_type": "code",
   "execution_count": null,
   "metadata": {},
   "outputs": [],
   "source": [
    "def is_jupyter():\n",
    "    \"\"\"Return true if running in a Jupyter Notebook\"\"\"\n",
    "    try:\n",
    "        if get_ipython().__class__.__name__ == 'ZMQInteractiveShell':\n",
    "            return True\n",
    "        else:\n",
    "            return False\n",
    "    except: \n",
    "        return False"
   ]
  },
  {
   "cell_type": "markdown",
   "metadata": {},
   "source": [
    "### Plotting function\n",
    "To simplify the code, a function to produce the plots is defined below:"
   ]
  },
  {
   "cell_type": "code",
   "execution_count": null,
   "metadata": {},
   "outputs": [],
   "source": [
    "def plot_figure(y, xlabel, ylabel, xlim, ylim, title, name):\n",
    "    \"\"\"\n",
    "       Function that create a stem plot and \n",
    "       Save the figure with given name when not running in Jupyter notebook\n",
    "       \n",
    "       Parameters:\n",
    "                  y (array-like): The y-values of the stem heads.\n",
    "                  xlabel (str): The label for the x-axis.\n",
    "                  ylabel (str): The label for the y-axis.\n",
    "                  xlim ([left, right]): Set the xlim to left, right.\n",
    "                  ylim ([left, right]): Set the ylim to left, right.\n",
    "                  title (str): The title of figure.\n",
    "                  name (str): Name used to save figure.\n",
    "    \"\"\"\n",
    "    # Create the plot figure\n",
    "    plt.figure(figsize = (12, 6))\n",
    "    \n",
    "    # Enlarge figure label and axis size\n",
    "    plt.rcParams.update({'font.size': 16})\n",
    "    \n",
    "    # Generate the x-axis\n",
    "    x = np.arange(xlim[0],xlim[1]+1)\n",
    "    \n",
    "    # stem plot and its marker style\n",
    "    (markerLines, stemLines, baseLines) = plt.stem(x, y, use_line_collection = True)\n",
    "    markerLines.set_markersize(4)\n",
    "    plt.setp(stemLines, linewidth=1) \n",
    "    plt.setp(baseLines, color = 'black', linewidth=1) \n",
    "    \n",
    "    # Tidy up the plot to control axes sizes and labels\n",
    "    plt.xlim(xlim)    \n",
    "    plt.ylim(ylim)\n",
    "    plt.xlabel(xlabel)\n",
    "    plt.ylabel(ylabel)\n",
    "    plt.title(title)\n",
    "    \n",
    "    # Save figure in python or ipython system\n",
    "    if not is_jupyter(): plt.savefig(name)"
   ]
  },
  {
   "cell_type": "markdown",
   "metadata": {},
   "source": [
    "### Define the input\n",
    "Generate the input sequence as an m-sequence, which has good correlation properties."
   ]
  },
  {
   "cell_type": "code",
   "execution_count": null,
   "metadata": {},
   "outputs": [],
   "source": [
    "sequence = mseq(2,7)"
   ]
  },
  {
   "cell_type": "markdown",
   "metadata": {},
   "source": [
    "Plot the sequence values"
   ]
  },
  {
   "cell_type": "code",
   "execution_count": null,
   "metadata": {},
   "outputs": [],
   "source": [
    "# Plot the sequence to show its structure\n",
    "\n",
    "plot_figure(y=sequence, xlim=[0, 126], ylim=[-4.2, 4.2],\n",
    "            xlabel='Sample', ylabel='Amplitude',\n",
    "            title='Input data sequence',\n",
    "            name='correlation_input_data_sequence.pdf')"
   ]
  },
  {
   "cell_type": "markdown",
   "metadata": {},
   "source": [
    "### Autocorrelation\n",
    "The autocorrelation of the m-sequence is computed by correlating the sequence with itself.  The largest value occurs at zero displacement (delay), and for the m-sequence, all of the other values are small."
   ]
  },
  {
   "cell_type": "code",
   "execution_count": null,
   "metadata": {},
   "outputs": [],
   "source": [
    "# Compute the autocorrelation of the sequence \n",
    "# using the crosscorrelation function\n",
    "rxx = np.correlate(sequence, sequence, 'full')\n",
    "\n",
    "# Plot the result\n",
    "plot_figure(y=rxx, xlim=[-126, 126], ylim=[-20, 140],\n",
    "            xlabel='Delay', ylabel='Correlation',\n",
    "            title='Input autocorrelation sequence',\n",
    "            name='input_autocorrelation.pdf')"
   ]
  },
  {
   "cell_type": "markdown",
   "metadata": {},
   "source": [
    "### Finding a signal in noise\n",
    "One of the applications of correlation is to find a signal buried within noise.  Here we generate a noise sequence, add the m-sequence in, with a delay, and plot it.  From the plot it is not possible to identify that the signal is present."
   ]
  },
  {
   "cell_type": "code",
   "execution_count": null,
   "metadata": {},
   "outputs": [],
   "source": [
    "# Create a noisy, time-delayed received signal from the input sequence.\n",
    "# In this case, SNR=0dB.  Start by generating the noise using\n",
    "# numpy.random.randn(d0) which returns samples from the “standard normal”\n",
    "# distribution.\n",
    "corrupted = np.random.randn(127)\n",
    "\n",
    "# Now add the signal in\n",
    "corrupted[7:127] = corrupted[7:127] + sequence[0:120]\n",
    "\n",
    "# Plot the noisy \"received\" signal\n",
    "plot_figure(y=corrupted, xlim=[0, 126], ylim=[-4.2, 4.2],\n",
    "            xlabel='Sample', ylabel='Amplitude',\n",
    "            title='Received data sequence',\n",
    "            name='correlation_received_data_sequence.pdf')"
   ]
  },
  {
   "cell_type": "markdown",
   "metadata": {},
   "source": [
    "However, when the crosscorrelation of the original sequence and the noisy one is calculated, the presence of the sequence is obvious, as is the delay with which it has been added.  If you wish to convince yourself that this is true, replace <code>corrupted</code> below with <code>np.random.randn(127)</code> and rerun the cell."
   ]
  },
  {
   "cell_type": "code",
   "execution_count": null,
   "metadata": {},
   "outputs": [],
   "source": [
    "# Compute the crosscorrelation between the transmitted and received signals\n",
    "rxy = np.correlate(sequence, corrupted, 'full')\n",
    "\n",
    "# Plot the result\n",
    "plot_figure(y=rxy, xlim=[-126, 126], ylim=[-40, 120],\n",
    "            xlabel='Delay', ylabel='Correlation',\n",
    "            title='Crosscorrelation result',\n",
    "            name='crosscorrelation_result.pdf')"
   ]
  },
  {
   "cell_type": "markdown",
   "metadata": {},
   "source": [
    "### Identifying periodicity\n",
    "\n",
    "It is possible, without knowing the transmitted signal, to identify that a periodically repeating signal is present, even if it is corrupted by noise.  In the example below, the sequence above is repeated 79 times.  Noise is added with a power of 0 dB (as above), making it impossible to identify the signal from the time domain.  The autocorrelation of a periodic sequence is periodic, while the autocorrelation of the noise has a large value at 0 delay, but all other values are small.\n",
    "\n",
    "In the plot below, the periodic repetitions can be identified from the large values at 127 and 254 (as well as -127 and -254).  The sequence has a length of 127, so this is the period of the repeating signal.  The larger value at the delay of 0 is a result of the noise autocorrelation added to the autocorrelation of the sequence at delay 0."
   ]
  },
  {
   "cell_type": "code",
   "execution_count": null,
   "metadata": {
    "scrolled": false
   },
   "outputs": [],
   "source": [
    "# Generate a received signal from a periodic transmission of \n",
    "# the radar waveform\n",
    "corrupted_periodic = np.random.randn(10000)\n",
    "\n",
    "# Use repamt function to repeat sequence 79 times\n",
    "periodic_stream = np.tile(sequence, 79)\n",
    "corrupted_periodic[7:10000] = corrupted_periodic[7:10000] + \\\n",
    "                              periodic_stream[0:9993]\n",
    "\n",
    "# Compute the autocorrelation of the received signal\n",
    "ryy = np.correlate(corrupted_periodic, corrupted_periodic, mode='full')\n",
    "\n",
    "# Plot only the central section of ryy, so that the detail can be seen\n",
    "plot_figure(y=ryy[9699:10300],\n",
    "            xlim=[-300,300], ylim=[-2000,21000],\n",
    "            xlabel='Delay', ylabel='Correlation',\n",
    "            title='Autocorrelation of received signal',\n",
    "            name='receiver_autocorrelation_result.pdf')"
   ]
  },
  {
   "cell_type": "markdown",
   "metadata": {},
   "source": [
    "© The University of Edinburgh: Produced by D. Laurenson, School of Engineering. Initial code conversion by Xing Zixiao."
   ]
  }
 ],
 "metadata": {
  "kernelspec": {
   "display_name": "Python 3",
   "language": "python",
   "name": "python3"
  },
  "language_info": {
   "codemirror_mode": {
    "name": "ipython",
    "version": 3
   },
   "file_extension": ".py",
   "mimetype": "text/x-python",
   "name": "python",
   "nbconvert_exporter": "python",
   "pygments_lexer": "ipython3",
   "version": "3.8.5"
  }
 },
 "nbformat": 4,
 "nbformat_minor": 2
}
