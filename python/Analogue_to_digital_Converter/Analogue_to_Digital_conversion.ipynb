{
 "cells": [
  {
   "cell_type": "markdown",
   "metadata": {},
   "source": [
    "# Analogue to Digital conversion\n",
    "In this notebook, the signal analysis techniques developed throughout the course are applied to an analogue to digital converter."
   ]
  },
  {
   "cell_type": "markdown",
   "metadata": {},
   "source": [
    "### Preamble\n",
    "Start by importing the Python libraries that we will require"
   ]
  },
  {
   "cell_type": "code",
   "execution_count": null,
   "metadata": {},
   "outputs": [],
   "source": [
    "import numpy as np\n",
    "import scipy as sp\n",
    "from scipy.signal import *\n",
    "import scipy.linalg as spl\n",
    "import matplotlib.pyplot as plt"
   ]
  },
  {
   "cell_type": "markdown",
   "metadata": {},
   "source": [
    "And define a function that will return true if running in a Jupyter Notebook"
   ]
  },
  {
   "cell_type": "code",
   "execution_count": null,
   "metadata": {},
   "outputs": [],
   "source": [
    "def is_jupyter():\n",
    "    \"\"\"Return true if running in a Jupyter Notebook\"\"\"\n",
    "    try:\n",
    "        if get_ipython().__class__.__name__ == 'ZMQInteractiveShell':\n",
    "            return True\n",
    "        else:\n",
    "            return False\n",
    "    except: \n",
    "        return False"
   ]
  },
  {
   "cell_type": "markdown",
   "metadata": {},
   "source": [
    "### User specified parameters\n",
    "\n",
    "The following parameters can be specified.  \n",
    "\n",
    "Parameter | Meaning\n",
    "--------- | -------\n",
    "<code>b</code> |The number of converter bits (e.g. 3)\n",
    "<code>Ts</code> |Sampling interval (inverse of sampling rate, e.g. 1/8000)\n",
    "<code>f</code> |Frequency of sinewave (e.g. 200 Hz)\n",
    "<code>R</code> |Range of ADC is +/- R (e.g. 0.5 V)\n",
    "<code>A</code> |Signal peak to peak amplitude (should be < R)\n",
    "<code>O</code> |Oversampling rate (e.g. 4)\n",
    "<code>D</code> |Decimation filter length (odd number) (e.g. 311)\n",
    "<code>plot_samples</code> |Number of sample periods to plot (e.g. 50)\n",
    "<code>duration</code> |Length of time to compute in unts of Ts/plot_samples (e.g. 65536)\n",
    "<code>points_per_sample</code> |For plotting purposes (e.g. 16, must be >= O)"
   ]
  },
  {
   "cell_type": "code",
   "execution_count": null,
   "metadata": {},
   "outputs": [],
   "source": [
    "b = 3\n",
    "Ts = 1 / 8000\n",
    "f = 200\n",
    "R = 0.5\n",
    "A = R * 0.85\n",
    "O = 4\n",
    "D = 311\n",
    "plot_samples = 50\n",
    "duration = 65536\n",
    "points_per_sample = 16"
   ]
  },
  {
   "cell_type": "markdown",
   "metadata": {},
   "source": [
    "### Function definitions\n",
    "We are going to use the minimum variance spectral estimation technique, so we will require a function to compute the autocorrelation values for M lags, and also a function to compute the MVSE estimate."
   ]
  },
  {
   "cell_type": "code",
   "execution_count": null,
   "metadata": {},
   "outputs": [],
   "source": [
    "def Autocorrelation(x, M):\n",
    "    \"\"\"\n",
    "        Calculate autocorrelation of x with maximum lag M.\n",
    "        \n",
    "        INPUT:\n",
    "            x - vector to be correlated\n",
    "            M - maximum correlation lag\n",
    "        \n",
    "        RETURN:\n",
    "            acf - autocorrelation of x with lag M\n",
    "        \n",
    "    \"\"\"\n",
    "\n",
    "    #### Step 1 - initialise the index to identify the data block\n",
    "    #### We don't need to copy the data block as python can select\n",
    "    #### the block at the call time of the FFT.  i is reserved for\n",
    "    #### sqrt(-1), so call it index instead\n",
    "    index = 0\n",
    "    \n",
    "    #### Step 2 - compute the FFT of x_i(n)\n",
    "    X = sp.fft.fft(x[index*(M+1):(index+1)*(M+1)], 2*M+2)\n",
    "\n",
    "    #### Steps 3 to 6 are repeated, accumulating their results in\n",
    "    #### a vector.  We need to initialise the vector first\n",
    "\n",
    "    result = np.zeros(2*M+2)\n",
    "\n",
    "    # It is also helpful to generate the vector of [ 1 -1 1 ... ]\n",
    "\n",
    "    phase_shift = np.power((-1), np.arange(0, 2*M+2))\n",
    "\n",
    "    # Do the repetition until we run out of data\n",
    "    while (True):\n",
    "\n",
    "        #### Step 3 - compute X_i(k)X^*_i(k) and store\n",
    "\n",
    "        result = result + np.multiply(np.conj(X), X).real\n",
    "\n",
    "        #### Step 4 - increment i\n",
    "\n",
    "        index = index + 1\n",
    "\n",
    "        # Check to see if we have used all of the data\n",
    "        if (index*(M+1) > len(x)):\n",
    "            break\n",
    "\n",
    "        #### Step 5 - compute the transform for the next block\n",
    "\n",
    "        if ((index+1)*(M+1) <= len(x)):\n",
    "            nextX = sp.fft.fft(x[index*(M+1):(index+1)*(M+1)], 2*M+2)\n",
    "        else:\n",
    "            # We don't always have a full block of data at the end\n",
    "            # of the record, but we still need to process it\n",
    "            nextX = sp.fft.fft(x[index*(M+1):], 2*M+2)\n",
    "\n",
    "        #### Step 6 - add in the product of the previous and next\n",
    "        ####          transforms, with the phase shift\n",
    "\n",
    "        result = result + np.multiply(np.multiply(phase_shift, np.conj(X)), nextX)\n",
    "\n",
    "        #### Step 7 - repeat steps 3 to 6 until all of the data\n",
    "        #### has been used.  Before we do this, we need\n",
    "        #### to make X = nextX\n",
    "\n",
    "        X = nextX\n",
    "\n",
    "    #### Step 8 - inverse FFT\n",
    "\n",
    "    time_domain = sp.fft.ifft(result, 2*M+2)\n",
    "\n",
    "    #### Step 9 = present only the first M+1 values\n",
    "\n",
    "    acf = np.divide(time_domain[0:M+1], len(x)).real\n",
    "    \n",
    "    return acf"
   ]
  },
  {
   "cell_type": "code",
   "execution_count": null,
   "metadata": {},
   "outputs": [],
   "source": [
    "def final_spectrum(downsampled, FS):\n",
    "    \"\"\"\n",
    "       Compute the final spectrum using minimum variance spectral estimation\n",
    "    \"\"\"\n",
    "    \n",
    "    # Compute the autocorrelation, and create the Toeplitz matrix\n",
    "    \n",
    "    # Normalise to signal power assuming sinewave input\n",
    "    rxx = Autocorrelation(x = downsampled/(R*np.sqrt(2)), M = p)\n",
    "    Rxx = spl.toeplitz(rxx)\n",
    "    \n",
    "    # Perform the eigenvalue decomposition\n",
    "    [d,v] = np.linalg.eig(Rxx)\n",
    "    \n",
    "    # Invert the elements of the diagonal matrix, and store as a vector <br>\n",
    "    # eps avoids a divide by zero\n",
    "    U = np.divide(np.ones(p+1), (abs(d)+np.finfo(float).eps)) \n",
    "    \n",
    "    # Transform the eigenvectors.  The result is a matrix of dimensions\n",
    "    # fs x p - each eigenvector is transformed\n",
    "    V = abs(np.fft.fft(v.T,FS))**2\n",
    "    \n",
    "    # Then compute the final spectrum by combining the transformed variables\n",
    "    # and normalising by the length of the correlation vector\n",
    "    Px = 10*np.log10(p) - 10*np.log10(np.dot(V.T,U))\n",
    "    \n",
    "    return Px"
   ]
  },
  {
   "cell_type": "markdown",
   "metadata": {},
   "source": [
    "An analogue to digital converter requires a sample and hold device, and also a quantizer."
   ]
  },
  {
   "cell_type": "code",
   "execution_count": null,
   "metadata": {},
   "outputs": [],
   "source": [
    "def hold_quantize(divider = 1, *, samples):\n",
    "    \"\"\"\n",
    "        Implement the hold and quantize the signals\n",
    "    \"\"\"\n",
    "    \n",
    "    # Implement the hold\n",
    "    sh_output = np.convolve(samples, np.ones(int(points_per_sample/divider)))\n",
    "\n",
    "    # Quantize the signal\n",
    "    # round an array to integer\n",
    "    quantized = np.round((2**b-1) * sh_output / (2*R+np.finfo(float).eps))/(2**b-1)\n",
    "    \n",
    "    return(sh_output, quantized)"
   ]
  },
  {
   "cell_type": "markdown",
   "metadata": {},
   "source": [
    "The notebook will be displaying sampled signals, as well as spectral plots.  The following two functions are used for this purpose."
   ]
  },
  {
   "cell_type": "code",
   "execution_count": null,
   "metadata": {},
   "outputs": [],
   "source": [
    "def plot_amplitude(s, sh_output, quantized, name):\n",
    "    \"\"\"\n",
    "       Plot the amplitude\n",
    "    \"\"\"\n",
    "    \n",
    "    plt.figure(figsize = (12, 6))\n",
    "    plt.rcParams.update({'font.size': 16})\n",
    "    \n",
    "    plt.plot(tim, s, label = 'Input')\n",
    "    plt.plot(tim, sh_output[0:duration+1],label = 'Sample and Hold')\n",
    "    plt.plot(tim, quantized[0:duration+1], label = 'Quantized')\n",
    "    \n",
    "    plt.xlim([0, plot_samples*Ts])\n",
    "    plt.xlabel('Time (s)')\n",
    "    plt.ylim([-R*2, R*2])\n",
    "    plt.ylabel('Amplitude')\n",
    "    plt.legend(prop={'size': 15})\n",
    "    \n",
    "    if not is_jupyter(): plt.savefig(name)"
   ]
  },
  {
   "cell_type": "code",
   "execution_count": null,
   "metadata": {},
   "outputs": [],
   "source": [
    "def plot_magnitude(x, y, name):\n",
    "    \"\"\"\n",
    "       Plot the magnitude of normalised frequency\n",
    "    \"\"\"\n",
    "        \n",
    "    plt.figure(figsize = (12, 6))\n",
    "    plt.rcParams.update({'font.size': 16})\n",
    "    \n",
    "    plt.plot(x, y)\n",
    "    \n",
    "    plt.xlabel('Normalised frequency')\n",
    "    plt.xlim([0, 0.5])\n",
    "    plt.ylabel('Magnitude (dB)')\n",
    "    plt.ylim([-55, 15])\n",
    "    \n",
    "    if not is_jupyter(): plt.savefig(name)"
   ]
  },
  {
   "cell_type": "markdown",
   "metadata": {},
   "source": [
    "### The spectral analysis parameters\n",
    "Define the analysis parameters, and set up the axes for plotting"
   ]
  },
  {
   "cell_type": "code",
   "execution_count": null,
   "metadata": {},
   "outputs": [],
   "source": [
    "p = 256\n",
    "fs = 2048\n",
    "ofs = fs * O\n",
    "frequency = np.arange(0, fs) / fs\n",
    "os_frequency = np.arange(0, ofs) / ofs\n",
    "\n",
    "add_bits = np.ceil((np.log2(O)-1)/2)\n",
    "ns_add_bits = np.ceil(5*np.log2(O)/2)\n",
    "\n",
    "# Analysis sampling rate for plotting continuous time curves\n",
    "Ta = Ts / points_per_sample\n",
    "# Set up time axis index\n",
    "t = np.arange(0, duration+1)\n",
    "# Set up the plotting axis\n",
    "tim = t * Ta\n",
    "# Identify the sampling points as a vector\n",
    "sampling_points = (np.mod(t, points_per_sample) == 0)\n",
    "oversampling_points = (np.mod(t, points_per_sample/O) == 0)\n",
    "# and index them\n",
    "downsample_index = np.arange(0, duration/points_per_sample+1, dtype=int) * points_per_sample \n",
    "os_downsample_index = (np.arange(0, duration*O/points_per_sample+1) * points_per_sample / O).astype(int)\n",
    "\n",
    "# Define the input signal\n",
    "s = A * np.sin(t*Ta*2*np.pi*f)"
   ]
  },
  {
   "cell_type": "markdown",
   "metadata": {},
   "source": [
    "## The Analogue to Digital Converter"
   ]
  },
  {
   "cell_type": "markdown",
   "metadata": {},
   "source": [
    "### Simple conversion\n",
    "Here the input signal is quantized at the sampling rate, with no additional processing."
   ]
  },
  {
   "cell_type": "code",
   "execution_count": null,
   "metadata": {},
   "outputs": [],
   "source": [
    "# Get the samples\n",
    "samples = np.multiply(s, sampling_points)\n",
    "# Implement the hold and quantize the signal\n",
    "(sh_output, quantized) = hold_quantize(samples = samples)\n",
    "\n",
    "# Display the sample and hold output, as well as the quantized output\n",
    "name = 'ADC_quantization_no_dither.pdf'\n",
    "plot_amplitude(s, sh_output, quantized, name)"
   ]
  },
  {
   "cell_type": "markdown",
   "metadata": {},
   "source": [
    "The spectrum of the quantized output is now computed using minimum variance spectral estimation.  In the plot, harmonics of the input signal can clearly be observed.  For many applications, this is highly undesirable."
   ]
  },
  {
   "cell_type": "code",
   "execution_count": null,
   "metadata": {},
   "outputs": [],
   "source": [
    "# For frequency analysis, work at the final sampling rate\n",
    "downsampled = quantized[downsample_index]\n",
    "\n",
    "Px = final_spectrum(downsampled = downsampled,  FS = fs)\n",
    "\n",
    "# Plot the result for figure 2\n",
    "name = 'ADC_quantization_no_dither_spectrum.pdf'\n",
    "plot_magnitude(frequency, Px, name)"
   ]
  },
  {
   "cell_type": "markdown",
   "metadata": {},
   "source": [
    "### Addition of dither\n",
    "The harmonics observed above are the result of correlation between the quantization error, and the input signal.  In order to avoid this correlation, noise can be added to the input prior to it being quantized.  This is called dithering.  The plot below shows this in the time domain."
   ]
  },
  {
   "cell_type": "code",
   "execution_count": null,
   "metadata": {},
   "outputs": [],
   "source": [
    "# This time, repeat the process, adding dither noise\n",
    "dithered_signal = s + ((np.random.rand(duration+1)-0.5)*2*R/(2**b-1))\n",
    "samples = np.multiply(dithered_signal, sampling_points)\n",
    "\n",
    "# Implement the hold and quantize the signal\n",
    "(sh_output, quantized) = hold_quantize(samples = samples)\n",
    "\n",
    "# Plot figure 3\n",
    "name = 'ADC_quantization_dither.pdf'\n",
    "plot_amplitude(s, sh_output, quantized, name)"
   ]
  },
  {
   "cell_type": "markdown",
   "metadata": {},
   "source": [
    "In frequency domain, no harmonics can be observed."
   ]
  },
  {
   "cell_type": "code",
   "execution_count": null,
   "metadata": {},
   "outputs": [],
   "source": [
    "# For frequency analysis, work at the final sampling rate\n",
    "downsampled = quantized[downsample_index]\n",
    "Px = final_spectrum(downsampled = downsampled, FS = fs)\n",
    "\n",
    "# Plot the result for figure 4\n",
    "name = 'ADC_quantization_dither_spectrum.pdf'\n",
    "plot_magnitude(frequency, Px, name)"
   ]
  },
  {
   "cell_type": "markdown",
   "metadata": {},
   "source": [
    "## Improving signal to noise ratio\n",
    "Adding noise to the signal reduces the signal to noise ratio of the converter.  We will now explore techniques for increasing the SNR."
   ]
  },
  {
   "cell_type": "markdown",
   "metadata": {},
   "source": [
    "### Oversampling\n",
    "This is simply the process of sampling the input signal faster than required at the ouptut.  Below the sample and hold, and the quantizer are operating at a rate which is O times faster than before."
   ]
  },
  {
   "cell_type": "code",
   "execution_count": null,
   "metadata": {},
   "outputs": [],
   "source": [
    "# Now, oversample the data\n",
    "samples = np.multiply((s+((np.random.rand(duration+1)-0.5)*2*R/(2**b-1))), oversampling_points)\n",
    "\n",
    "# Implement the hold and quantize the signal\n",
    "(sh_output, quantized) = hold_quantize(divider = O, samples = samples)\n",
    "\n",
    "# Plot figure 5\n",
    "name = 'ADC_quantization_oversampled.pdf'\n",
    "plot_amplitude(s, sh_output, quantized, name)"
   ]
  },
  {
   "cell_type": "markdown",
   "metadata": {},
   "source": [
    "The spectrum of the output shows that the signal is now concentrated in the left hand section of the plot and is higher than in the previous plot, while the noise has been spread across the whole plot.  Because the noise power is unchanged, then the noise level in the plot remains the same."
   ]
  },
  {
   "cell_type": "code",
   "execution_count": null,
   "metadata": {},
   "outputs": [],
   "source": [
    "# For frequency analysis, work at the final sampling rate\n",
    "downsampled = quantized[os_downsample_index]\n",
    "Px = final_spectrum(downsampled = downsampled, FS = ofs)\n",
    "\n",
    "name = 'ADC_quantization_oversampled_spectrum.pdf'\n",
    "plot_magnitude(os_frequency, Px, name)"
   ]
  },
  {
   "cell_type": "markdown",
   "metadata": {},
   "source": [
    "### Removing noise\n",
    "As the noise in the plot is now spread over a larger frequency range, it is possible to filter out some of this noise without affecting the signal, which remains in its original frqeuency band.  By removing noise, then the signal to noise ratio will improve (get larger).  Here we use an FIR filter with a Hann window, which is defined below"
   ]
  },
  {
   "cell_type": "code",
   "execution_count": null,
   "metadata": {},
   "outputs": [],
   "source": [
    "n = np.arange(0, D)\n",
    "cutoff = 1 / O\n",
    "\n",
    "h = np.multiply((1-np.cos(2*np.pi*n/(D-1))),\n",
    "                np.divide(np.sin(np.pi*(n-(D-1)/2)*cutoff),\n",
    "                          (2*np.pi*(n-(D-1)/2)+np.finfo(float).eps)))\n",
    "h[int((D+1)/2)-1] = cutoff"
   ]
  },
  {
   "cell_type": "markdown",
   "metadata": {},
   "source": [
    "The filter is applied to the oversampled input, and the resulting spectrum is plotted below."
   ]
  },
  {
   "cell_type": "code",
   "execution_count": null,
   "metadata": {},
   "outputs": [],
   "source": [
    "filtered_real = np.convolve(downsampled,h)\n",
    "Px = final_spectrum(downsampled = filtered_real, FS = ofs)\n",
    "\n",
    "# Plot the result\n",
    "name = 'ADC_quantization_oversampled_filtered_spectrum.pdf'\n",
    "plot_magnitude(os_frequency, Px, name)"
   ]
  },
  {
   "cell_type": "markdown",
   "metadata": {},
   "source": [
    "### Decimation\n",
    "The output of the filter, which is still at the high sampling rate, is decimated by the oversampling factor to obtain a result at the desired sampling rate.  Here we plot the signal in the time domain."
   ]
  },
  {
   "cell_type": "code",
   "execution_count": null,
   "metadata": {
    "scrolled": false
   },
   "outputs": [],
   "source": [
    "decimation_index = np.arange(0, np.floor(filtered_real.size/O)+1, dtype = int)*O\n",
    "decimated = filtered_real[decimation_index]\n",
    "\n",
    "# Kronecker product of two arrays\n",
    "decimated_for_plotting = np.kron(decimated, np.ones(points_per_sample))\n",
    "\n",
    "# Allow for FIR lead in\n",
    "plt.figure(figsize = (12, 6))\n",
    "\n",
    "plt.plot(tim[499:duration+1],decimated_for_plotting[499:duration+1])\n",
    "\n",
    "plt.xlim([500*Ts, (500+plot_samples)*Ts])\n",
    "plt.xlabel('Time (s)', fontsize = 15)\n",
    "plt.ylim([-R*1.2, R*1.2])\n",
    "plt.ylabel('Amplitude', fontsize = 15)\n",
    "\n",
    "if not is_jupyter(): plt.savefig('ADC_quantization_oversampled_decimated.pdf')"
   ]
  },
  {
   "cell_type": "markdown",
   "metadata": {},
   "source": [
    "The spectrum of the decimated signal shows that the resulting noise level is now lower.  This is because we removed noise in the oversampled signal."
   ]
  },
  {
   "cell_type": "code",
   "execution_count": null,
   "metadata": {},
   "outputs": [],
   "source": [
    "# compute the final spectrum b\n",
    "Px = final_spectrum(downsampled = decimated, FS = fs)\n",
    "\n",
    "# Plot the result\n",
    "name = 'ADC_quantization_oversampled_decimated_spectrum.pdf'\n",
    "plot_magnitude(frequency, Px, name)"
   ]
  },
  {
   "cell_type": "markdown",
   "metadata": {},
   "source": [
    "## Noise shaping\n",
    "We can further improve the effect of oversampling by also using noise shaping.  Here, the transfer function of the quantization and dither noise is made to be different from that of the input signal.  If we arrange for the quantization and dither noise to pass through a high-pass filter, then we can further reduce the noise in the frequency band that we are interested in (the one with the signal).\n",
    "\n",
    "Constructing such a system in Python can be quite inefficient, so we will use linear systems theory to directly apply the effect of the filter on the error signal."
   ]
  },
  {
   "cell_type": "code",
   "execution_count": null,
   "metadata": {},
   "outputs": [],
   "source": [
    "# First calculate the quantization error\n",
    "ideal_samples = np.multiply(s, oversampling_points)\n",
    "\n",
    "# Implement the hold\n",
    "sh_ideal_output = np.convolve(ideal_samples, np.ones(int(points_per_sample/O)))\n",
    "quantizer_error = sh_ideal_output - quantized\n",
    "\n",
    "\n",
    "# Then filter it\n",
    "\n",
    "Ha = np.zeros(int(2*points_per_sample/O)+1)\n",
    "Ha[0] = 1\n",
    "Ha[int(points_per_sample/O)] = -2\n",
    "Ha[int(2*points_per_sample/O)] = 1\n",
    "Hb = np.ones(1)\n",
    "\n",
    "filtered_quantizer_error = lfilter(Ha, Hb, quantizer_error)\n",
    "\n",
    "# And finally add it back to the signal\n",
    "\n",
    "sh_noise_shaped_output = sh_ideal_output + filtered_quantizer_error"
   ]
  },
  {
   "cell_type": "markdown",
   "metadata": {},
   "source": [
    "Now produce the quantized signal, and plot it.  Note that we are using the same oversampling factor as above."
   ]
  },
  {
   "cell_type": "code",
   "execution_count": null,
   "metadata": {},
   "outputs": [],
   "source": [
    "# Quantize the signal\n",
    "ns_quantized = np.round((2**b-1)*sh_noise_shaped_output/(2*R+np.finfo(float).eps))/(2**b-1)\n",
    "\n",
    "name = 'ADC_noise_shaped_oversampled.pdf'\n",
    "plot_amplitude(s, sh_noise_shaped_output, ns_quantized, name)"
   ]
  },
  {
   "cell_type": "markdown",
   "metadata": {},
   "source": [
    "The spectrum of the signal shows the high-pass nature of the quantization and dither noise."
   ]
  },
  {
   "cell_type": "code",
   "execution_count": null,
   "metadata": {},
   "outputs": [],
   "source": [
    "# For frequency analysis, work at the current sampling rate\n",
    "downsampled = sh_noise_shaped_output[os_downsample_index]\n",
    "# Compute the final spectrum \n",
    "Px = final_spectrum(downsampled = downsampled, FS = ofs)\n",
    "\n",
    "# Plot the result\n",
    "name = 'ADC_noise_shaped_oversampled_spectrum.pdf'\n",
    "plot_magnitude(os_frequency, Px, name)"
   ]
  },
  {
   "cell_type": "markdown",
   "metadata": {},
   "source": [
    "As for the oversampled system, we will apply a filter, which will remove the high frequency noise.  Because of the high-pass nature of the noise, this removes more of the noise than previously where we oversampled, but did not noise shape."
   ]
  },
  {
   "cell_type": "code",
   "execution_count": null,
   "metadata": {},
   "outputs": [],
   "source": [
    "filtered_real = (2**(b+ns_add_bits)-1)*np.convolve(downsampled*R/(2**b-1),h)/(2*R+np.finfo(float).eps)\n",
    "filtered_real = np.convolve(downsampled,h)\n",
    "# Compute the final spectrum \n",
    "Px = final_spectrum(downsampled = filtered_real, FS = ofs)\n",
    "\n",
    "# Plot the result\n",
    "name = 'ADC_noise_shaped_oversampled_filtered_spectrum.pdf'\n",
    "plot_magnitude(os_frequency, Px, name)"
   ]
  },
  {
   "cell_type": "markdown",
   "metadata": {},
   "source": [
    "Finally, we decimated the output of the filter, and obtain our quantized signal, at the desired sampling frequency, with a much higher SNR than from the dithered quantizer at the start of this notebook."
   ]
  },
  {
   "cell_type": "code",
   "execution_count": null,
   "metadata": {},
   "outputs": [],
   "source": [
    "decimation_index = np.arange(0, np.floor(filtered_real.size)/O, dtype = int) * O\n",
    "decimated = filtered_real[decimation_index]\n",
    "decimated_for_plotting = np.kron(decimated, np.ones(points_per_sample))\n",
    "\n",
    "plt.figure(figsize = (12, 6))\n",
    "# Allow for FIR lead in\n",
    "plt.plot(tim[499:duration+1], decimated_for_plotting[499:duration+1])\n",
    "\n",
    "plt.xlim([500*Ts, (500+plot_samples)*Ts])\n",
    "plt.xlabel('Time (s)', fontsize = 15)\n",
    "plt.ylim([-R*1.2, R*1.2])\n",
    "plt.ylabel('Amplitude', fontsize = 15)\n",
    "\n",
    "if not is_jupyter(): plt.savefig('ADC_noise_shaped_oversampled_decimated.pdf')"
   ]
  },
  {
   "cell_type": "markdown",
   "metadata": {},
   "source": [
    "The spectrum shows that the remaining noise is not white due to the noise shaping process."
   ]
  },
  {
   "cell_type": "code",
   "execution_count": null,
   "metadata": {},
   "outputs": [],
   "source": [
    "# Compute the final spectrum \n",
    "Px = final_spectrum(downsampled = decimated, FS = fs)\n",
    "\n",
    "# Plot the result\n",
    "name = 'ADC_noise_shaped_oversampled_decimated_spectrum.pdf'\n",
    "plot_magnitude(frequency, Px, name)"
   ]
  },
  {
   "cell_type": "markdown",
   "metadata": {},
   "source": [
    "© The University of Edinburgh: Produced by D. Laurenson, School of Engineering. Initial code conversion by Xing Zixiao."
   ]
  }
 ],
 "metadata": {
  "kernelspec": {
   "display_name": "Python 3",
   "language": "python",
   "name": "python3"
  },
  "language_info": {
   "codemirror_mode": {
    "name": "ipython",
    "version": 3
   },
   "file_extension": ".py",
   "mimetype": "text/x-python",
   "name": "python",
   "nbconvert_exporter": "python",
   "pygments_lexer": "ipython3",
   "version": "3.7.6"
  }
 },
 "nbformat": 4,
 "nbformat_minor": 2
}
