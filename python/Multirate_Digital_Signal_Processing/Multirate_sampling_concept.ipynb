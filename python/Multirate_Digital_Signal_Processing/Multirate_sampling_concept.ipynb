{
 "cells": [
  {
   "cell_type": "markdown",
   "metadata": {},
   "source": [
    "# Multirate sampling concept\n",
    "This notebook shows the concepts behind multirate sampling.  It is to aid in understanding, and does not represent a practical approach to re-sampling data.  The notebook allows you to experiment with changing the sampling factors, as well as changing the number of original data samples."
   ]
  },
  {
   "cell_type": "markdown",
   "metadata": {},
   "source": [
    "### Preamble\n",
    "Start by importing the Python libraries that we will require"
   ]
  },
  {
   "cell_type": "code",
   "execution_count": null,
   "metadata": {},
   "outputs": [],
   "source": [
    "import numpy as np\n",
    "import matplotlib.pyplot as plt"
   ]
  },
  {
   "cell_type": "markdown",
   "metadata": {},
   "source": [
    "And define a function that will return true if running in a Jupyter Notebook"
   ]
  },
  {
   "cell_type": "code",
   "execution_count": null,
   "metadata": {},
   "outputs": [],
   "source": [
    "def is_jupyter():\n",
    "    \"\"\"Return true if running in a Jupyter Notebook\"\"\"\n",
    "    try:\n",
    "        if get_ipython().__class__.__name__ == 'ZMQInteractiveShell':\n",
    "            return True\n",
    "        else:\n",
    "            return False\n",
    "    except: \n",
    "        return False"
   ]
  },
  {
   "cell_type": "markdown",
   "metadata": {},
   "source": [
    "### User specified parameters\n",
    "\n",
    "The following parameters can be specified.  \n",
    "\n",
    "Parameter | Meaning\n",
    "--------- | -------\n",
    "<code>orig_samples</code> | The number of samples in the original sequence (e.g. 8)\n",
    "<code>I</code>, <code>D</code> | Integers specifying the resampling rate as fs * I / D (e.g. 2, 3)\n",
    "<code>FFT_length</code> |Length of the FFT after zero padding the impulse response (e.g. 2048)"
   ]
  },
  {
   "cell_type": "code",
   "execution_count": null,
   "metadata": {},
   "outputs": [],
   "source": [
    "orig_samples = 8\n",
    "I = 2\n",
    "D = 3"
   ]
  },
  {
   "cell_type": "markdown",
   "metadata": {},
   "source": [
    "### Generate data\n",
    "Random values are used to define the samples being used.  In order to avoid the need to worry about filtering when moving to a lower sampling rate, implement a brickwall filter in the frequency domain on a long sequence of values.  We will then select only the first 8 values."
   ]
  },
  {
   "cell_type": "code",
   "execution_count": null,
   "metadata": {},
   "outputs": [],
   "source": [
    "long_seq = np.random.randn(orig_samples * 8)*2 + 2\n",
    "if D>I:\n",
    "    long_seq_freq = np.fft.fft(long_seq)\n",
    "    cut_point = len(long_seq) * I // (2 * D)\n",
    "    long_seq_freq[cut_point:len(long_seq_freq)-cut_point] = 0\n",
    "    long_seq = np.fft.ifft(long_seq_freq).real\n",
    "data = long_seq[:orig_samples]\n",
    "\n",
    "# Define the timepoints for the original data, and the re-sampled data\n",
    "data_timepoints = np.arange(0, orig_samples)\n",
    "resampled_timepoints = np.arange(0, orig_samples, step = D/I)"
   ]
  },
  {
   "cell_type": "markdown",
   "metadata": {},
   "source": [
    "Define x-scale for the figures"
   ]
  },
  {
   "cell_type": "code",
   "execution_count": null,
   "metadata": {},
   "outputs": [],
   "source": [
    "x_range = np.linspace(min(data_timepoints)-0.25,\n",
    "                      max(data_timepoints)+0.75, 3201)"
   ]
  },
  {
   "cell_type": "markdown",
   "metadata": {},
   "source": [
    "### Define plotting function\n",
    "This is the main part of the code.  The first part displays the samples at the original sampling rate.  After that, those samples are each convolved with a sinc function, and then combined together to generate samples at the re-sampled rate, as well as at a very high sampling rate to represent the analogue reconstructed signal.  Depending upon the plot selected, different elements are displayed."
   ]
  },
  {
   "cell_type": "code",
   "execution_count": null,
   "metadata": {},
   "outputs": [],
   "source": [
    "def plot_fig(x, y, Sincs, Sum, name):\n",
    "    \"\"\"\n",
    "       Plot the amplitude of sample.\n",
    "    \n",
    "       INPUT:\n",
    "           x (array-like): The x-positions of the stems. \n",
    "           y (array-like): The y-values of the stem heads.\n",
    "           Sincs   (bool): True if displaying sinc functions\n",
    "           Sum     (bool): True if displaying reconstructed sampling data.\n",
    "           name  (string): The name used to save figure.\n",
    "           \n",
    "    \"\"\"\n",
    "    ### Display original samples\n",
    "    plt.figure(figsize = (16, 8))\n",
    "    plt.rcParams.update({'font.size': 16})\n",
    "    \n",
    "    # Plot a baseline y = 0\n",
    "    plt.axhline(y = 0, color = 'black')\n",
    "    \n",
    "    # Plot the original data samples\n",
    "    (markerLines, stemLines, baseLines) = plt.stem(x, y, use_line_collection = True)\n",
    "    markerLines.set_markerfacecolor('none')\n",
    "    plt.setp(baseLines, color = 'black')\n",
    "    \n",
    "    ### Construct high rate samples, and re-sampled data\n",
    "    # Initialise the accumulated results\n",
    "    sums = np.zeros(x_range.size)\n",
    "    resampled_data = np.zeros(len(resampled_timepoints))\n",
    "    \n",
    "    # For each data sample, determine its contribution to the reconstructed signal\n",
    "    for index in range(0, len(data)):\n",
    "        resampled_data = (resampled_data + data[index] * \n",
    "                          np.sinc(resampled_timepoints - data_timepoints[index]))\n",
    "        if Sincs:\n",
    "            # Display the scaled sinc function\n",
    "            plt.plot(x_range, data[index]*np.sinc(x_range-data_timepoints[index]))\n",
    "        if Sum:\n",
    "            # Combine with previous sample contributions\n",
    "            sums += data[index]*np.sinc(x_range-data_timepoints[index])\n",
    "    \n",
    "    ### Display re-sampled data if we are not showing the sinc functions\n",
    "    if not Sincs:\n",
    "        # Make original samples lighter\n",
    "        plt.setp(stemLines, color = [0.75, 0.75, 0.75], linewidth=1)\n",
    "        # Plot the re-sampled data points\n",
    "        (markerLines, stemLines, baseLines) = plt.stem(resampled_timepoints,\n",
    "                                                       resampled_data,\n",
    "                                                       use_line_collection = True)\n",
    "        plt.setp(baseLines, color = 'black', linewidth=1)\n",
    "        \n",
    "    ### Display \"reconstructed analogue signal\" (resampling with a high sampling rate)\n",
    "    if Sum:\n",
    "        # Display the reconstructed signal\n",
    "        plt.plot(x_range, sums)\n",
    "        \n",
    "    plt.xlim([x_range[0], x_range[-1]])\n",
    "    plt.xlabel('Sample')\n",
    "    plt.ylabel('Amplitude')\n",
    "    \n",
    "    if not is_jupyter(): plt.savefig(name)"
   ]
  },
  {
   "cell_type": "markdown",
   "metadata": {},
   "source": [
    "### Produce plots\n",
    "First plot the original data samples and their corresponding sinc functions that will be used for reconstruction."
   ]
  },
  {
   "cell_type": "code",
   "execution_count": null,
   "metadata": {},
   "outputs": [],
   "source": [
    "plot_fig(x = data_timepoints, y = data,\n",
    "         Sincs = True, Sum = False,\n",
    "         name = 'multirate_sampling_data.pdf')"
   ]
  },
  {
   "cell_type": "markdown",
   "metadata": {},
   "source": [
    "On a second figure, also plot the reconstructed analogue signal"
   ]
  },
  {
   "cell_type": "code",
   "execution_count": null,
   "metadata": {},
   "outputs": [],
   "source": [
    "plot_fig(x = data_timepoints, y = data,\n",
    "         Sincs = True, Sum = True,\n",
    "         name = 'multirate_sampling_reconstructed.pdf')"
   ]
  },
  {
   "cell_type": "markdown",
   "metadata": {},
   "source": [
    "Finally, show how this can be resampled at a new rate"
   ]
  },
  {
   "cell_type": "code",
   "execution_count": null,
   "metadata": {},
   "outputs": [],
   "source": [
    "plot_fig(x = data_timepoints, y = data,\n",
    "         Sincs = False, Sum = True,\n",
    "        name = 'multirate_sampling_resampled.pdf')"
   ]
  },
  {
   "cell_type": "markdown",
   "metadata": {},
   "source": [
    "© The University of Edinburgh: Produced by D. Laurenson, School of Engineering. Initial code conversion by Xing Zixiao."
   ]
  }
 ],
 "metadata": {
  "kernelspec": {
   "display_name": "Python 3",
   "language": "python",
   "name": "python3"
  },
  "language_info": {
   "codemirror_mode": {
    "name": "ipython",
    "version": 3
   },
   "file_extension": ".py",
   "mimetype": "text/x-python",
   "name": "python",
   "nbconvert_exporter": "python",
   "pygments_lexer": "ipython3",
   "version": "3.7.6"
  }
 },
 "nbformat": 4,
 "nbformat_minor": 2
}
