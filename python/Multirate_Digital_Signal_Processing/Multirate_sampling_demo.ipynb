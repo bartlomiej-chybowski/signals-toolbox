{
 "cells": [
  {
   "cell_type": "markdown",
   "metadata": {},
   "source": [
    "# Multirate sampling demo\n",
    "This demonstrates decimation and interpolation of audio signals.  The data is captured at a high sampling rate of 44.1 kHz, downsampled by a factor of 8 (reducing the sampling rate to 5.5125 kHz), and then upsampled back to 44.1 kHz.  High frequency information is lost in this process, reducing the quality of the audio signal."
   ]
  },
  {
   "cell_type": "markdown",
   "metadata": {},
   "source": [
    "### Preamble\n",
    "Start by importing the Python libraries that we will require"
   ]
  },
  {
   "cell_type": "code",
   "execution_count": null,
   "metadata": {},
   "outputs": [],
   "source": [
    "import numpy as np\n",
    "import matplotlib.pyplot as plt\n",
    "import scipy.signal as sps\n",
    "from scipy.io import loadmat\n",
    "import scipy.linalg as spl\n",
    "import scipy as sp\n",
    "import IPython.display as ipd"
   ]
  },
  {
   "cell_type": "markdown",
   "metadata": {},
   "source": [
    "### Load in the trumpet recording"
   ]
  },
  {
   "cell_type": "code",
   "execution_count": null,
   "metadata": {},
   "outputs": [],
   "source": [
    "# read data from .mat file\n",
    "x = loadmat('trumpet.mat')\n",
    "audiodata = np.reshape(x['audiodata'], -1)\n",
    "sampling_rate = 44100"
   ]
  },
  {
   "cell_type": "markdown",
   "metadata": {},
   "source": [
    "### User specified parameters\n",
    "The following parameters can be specified.\n",
    "\n",
    "Parameter | Meaning\n",
    "--------- | -------\n",
    "<code>decimation_factor</code>| (e.g. 8)\n",
    "<code>transition_band_proportion</code> | (e.g. 0.02)"
   ]
  },
  {
   "cell_type": "code",
   "execution_count": null,
   "metadata": {},
   "outputs": [],
   "source": [
    "decimation_factor = 8\n",
    "transition_band_proportion = 0.02"
   ]
  },
  {
   "cell_type": "markdown",
   "metadata": {},
   "source": [
    "### Function Definitions\n",
    "The functions below are required for computing the minimum variance spectral estimation of the input data."
   ]
  },
  {
   "cell_type": "code",
   "execution_count": null,
   "metadata": {},
   "outputs": [],
   "source": [
    "def Autocorrelation(x, M):\n",
    "    \"\"\"\n",
    "        Calculate autocorrelation of x with maximum lag M.\n",
    "        \n",
    "        INPUT:\n",
    "            x - vector to be correlated\n",
    "            M - maximum correlation lag\n",
    "        \n",
    "        RETURN:\n",
    "            acf - autocorrelation of x with lag M\n",
    "        \n",
    "    \"\"\"\n",
    "\n",
    "    #### Step 1 - initialise the index to identify the data block\n",
    "    #### We don't need to copy the data block as python can select\n",
    "    #### the block at the call time of the FFT\n",
    "    index = 0\n",
    "    \n",
    "    #### Step 2 - compute the FFT of x_i(n)\n",
    "    X = np.fft.fft(x[index*(M+1):(index+1)*(M+1)], 2*M+2)\n",
    "\n",
    "    #### Steps 3 to 6 are repeated, accumulating their results in\n",
    "    #### a vector.  We need to initialise the vector first\n",
    "\n",
    "    result = np.zeros(2*M+2)\n",
    "\n",
    "    # It is also helpful to generate the vector of [ 1 -1 1 ... ]\n",
    "\n",
    "    phase_shift = np.power((-1), np.arange(0, 2*M+2))\n",
    "\n",
    "    # Do the repetition until we run out of data\n",
    "    while (True):\n",
    "\n",
    "        #### Step 3 - compute X_i(k)X^*_i(k) and store\n",
    "\n",
    "        result = result + np.multiply(np.conj(X), X)\n",
    "\n",
    "        #### Step 4 - increment i\n",
    "\n",
    "        index = index + 1\n",
    "\n",
    "        # Check to see if we have used all of the data\n",
    "        if (index*(M+1) > len(x)):\n",
    "            break\n",
    "\n",
    "        #### Step 5 - compute the transform for the next block\n",
    "\n",
    "        if ((index+1)*(M+1) <= len(x)):\n",
    "            nextX = np.fft.fft(x[index*(M+1):(index+1)*(M+1)], 2*M+2)\n",
    "        else:\n",
    "            # We don't always have a full block of data at the end\n",
    "            # of the record, but we still need to process it\n",
    "            nextX = np.fft.fft(x[index*(M+1):], 2*M+2)\n",
    "\n",
    "        #### Step 6 - add in the product of the previous and next\n",
    "        ####          transforms, with the phase shift\n",
    "\n",
    "        result = result + np.multiply(np.multiply(phase_shift, np.conj(X)), nextX)\n",
    "\n",
    "        #### Step 7 - repeat steps 3 to 6 until all of the data\n",
    "        #### has been used.  Before we do this, we need\n",
    "        #### to make X = nextX\n",
    "\n",
    "        X = nextX\n",
    "\n",
    "    #### Step 8 - inverse FFT\n",
    "\n",
    "    time_domain = np.fft.ifft(result, 2*M+2)\n",
    "\n",
    "    #### Step 9 = present only the first M+1 values\n",
    "\n",
    "    acf = np.divide(time_domain[0:M+1], len(x)).real\n",
    "    \n",
    "    return acf"
   ]
  },
  {
   "cell_type": "code",
   "execution_count": null,
   "metadata": {},
   "outputs": [],
   "source": [
    "def MVSE(p, fft_size, input_data):\n",
    "    \"\"\"\n",
    "       Compute the final spectrum\n",
    "       \n",
    "       INPUT:\n",
    "           p                 (int): maximum correlation lag\n",
    "           fft_size          (int): length of transformed output\n",
    "           input_data (array-like): input data sequence\n",
    "       \n",
    "       RETURN:\n",
    "           Px: the final spectrum\n",
    "    \"\"\"\n",
    "    \n",
    "    # Compute the autocorrelation, and create the Toeplitz matrix\n",
    "    rxx = Autocorrelation(input_data, p)\n",
    "    \n",
    "    R = spl.toeplitz(rxx)\n",
    "\n",
    "    # The naive approach is to invert the correlation matrix, R,\n",
    "    # and then sweep through a set of frequency terms, computing\n",
    "    # the power at each frequency.  \n",
    "    #\n",
    "    # The alternative is to note that the set of frequency terms\n",
    "    # corresponds to a discrete Fourier transform.  It is then more\n",
    "    # efficient to find the Eigenvalue decomposition of the\n",
    "    # correlation matrix, which simplifies the matrix inversion\n",
    "    # process, and then taking the Fourier transform of the eigenvectors\n",
    "\n",
    "    # Perform the eigenvalue decomposition\n",
    "    # [d,v] = np.linalg.eig(R)\n",
    "    [d,v] = sp.linalg.eigh(R)\n",
    "\n",
    "    # Invert the elements of the diagonal matrix, and store as a vector\n",
    "    # eps avoids a divide by zero\n",
    "    U = np.divide(np.ones(p+1), (abs(d)+np.finfo(float).eps)) \n",
    "\n",
    "    # Transform the eigenvectors.  The result is a matrix of dimensions\n",
    "    # fs x p - each eigenvector is transformed\n",
    "    V = abs(np.fft.fft(v.T, fft_size))**2\n",
    "\n",
    "    # Then compute the final spectrum by combining the transformed variables\n",
    "    # and normalising by the length of the correlation vector\n",
    "    Px = 10*np.log10(p) - 10*np.log10(np.dot(V.T,U))\n",
    "    \n",
    "    return Px"
   ]
  },
  {
   "cell_type": "markdown",
   "metadata": {},
   "source": [
    "### Calculate the new sampling rate, and the transition band in terms of the original sampling rate\n",
    "This step determines the filter cut-off that we will require for the new sampling rate"
   ]
  },
  {
   "cell_type": "code",
   "execution_count": null,
   "metadata": {},
   "outputs": [],
   "source": [
    "new_nyquist = sampling_rate / (2*decimation_factor)\n",
    "cut_off = new_nyquist * (1-transition_band_proportion)\n",
    "transition_band = transition_band_proportion / decimation_factor"
   ]
  },
  {
   "cell_type": "markdown",
   "metadata": {},
   "source": [
    "### Select a Blackman window\n",
    "A Blackman window has a sufficiently low stopband rejection for the level of noise anticipated in the audio file.  The factor of 5.5 is taken from the table of filter characteristics in order to determine the number of coefficients required in the filter."
   ]
  },
  {
   "cell_type": "code",
   "execution_count": null,
   "metadata": {},
   "outputs": [],
   "source": [
    "M = np.ceil(5.5/transition_band)"
   ]
  },
  {
   "cell_type": "markdown",
   "metadata": {},
   "source": [
    "### Calculate the ideal filter response and the window coefficients"
   ]
  },
  {
   "cell_type": "code",
   "execution_count": null,
   "metadata": {},
   "outputs": [],
   "source": [
    "# ideal filter\n",
    "n = np.arange(0, M)\n",
    "delay = (M-1) / 2\n",
    "hd = np.divide(np.sin(2*np.pi*cut_off*(n-delay)/sampling_rate),(np.pi*(n-delay)))\n",
    "if delay == np.round(delay):\n",
    "    hd[delay] = 2 * cut_off / sampling_rate\n",
    "\n",
    "# window coefficients\n",
    "w = 0.42 - 0.5*np.cos(2*n*np.pi/(M-1)) + 0.08*np.cos(4*n*np.pi/(M-1))"
   ]
  },
  {
   "cell_type": "markdown",
   "metadata": {},
   "source": [
    "### Generate the filter and apply to the data\n",
    "The filter is the product of the window and the ideal filter response."
   ]
  },
  {
   "cell_type": "code",
   "execution_count": null,
   "metadata": {},
   "outputs": [],
   "source": [
    "h = np.multiply(w, hd)"
   ]
  },
  {
   "cell_type": "markdown",
   "metadata": {},
   "source": [
    "Now apply this to the data, and subsample the output.  Note that this is not an efficient implementation as downsampling is done after computing all of the filtered data."
   ]
  },
  {
   "cell_type": "code",
   "execution_count": null,
   "metadata": {},
   "outputs": [],
   "source": [
    "filtered = sps.lfilter(h, [1], audiodata, axis=0)\n",
    "decimated = filtered[np.arange(0, len(filtered), decimation_factor)]"
   ]
  },
  {
   "cell_type": "markdown",
   "metadata": {},
   "source": [
    "### Create players for the original and resampled data\n",
    "This generates the players that can be used when allowing the user to play back the audio file"
   ]
  },
  {
   "cell_type": "code",
   "execution_count": null,
   "metadata": {},
   "outputs": [],
   "source": [
    "original = ipd.Audio(audiodata.T, rate = sampling_rate, autoplay = False)\n",
    "resampled = ipd.Audio(decimated.T, rate = sampling_rate/decimation_factor, autoplay = False)"
   ]
  },
  {
   "cell_type": "markdown",
   "metadata": {},
   "source": [
    "### MVSE analysis parameters"
   ]
  },
  {
   "cell_type": "code",
   "execution_count": null,
   "metadata": {},
   "outputs": [],
   "source": [
    "p = 2822\n",
    "fft_size = 8192"
   ]
  },
  {
   "cell_type": "markdown",
   "metadata": {},
   "source": [
    "### Plot and play the original data\n",
    "First, analyse the audio data to produce a spectral plot of its frequency content.  Note that this may be slow as the spectral estimate is operating on a lot of data"
   ]
  },
  {
   "cell_type": "code",
   "execution_count": null,
   "metadata": {},
   "outputs": [],
   "source": [
    "frequency = np.arange(0, fft_size) * sampling_rate / fft_size\n",
    "Original_Px = MVSE(p, fft_size, audiodata)"
   ]
  },
  {
   "cell_type": "markdown",
   "metadata": {},
   "source": [
    "Now initiate the player for the original sound file, as well as displaying the spectral estimate."
   ]
  },
  {
   "cell_type": "code",
   "execution_count": null,
   "metadata": {},
   "outputs": [],
   "source": [
    "plt.figure(figsize = (16, 8))\n",
    "plt.rcParams.update({'font.size': 16})\n",
    "\n",
    "plt.plot(frequency, Original_Px)\n",
    "\n",
    "plt.xlabel('Frequency (Hz)')\n",
    "plt.xlim([0, sampling_rate/2])\n",
    "plt.ylabel('Magnitude (dB)')\n",
    "plt.title('Original input')\n",
    "plt.show()\n",
    "\n",
    "# play the sound\n",
    "original"
   ]
  },
  {
   "cell_type": "markdown",
   "metadata": {},
   "source": [
    "### Plot and play the decimated data\n",
    "As above, analyse the audio data, and produce a player.  Here the sampling rate is lower than the input by the desired subsampling factor"
   ]
  },
  {
   "cell_type": "code",
   "execution_count": null,
   "metadata": {},
   "outputs": [],
   "source": [
    "decimated_frequency = frequency / decimation_factor\n",
    "Decimated_Px = MVSE(int(np.ceil(p/decimation_factor)), fft_size, decimated)"
   ]
  },
  {
   "cell_type": "code",
   "execution_count": null,
   "metadata": {},
   "outputs": [],
   "source": [
    "plt.figure(figsize = (16, 8))\n",
    "plt.rcParams.update({'font.size': 16})\n",
    "\n",
    "plt.plot(decimated_frequency, Decimated_Px)\n",
    "plt.xlabel('Frequency (Hz)')\n",
    "plt.xlim([0, sampling_rate/(2*decimation_factor)])\n",
    "plt.ylabel('Magnitude (dB)')\n",
    "plt.title('Decimated input')\n",
    "plt.show()\n",
    "\n",
    "# play the sound of resampled data\n",
    "resampled"
   ]
  },
  {
   "cell_type": "markdown",
   "metadata": {},
   "source": [
    "### Now interpolate back again to demonstrate this process\n",
    "To demonstrate the effect of downsampling followed by upsampling, we now upsample the data back to the original sampling rate.  This involves first creating a vector with zeros between all of the data samples."
   ]
  },
  {
   "cell_type": "code",
   "execution_count": null,
   "metadata": {},
   "outputs": [],
   "source": [
    "interpolated = np.zeros((len(decimated)*decimation_factor))\n",
    "interpolated[np.arange(0, len(decimated)*decimation_factor, decimation_factor)] = decimated"
   ]
  },
  {
   "cell_type": "markdown",
   "metadata": {},
   "source": [
    "Then a filter is applied.  We need to scale the filter by the upsampling factor in order to preserve the magnitude of the signal."
   ]
  },
  {
   "cell_type": "code",
   "execution_count": null,
   "metadata": {},
   "outputs": [],
   "source": [
    "interpolated = sps.lfilter(h*decimation_factor, [1], interpolated, axis = 0)"
   ]
  },
  {
   "cell_type": "markdown",
   "metadata": {},
   "source": [
    "### Plot and play interpolated input"
   ]
  },
  {
   "cell_type": "code",
   "execution_count": null,
   "metadata": {},
   "outputs": [],
   "source": [
    "upsampled = ipd.Audio(interpolated.T, rate = sampling_rate, autoplay = False)\n",
    "Upsampled_Px = MVSE(p, fft_size, interpolated)"
   ]
  },
  {
   "cell_type": "code",
   "execution_count": null,
   "metadata": {},
   "outputs": [],
   "source": [
    "# Plot the figure\n",
    "plt.figure(figsize = (16, 8))\n",
    "plt.rcParams.update({'font.size': 16})\n",
    "\n",
    "plt.plot(frequency, Upsampled_Px)\n",
    "plt.xlabel('Frequency (Hz)')\n",
    "plt.xlim([0, sampling_rate/2])\n",
    "plt.ylabel('Magnitude (dB)')\n",
    "plt.title('Interpolated input')\n",
    "plt.show()\n",
    "\n",
    "# Play the sound\n",
    "upsampled"
   ]
  },
  {
   "cell_type": "markdown",
   "metadata": {},
   "source": [
    "### Plot the time series\n",
    "For interest, the original, decimated and upsampled time series are shown in the plot below.  Note that there are small differences in the upsampled signal.  These are due to the removal of high frequency components in the signal."
   ]
  },
  {
   "cell_type": "code",
   "execution_count": null,
   "metadata": {},
   "outputs": [],
   "source": [
    "start_t = 1\n",
    "end_t = 1.002\n",
    "\n",
    "plt.figure(figsize = (16, 8))\n",
    "plt.rcParams.update({'font.size': 16})\n",
    "\n",
    "# Plot original samples \n",
    "t1_whole = np.arange(0, (len(audiodata))) / sampling_rate\n",
    "index1 = np.nonzero((t1_whole >= start_t) & (t1_whole <= end_t))\n",
    "t1 = t1_whole[index1]\n",
    "stem1 = audiodata[index1]\n",
    "\n",
    "(markerLines, stemLines, baseLines) = plt.stem(t1, stem1,\n",
    "                                               label = 'Original samples',\n",
    "                                               use_line_collection = True)\n",
    "plt.setp(baseLines, color = 'black', linewidth=1)  \n",
    "markerLines.set_markerfacecolor('none')\n",
    "\n",
    "# Plot decimated samples\n",
    "t2_whole = ((np.arange(0, (len(decimated))) - (len(h)-1)/(2*decimation_factor)) * \n",
    "      decimation_factor / sampling_rate)\n",
    "index2 = np.nonzero((t2_whole >= start_t) & (t2_whole <= end_t))\n",
    "t2 = t2_whole[index2]\n",
    "stem2 = decimated[index2]\n",
    "\n",
    "(markerLines, stemLines, baseLines) = plt.stem(t2, stem2,\n",
    "                                               label = 'Decimated samples',\n",
    "                                               use_line_collection = True)\n",
    "plt.setp(baseLines, color = 'black', linewidth=1) \n",
    "plt.setp(stemLines, color = 'black', linewidth=2) \n",
    "plt.setp(markerLines, color = 'black', linewidth=2) \n",
    "markerLines.set_markerfacecolor('none')\n",
    "\n",
    "# Plot Interpolated samples\n",
    "t3_whole = (np.arange(0, (len(interpolated)))-len(h)+1) / sampling_rate\n",
    "index3 = np.nonzero((t3_whole >= start_t) & (t3_whole <= end_t))\n",
    "t3 = t3_whole[index3]\n",
    "stem3 = interpolated[index3]\n",
    "\n",
    "(markerLines, stemLines, baseLines) = plt.stem(t3, stem3,\n",
    "                                               label = 'Interpolated samples',\n",
    "                                               use_line_collection = True)\n",
    "plt.setp(baseLines, color = 'black', linewidth=1) \n",
    "plt.setp(stemLines, color = 'orange', linewidth=1) \n",
    "plt.setp(markerLines, color = 'orange', linewidth=1) \n",
    "markerLines.set_markerfacecolor('none')\n",
    "\n",
    "plt.xlim([start_t,end_t])\n",
    "plt.xlabel('Time (s)', fontsize = 16)\n",
    "plt.ylabel('Amplitude', fontsize = 16)\n",
    "plt.title('Time domain', fontsize = 16)\n",
    "plt.legend(prop={'size': 15});"
   ]
  },
  {
   "cell_type": "markdown",
   "metadata": {},
   "source": [
    "© The University of Edinburgh: Produced by D. Laurenson, School of Engineering. Initial code conversion by Xing Zixiao."
   ]
  }
 ],
 "metadata": {
  "kernelspec": {
   "display_name": "Python 3",
   "language": "python",
   "name": "python3"
  },
  "language_info": {
   "codemirror_mode": {
    "name": "ipython",
    "version": 3
   },
   "file_extension": ".py",
   "mimetype": "text/x-python",
   "name": "python",
   "nbconvert_exporter": "python",
   "pygments_lexer": "ipython3",
   "version": "3.7.3"
  }
 },
 "nbformat": 4,
 "nbformat_minor": 2
}
