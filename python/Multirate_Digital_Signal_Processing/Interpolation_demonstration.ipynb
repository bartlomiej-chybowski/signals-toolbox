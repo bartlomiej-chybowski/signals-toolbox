{
 "cells": [
  {
   "cell_type": "markdown",
   "metadata": {},
   "source": [
    "# Interpolation demonstration\n",
    "Demonstrates the process of interpolation from both time and frequency domains."
   ]
  },
  {
   "cell_type": "markdown",
   "metadata": {},
   "source": [
    "### Preamble\n",
    "Start by importing the Python libraries that we will require"
   ]
  },
  {
   "cell_type": "code",
   "execution_count": null,
   "metadata": {},
   "outputs": [],
   "source": [
    "import numpy as np\n",
    "from matplotlib.ticker import FuncFormatter\n",
    "from IPython import display\n",
    "import pylab as pl"
   ]
  },
  {
   "cell_type": "markdown",
   "metadata": {},
   "source": [
    "### Define the signal\n",
    "This is defined in the frequency domain as a rectangular pulse centred on zero frequency (d.c.).  Due to the cyclic nature of the FFT implementation, the pulse appears at the start and the end of the frequency record."
   ]
  },
  {
   "cell_type": "code",
   "execution_count": null,
   "metadata": {},
   "outputs": [],
   "source": [
    "Xw = np.zeros(65536)\n",
    "Freq = np.zeros(65536)\n",
    "Xw[0:8] = np.ones(8)\n",
    "Xw[65529:65536] = np.ones(7)"
   ]
  },
  {
   "cell_type": "markdown",
   "metadata": {},
   "source": [
    "### Generate the corresponding samples in the time domain\n",
    "This is simply achieved with an inverse discrete Fourier transform."
   ]
  },
  {
   "cell_type": "code",
   "execution_count": null,
   "metadata": {},
   "outputs": [],
   "source": [
    "Wt = np.fft.ifft(Xw)"
   ]
  },
  {
   "cell_type": "markdown",
   "metadata": {},
   "source": [
    "### Plotting Functions\n",
    "The time domain plot requires fixed y-axis labels to ensure that the size doesn't change when stepping through the animation."
   ]
  },
  {
   "cell_type": "code",
   "execution_count": null,
   "metadata": {},
   "outputs": [],
   "source": [
    "def plot_timeDomain(Wt, num_ticks):\n",
    "    \"\"\"\n",
    "       Plot the time domain.\n",
    "       \n",
    "       INPUT:\n",
    "           Wt  (array-like): Its real part is the vertical coordinates of the data points. \n",
    "           num_ticks  (int): Number of tick marks to show.\n",
    "    \"\"\"\n",
    "    # subpplot\n",
    "    ax1 = pl.subplot(2,1,1)\n",
    "    pl.plot(Wt.real)\n",
    "   \n",
    "    # Set axis limits \n",
    "    pl.axis([0, 8192, -Wt[0].real*0.5, Wt[0].real*1.05])\n",
    "    \n",
    "    # Set y axis format \n",
    "    # Lambda function to define ylabel format\n",
    "    # FuncFormatter function to define function to set the label\n",
    "    formatter = FuncFormatter(lambda x, pos:\"%.4f\"%x)\n",
    "    # and apply this to the label\n",
    "    ax1.yaxis.set_major_formatter(formatter)\n",
    "    \n",
    "    # Set the current tick locations and labels of the x-axis. \n",
    "    pl.xticks(np.linspace(0, 8192, num_ticks), np.arange(0, num_ticks))\n",
    "    \n",
    "    pl.title('Time domain')"
   ]
  },
  {
   "cell_type": "code",
   "execution_count": null,
   "metadata": {},
   "outputs": [],
   "source": [
    "def plot_freqDomain(Freq, tickLabel):\n",
    "    \"\"\"\n",
    "       Plot the frequency domain.\n",
    "       \n",
    "       INPUT:\n",
    "           Freq      (array-like): The vertical coordinates of the data points. \n",
    "           tickLabel (array-like): The tick label of x axis.\n",
    "    \"\"\"\n",
    "    ax2 = pl.subplot(2,1,2)\n",
    "    pl.plot(Freq)\n",
    "    \n",
    "    pl.axis([31500, 34036, 0, 1.2])\n",
    "    pl.xticks(np.linspace(31745, 33793, 9), tickLabel)\n",
    "              \n",
    "    pl.title('Frequency domain')"
   ]
  },
  {
   "cell_type": "markdown",
   "metadata": {},
   "source": [
    "### Demonstrate the effect of sampling and interpolation\n",
    "First, the duality between sampling in the time domain and periodicity in the frequency domain is demonstrated.  This is done by successively adding periodic terms in the frequency domain, until the frequency domain is fully periodic.  At that point the time domain becomes sampled.\n",
    "\n",
    "In the next step, the time domain is upsampled with the addition of zero values between each sample.  In the frequency domain this changes the location of the sampling frequency, $f_s$.\n",
    "\n",
    "Now that the sampling frequency is higher than the first periodic repetition, then the periodic repetition at the frequency of $f_s/2$ can be removed.  In the animation it is progressively scaled down until it is zero.  The effect of this in the time domain can be seen as it modifies the intermediate samples until they attain values that \"smooth\" the final resulting sampled sequence.\n",
    "\n",
    "In the figure, the time domain is in the upper plot, and the frequency domain is in the lower plot."
   ]
  },
  {
   "cell_type": "markdown",
   "metadata": {},
   "source": [
    "Enlarge the figure size and label font size"
   ]
  },
  {
   "cell_type": "code",
   "execution_count": null,
   "metadata": {},
   "outputs": [],
   "source": [
    "pl.rcParams[\"figure.figsize\"] = [16,8]\n",
    "pl.rcParams.update({'font.size': 13})"
   ]
  },
  {
   "cell_type": "code",
   "execution_count": null,
   "metadata": {},
   "outputs": [],
   "source": [
    "#### time interval is 512 \n",
    "# showing the time domain in the upper plot\n",
    "plot_timeDomain(Wt = Wt, num_ticks = 17)\n",
    "\n",
    "# And plot it \n",
    "x_ticklabel = ['-8fs', '-6fs', '-4fs', '-2fs', '0', '2fs', '4fs', '6fs', '8fs']\n",
    "plot_freqDomain(np.roll(Xw, 32768), x_ticklabel)\n",
    "\n",
    "# Adjusts params so that the subplots fit in to the figure area. \n",
    "# pl.tight_layout()\n",
    "pl.show()\n",
    "\n",
    "# Wait for user input before moving on to the next stage \n",
    "input('Paused.  Press enter key to continue...')\n",
    "\n",
    "# In the next loop, successively add periodic repetitions of the pulse,\n",
    "# performing the same computations\n",
    "for i in np.arange(128, 32768, 128):\n",
    "    Xw[i-7:i+8] = np.ones(15)\n",
    "    Xw[65529-i:65544-i] = np.ones(15)\n",
    "    if (i<2048) | (i % 2048 == 1920):\n",
    "        Wt = np.fft.ifft(Xw)\n",
    "        plot_timeDomain(Wt = Wt, num_ticks = 17)\n",
    "    \n",
    "        #Freq[0:32768] = Xw[32768:65536]\n",
    "        #Freq[32768:65536] = Xw[0:32768]\n",
    "        plot_freqDomain(np.roll(Xw, 32768), x_ticklabel)\n",
    "    \n",
    "        # For the first few, wait for user input - useful in a lecture.\n",
    "        # For the remainder, just pause for a very short time\n",
    "        display.clear_output(wait=True)\n",
    "    \n",
    "        pl.show()\n",
    "        if (i<512):\n",
    "            input('Paused.  Press enter key to continue...')        \n",
    "        \n",
    "#### time interval is 256       \n",
    "# Again, wait for a keystroke from the user\n",
    "input('Paused.  Press enter key to continue...')\n",
    "display.clear_output(wait=True)\n",
    "\n",
    "# Show a rescaled x-axis indicating insertion of zero samples\n",
    "plot_timeDomain(Wt = Wt, num_ticks = 33)\n",
    "\n",
    "XTickLabel =['-4fs', '-3fs', '-2fs', '-fs', '0', 'fs', '2fs', '3fs', '4fs']\n",
    "plot_freqDomain(np.roll(Xw, 32768), XTickLabel)\n",
    "\n",
    "pl.show()\n",
    "\n",
    "input('Paused.  Press enter key to continue...')\n",
    "\n",
    "# Define the mask we will use for attenuating alternate repetitions \n",
    "# of the frequency domain\n",
    "Mask = np.zeros(65536)\n",
    "for i in np.arange(128, 32768, 256):\n",
    "    Mask[i-7:i+8] = np.ones(15)\n",
    "    Mask[65529-i:65544-i] = np.ones(15)\n",
    "\n",
    "# Successively attenuate every other periodic repetition in frequency,\n",
    "# using the mask defined, and recompute the time domain samples\n",
    "for i in range(25):\n",
    "    Xw = Xw - 0.04*Mask\n",
    "    Wt = np.fft.ifft(Xw)\n",
    "    plot_timeDomain(Wt = Wt, num_ticks = 33)\n",
    "    \n",
    "    plot_freqDomain(np.roll(Xw, 32768), XTickLabel)\n",
    "\n",
    "    display.clear_output(wait=True)\n",
    "    pl.show()"
   ]
  },
  {
   "cell_type": "markdown",
   "metadata": {},
   "source": [
    "© The University of Edinburgh: Produced by D. Laurenson, School of Engineering. Initial code conversion by Xing Zixiao."
   ]
  }
 ],
 "metadata": {
  "kernelspec": {
   "display_name": "Python 3",
   "language": "python",
   "name": "python3"
  },
  "language_info": {
   "codemirror_mode": {
    "name": "ipython",
    "version": 3
   },
   "file_extension": ".py",
   "mimetype": "text/x-python",
   "name": "python",
   "nbconvert_exporter": "python",
   "pygments_lexer": "ipython3",
   "version": "3.7.6"
  }
 },
 "nbformat": 4,
 "nbformat_minor": 2
}
