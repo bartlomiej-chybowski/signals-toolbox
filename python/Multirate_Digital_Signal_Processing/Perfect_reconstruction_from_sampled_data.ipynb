{
 "cells": [
  {
   "cell_type": "markdown",
   "metadata": {},
   "source": [
    "# Signal reconstruction from sampled data\n",
    "This notebook illustrates the process of reconstructing a signal at points other than the sampling points.  The reconstructed signal is band-limited to half of the sampling frequency.  The recnstruction is based on an ideal brick-wall low pass filter."
   ]
  },
  {
   "cell_type": "markdown",
   "metadata": {},
   "source": [
    "### Preamble\n",
    "Start by importing the Python libraries that we will require"
   ]
  },
  {
   "cell_type": "code",
   "execution_count": null,
   "metadata": {},
   "outputs": [],
   "source": [
    "import numpy as np\n",
    "from IPython import display\n",
    "import pylab as pl"
   ]
  },
  {
   "cell_type": "markdown",
   "metadata": {},
   "source": [
    "And define a function that will return true if running in a Jupyter Notebook"
   ]
  },
  {
   "cell_type": "code",
   "execution_count": null,
   "metadata": {},
   "outputs": [],
   "source": [
    "def is_jupyter():\n",
    "    \"\"\"Return true if running in a Jupyter Notebook\"\"\"\n",
    "    try:\n",
    "        if get_ipython().__class__.__name__ == 'ZMQInteractiveShell':\n",
    "            return True\n",
    "        else:\n",
    "            return False\n",
    "    except: \n",
    "        return False"
   ]
  },
  {
   "cell_type": "markdown",
   "metadata": {},
   "source": [
    "### Plotting function\n",
    "This function conducts all of the plotting used in the interactive and non-interactive modes.  The samples are always plotted.  If <code>sample_points</code> are specified, then the sinc function for this sample point is shown, and the contribution to the reconstructed value from all of the samples are shown.  If <code>final</code> is true, then the full reconstructed signal is plotted."
   ]
  },
  {
   "cell_type": "code",
   "execution_count": null,
   "metadata": {},
   "outputs": [],
   "source": [
    "def plot_for(tr, x, x_rec, sample_points, final = False):\n",
    "    \"\"\"\n",
    "        Display the plot for j samples.\n",
    "        \n",
    "        INPUT:\n",
    "            tr            (array-like): timescale for reconstructed waveform\n",
    "            x             (array-like): random data sequence\n",
    "            x_rec         (array-like): reconstructed signal\n",
    "            sample_points (array_like): sample time points\n",
    "            final               (bool): if it is the final for loop. Default: False.\n",
    "            \n",
    "    \"\"\"\n",
    "\n",
    "    # Set the figure size\n",
    "    pl.rcParams[\"figure.figsize\"] = [10.7, 7.8]\n",
    "    pl.rcParams.update({'font.size': 16})\n",
    "\n",
    "    # Clear any previous figure\n",
    "    pl.clf()\n",
    "\n",
    "    # Plot the input samples\n",
    "    ax = pl.gca()\n",
    "    (markerLines, stemLines, baseLines) = ax.stem(np.arange(1, len(x)+1)-1, x,\n",
    "                                                  label = 'Original samples',\n",
    "                                                  markerfmt = 'bo',\n",
    "                                                  bottom = 0,\n",
    "                                                  use_line_collection = True)\n",
    "    pl.setp(stemLines, color = 'blue', linewidth=1) \n",
    "    pl.setp(baseLines, color = 'black', linewidth=1) \n",
    "    markerLines.set_markerfacecolor('none')\n",
    "    \n",
    "    # Label the axes\n",
    "    ax.set_ylim(bottom = 0)\n",
    "    ax.set_xlim([0, len(x)-1])\n",
    "    ax.set_xlabel('Time (samples)')\n",
    "    ax.set_ylabel('Amplitude')\n",
    "    ax.set_title('Signal reconstruction')\n",
    "    \n",
    "    # Loop through each of the sample points to be considered\n",
    "    for i in range(0,len(sample_points)):\n",
    "        time_point = sample_points[i]\n",
    "        \n",
    "        # Generate the corresponding time scale for the sinc function impulse\n",
    "        # response of the reconstruction filter\n",
    "        trs = (np.arange(1, len(sinc_function)+1)/zero_crossing_spacing - \n",
    "              2*(number_of_cycles) + (time_point))\n",
    "        \n",
    "        # Plot the impulse response shifted to the considered time-point\n",
    "        ax.plot(trs, sinc_function,\n",
    "                color = sample_colours[i],\n",
    "                label = r'$g(%.1f-\\tau)$' %time_point)\n",
    "        \n",
    "        # Maintain the axis limits to within the sequence only\n",
    "        pl.xlim([0, len(x)-1])\n",
    "        pl.ylim(min(min(sinc_function), min(x_rec)),\n",
    "                max(max(sinc_function), max(x_rec)))\n",
    "\n",
    "        # Allocate space for the plot of x(nT)g(t-nT), the contribution of each\n",
    "        # sample to this particular time-point\n",
    "        stem_data = np.zeros(x.size)\n",
    "        for stem_point in range(0, len(x)):\n",
    "            # Get the index corresponding to t-nT\n",
    "            for j in range(0, len(trs)):\n",
    "                if trs[j] > (stem_point):\n",
    "                    stem_index = j\n",
    "                    break\n",
    "            # stem_index = find(trs>(stem_point-1),1)\n",
    "            # and scale the data value, x(nT), by g(t-nT)\n",
    "            stem_data[stem_point] = x[stem_point]*sinc_function[stem_index]\n",
    "\n",
    "        # Plot the contribution of each sample to the considered point in time\n",
    "        (markerLines, stemLines, baseLines) = ax.stem(np.arange(0, len(x)), stem_data, use_line_collection = True)\n",
    "        pl.setp(stemLines, color = sample_colours[i], linewidth=1) \n",
    "        pl.setp(baseLines, color = 'black', linewidth=1) \n",
    "        markerLines.set_markerfacecolor('none')\n",
    "        markerLines.set_markeredgecolor(sample_colours[i])\n",
    "        \n",
    "        # Reconstruct the value for the given point in time        \n",
    "        resampled_value = np.sum(stem_data)\n",
    "        \n",
    "        # and display it\n",
    "        ax.scatter(time_point, resampled_value, \n",
    "                   c = sample_colours[i], \n",
    "                   s = 60,\n",
    "                   marker = '*',\n",
    "                   label = 'Reconstruction at %.1f' % time_point)\n",
    "        \n",
    "        \n",
    "    # Generate the legend, including all of the time points being considered\n",
    "    pl.legend(bbox_to_anchor=(1.01, 1), loc=2, borderaxespad=0., prop={'size': 16}) \n",
    "    \n",
    "    ### If flagged in the parameters, on the last time, plot the reconstruction over the whole time period\n",
    "    if (final == True):\n",
    "        ax.plot(tr, x_rec,\n",
    "                label = 'Full Reconstruction',\n",
    "                color = 'b')\n",
    "        \n",
    "        ax.set_xlim([0, len(x)-1])\n",
    "        pl.legend(bbox_to_anchor=(1.01, 1), loc=2, borderaxespad=0., prop={'size': 16}) \n",
    "        if not is_jupyter(): \n",
    "            pl.tight_layout()\n",
    "            pl.savefig()\n",
    "             \n",
    "    pl.show()"
   ]
  },
  {
   "cell_type": "markdown",
   "metadata": {},
   "source": [
    "### User specified parameters\n",
    "The following parameters can be specified to sinc function.\n",
    "\n",
    "Parameter | Meaning\n",
    "--------- | -------\n",
    "<code>zero_crossing_spacing</code>|(e.g. 250)\n",
    "<code>sequence_length</code> | The length of data sequence(e.g. 9)\n",
    "<code>samples_to_show</code> |Time points for different samples.e.g.  [2, 3.6]）\n",
    "<code>sample_colours</code> | The colors of different samples(e.g. green, red)\n",
    "<code>interactive</code> | True for interactive lecture use"
   ]
  },
  {
   "cell_type": "code",
   "execution_count": null,
   "metadata": {},
   "outputs": [],
   "source": [
    "zero_crossing_spacing = 250\n",
    "sequence_length = 9\n",
    "samples_to_show = [2, 3.6]\n",
    "sample_colours = ['green', 'red']\n",
    "interactive = True"
   ]
  },
  {
   "cell_type": "markdown",
   "metadata": {},
   "source": [
    "### Compute sinc function\n",
    "The sinc function is the impulse response that corresponds to an ideal brick-wall filter."
   ]
  },
  {
   "cell_type": "code",
   "execution_count": null,
   "metadata": {},
   "outputs": [],
   "source": [
    "number_of_cycles = sequence_length - 1\n",
    "\n",
    "t = (np.arange(0, 4*number_of_cycles*zero_crossing_spacing+1) / (2*zero_crossing_spacing)\n",
    "     - number_of_cycles)\n",
    "\n",
    "# ignore floating points error for division by zero.\n",
    "old_settings=np.seterr(divide='ignore', invalid='ignore')\n",
    "\n",
    "sinc_function = np.divide(np.sin(2*np.pi*t), (2*np.pi*t))\n",
    "\n",
    "# And re-enable the warnings\n",
    "np.seterr(**old_settings);"
   ]
  },
  {
   "cell_type": "markdown",
   "metadata": {},
   "source": [
    "The value of sinc(0) will be invalid because of the division by 0 - change to 1"
   ]
  },
  {
   "cell_type": "code",
   "execution_count": null,
   "metadata": {},
   "outputs": [],
   "source": [
    "sinc_function[int((len(t)+1)/2 - 1)] = 1"
   ]
  },
  {
   "cell_type": "markdown",
   "metadata": {},
   "source": [
    "### Generate a data sequence"
   ]
  },
  {
   "cell_type": "code",
   "execution_count": null,
   "metadata": {},
   "outputs": [],
   "source": [
    "x = np.random.rand(sequence_length)"
   ]
  },
  {
   "cell_type": "markdown",
   "metadata": {},
   "source": [
    "### Compute a high resolution reconstruction\n",
    "This is constructed from the samples by convolving them with the sinc impulse response and summing the result."
   ]
  },
  {
   "cell_type": "code",
   "execution_count": null,
   "metadata": {},
   "outputs": [],
   "source": [
    "x_rec = np.zeros(len(x)*zero_crossing_spacing + len(sinc_function))"
   ]
  },
  {
   "cell_type": "markdown",
   "metadata": {},
   "source": [
    "For each sample in x, add its contribution to the reconstructed waveform"
   ]
  },
  {
   "cell_type": "code",
   "execution_count": null,
   "metadata": {},
   "outputs": [],
   "source": [
    "for i in range(1, len(x)+1):\n",
    "    (x_rec[(i-1)*zero_crossing_spacing +\n",
    "    np.arange(1, len(sinc_function)+1) - 1]) = (x_rec[(i-1)*zero_crossing_spacing + \n",
    "                                                np.arange(1, len(sinc_function)+1) - 1] + \n",
    "                                                x[i-1] * sinc_function)"
   ]
  },
  {
   "cell_type": "markdown",
   "metadata": {},
   "source": [
    "### Construct a timescale for the reconstruction\n",
    "This is helpful for plotting the results."
   ]
  },
  {
   "cell_type": "code",
   "execution_count": null,
   "metadata": {},
   "outputs": [],
   "source": [
    "tr = np.arange(1, len(x_rec)+1)/zero_crossing_spacing - 2*number_of_cycles"
   ]
  },
  {
   "cell_type": "markdown",
   "metadata": {},
   "source": [
    "### Display samples"
   ]
  },
  {
   "cell_type": "code",
   "execution_count": null,
   "metadata": {},
   "outputs": [],
   "source": [
    "# For interactive sessions, build up the graph element by element\n",
    "if interactive:\n",
    "    # The first time around the following loop, no time points are selected,\n",
    "    # so only the samples are displayed.\n",
    "    # For each subsequent time around, another time-point is included\n",
    "\n",
    "    for i in range(-1, len(samples_to_show)):\n",
    "        ax = plot_for(tr = tr, x = x, x_rec = x_rec, sample_points = samples_to_show[0:i+1])\n",
    "        \n",
    "        # Wait for user input\n",
    "        input(\"Paused.  Press enter key to continue...\")\n",
    "        display.clear_output(wait=True)\n",
    "\n",
    "# Finally, plot the reconstructed signal\n",
    "plot_for(tr = tr, x = x, x_rec = x_rec, sample_points = samples_to_show, final = True)"
   ]
  },
  {
   "cell_type": "markdown",
   "metadata": {},
   "source": [
    "© The University of Edinburgh: Produced by D. Laurenson, School of Engineering. Initial code conversion by Xing Zixiao."
   ]
  }
 ],
 "metadata": {
  "kernelspec": {
   "display_name": "Python 3",
   "language": "python",
   "name": "python3"
  },
  "language_info": {
   "codemirror_mode": {
    "name": "ipython",
    "version": 3
   },
   "file_extension": ".py",
   "mimetype": "text/x-python",
   "name": "python",
   "nbconvert_exporter": "python",
   "pygments_lexer": "ipython3",
   "version": "3.7.6"
  }
 },
 "nbformat": 4,
 "nbformat_minor": 2
}
