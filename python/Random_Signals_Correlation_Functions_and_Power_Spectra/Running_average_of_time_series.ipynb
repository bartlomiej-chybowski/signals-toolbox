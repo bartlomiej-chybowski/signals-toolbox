{
 "cells": [
  {
   "cell_type": "markdown",
   "metadata": {},
   "source": [
    "# Running average of time series\n",
    "When dealing with real data, we often form an estimate of a moment (e.g. mean) using a single time series.  This demonstration explores the effect that the autocorrelation of the time series has on the quality of this estimate."
   ]
  },
  {
   "cell_type": "markdown",
   "metadata": {},
   "source": [
    "### Preamble\n",
    "Start by importing the Python libraries that we will require"
   ]
  },
  {
   "cell_type": "code",
   "execution_count": null,
   "metadata": {},
   "outputs": [],
   "source": [
    "import numpy as np\n",
    "import matplotlib.pyplot as plt\n",
    "from scipy.signal import lfilter"
   ]
  },
  {
   "cell_type": "markdown",
   "metadata": {},
   "source": [
    "And define a function that will return true if running in a Jupyter Notebook"
   ]
  },
  {
   "cell_type": "code",
   "execution_count": null,
   "metadata": {},
   "outputs": [],
   "source": [
    "def is_jupyter():\n",
    "    \"\"\"Return true if running in a Jupyter Notebook\"\"\"\n",
    "    try:\n",
    "        if get_ipython().__class__.__name__ == 'ZMQInteractiveShell':\n",
    "            return True\n",
    "        else:\n",
    "            return False\n",
    "    except: \n",
    "        return False"
   ]
  },
  {
   "cell_type": "markdown",
   "metadata": {},
   "source": [
    "### User specified parameters\n",
    "\n",
    "Set up the first filter for a rapidly varying noise signal\n",
    "\n",
    "Parameter | Meaning\n",
    "--------- | -------\n",
    "<code>L</code> | The number of noise samples to generate (should be large) (e.g. 10000)\n",
    "<code>P</code> | The number of sample points to show (should be much smaller than <code>L</code>) (e.g. 200)\n",
    "<code>M</code> | The number of maximum ACF delay to evaluate (e.g. 40)"
   ]
  },
  {
   "cell_type": "code",
   "execution_count": null,
   "metadata": {},
   "outputs": [],
   "source": [
    "L = 10000\n",
    "P = 200\n",
    "M = 40"
   ]
  },
  {
   "cell_type": "markdown",
   "metadata": {},
   "source": [
    "### Plotting functions\n",
    "For convenience, we define a function for plotting the time series"
   ]
  },
  {
   "cell_type": "code",
   "execution_count": null,
   "metadata": {},
   "outputs": [],
   "source": [
    "def plot_fig(points, average, xlabel, ylabel, title, legend, name):\n",
    "    \"\"\"\n",
    "       Funtion to plot the amplitude of time series data and estimated mean data.\n",
    "       \n",
    "       INPUT:\n",
    "           points  (array-like): The vertical coordinates of data points of time series. \n",
    "           average (array-like): The vertical coordinates of data points of estimated mean. \n",
    "           xlabel      (string): The label for x-axis.\n",
    "           ylabel      (string): The label for y-axis.\n",
    "           title       (string): The title for the figure.\n",
    "           name        (string): The name used to save figure.\n",
    "           legend ([legend0, legend1]): The legends for points and average lines.\n",
    "           \n",
    "    \"\"\"\n",
    "    \n",
    "    # Create the plot figure\n",
    "    plt.figure(figsize = (16, 8))\n",
    "    # Update label font size\n",
    "    plt.rcParams.update({'font.size': 16})\n",
    "    \n",
    "    # Plot the amplitude\n",
    "    ax = plt.gca()\n",
    "    ax.plot(np.arange(0, len(points)), points, 'b', \n",
    "            marker = 'o', markersize = 3, \n",
    "            linestyle = 'dotted', linewidth = 1,\n",
    "            label = legend[0])\n",
    "    ax.plot(np.arange(0, len(points)), average, 'r', \n",
    "            marker = 'x', markersize = 3,\n",
    "            linewidth = 1,\n",
    "            label = legend[1])\n",
    "    \n",
    "    # Tidy up the plot and add axes labels\n",
    "    plt.xlim([0,len(points)-1])\n",
    "    plt.xlabel(xlabel, fontsize = 20)\n",
    "    plt.ylabel(ylabel, fontsize = 20)\n",
    "    plt.legend(prop={'size': 20})\n",
    "    plt.title(title, fontsize = 20)\n",
    "    \n",
    "    # Save figure in python or ipython system\n",
    "    if not is_jupyter(): plt.savefig(name)"
   ]
  },
  {
   "cell_type": "markdown",
   "metadata": {},
   "source": [
    "and one for the autocorrelation."
   ]
  },
  {
   "cell_type": "code",
   "execution_count": null,
   "metadata": {},
   "outputs": [],
   "source": [
    "def stem_fig(X, Y, xlabel, ylabel, title, name):\n",
    "    \"\"\"\n",
    "       Funtion to create stem plot\n",
    "       \n",
    "       INPUT:\n",
    "           X  (array-like): The x-positions of the stems. \n",
    "           Y  (array-like): The y-values of the stem heads.\n",
    "           xlabel (string): The label for x-axis.\n",
    "           ylabel (string): The label for y-axis.\n",
    "           title  (string): The title for the figure.\n",
    "           name   (string): The name used to save figure.\n",
    "           \n",
    "    \"\"\"\n",
    "    \n",
    "    # Create the plot figure\n",
    "    plt.figure(figsize = (16, 8))\n",
    "    plt.rcParams.update({'font.size': 16})\n",
    "    \n",
    "    # Stem plot and its circle marker\n",
    "    (markerLines, stemLines, baseLines) = plt.stem(X, Y, use_line_collection=True)\n",
    "    plt.setp(stemLines, linewidth=1)\n",
    "    plt.setp(baseLines, color = 'black', linewidth=1)\n",
    "    markerLines.set_markersize(4)\n",
    "    markerLines.set_markerfacecolor('none')\n",
    "    \n",
    "    # Tidy up the plot and add axes labels\n",
    "    plt.xlim([X[0],X[-1]])\n",
    "    plt.xlabel(xlabel, fontsize = 20)\n",
    "    plt.ylabel(ylabel, fontsize = 20)\n",
    "    plt.title(title, fontsize = 20)\n",
    "    \n",
    "    # Save figure in python or ipython system\n",
    "    if not is_jupyter(): plt.savefig(name)"
   ]
  },
  {
   "cell_type": "markdown",
   "metadata": {},
   "source": [
    "### Generate noise signal\n",
    "This function generates the noisy time series that we are going to perform our estimation on.  The value of <code>L</code> needs to be significantly larger than the number of points we are interested in, as this type of filter (an IIR) can have a long transient response."
   ]
  },
  {
   "cell_type": "code",
   "execution_count": null,
   "metadata": {},
   "outputs": [],
   "source": [
    "def noise_signal(alpha, L):\n",
    "    # Define IIR filter taps\n",
    "    b = [1-alpha]\n",
    "    a = [1, -alpha]\n",
    "    \n",
    "    # Generate a white noise input sequence with a DC offset\n",
    "    x = np.random.randn(L) + 0.5\n",
    "    \n",
    "    # Use this to generate a time varying signal and return it\n",
    "    return(lfilter(b, a, x))"
   ]
  },
  {
   "cell_type": "markdown",
   "metadata": {},
   "source": [
    "### $\\alpha = 0.15$\n",
    "We will explore two different filter settings in this script.  The first setting, with a small $\\alpha$, produces noise with low correlation between samples"
   ]
  },
  {
   "cell_type": "code",
   "execution_count": null,
   "metadata": {},
   "outputs": [],
   "source": [
    "alpha = 0.15\n",
    "\n",
    "y = noise_signal(alpha, L)\n",
    "\n",
    "# Select the last P points in the output\n",
    "points = y[-P:]\n",
    "\n",
    "# Create space for running average\n",
    "average = np.zeros(P)\n",
    "\n",
    "# Compute the running average\n",
    "for n in range(P):\n",
    "    average[n] = np.sum(points[:n+1])/(n+1)"
   ]
  },
  {
   "cell_type": "markdown",
   "metadata": {},
   "source": [
    "### Time series\n",
    "Here we plot the time series of the noisy signal, and plot the average that we would estimate if we were to use all of the data in the plot up to that point.  (So, for example, the red point at sample 20 uses all of the signal from sample 0 up to sample 20 to form the estimate of the mean).  It can be seen that the average quickly settles down, and is close to the true mean of 0."
   ]
  },
  {
   "cell_type": "code",
   "execution_count": null,
   "metadata": {},
   "outputs": [],
   "source": [
    "xlabel = 'Sample'\n",
    "ylabel = 'Amplitude'\n",
    "title = 'Time estimation of an average'\n",
    "legend = ['Time series','Estimate of mean']\n",
    "name = 'Time_average_low_alpha.pdf'\n",
    "\n",
    "plot_fig(points, average, xlabel, ylabel, title, legend, name)"
   ]
  },
  {
   "cell_type": "markdown",
   "metadata": {},
   "source": [
    "### Autocorrelation\n",
    "From the autocorrelation it can be seen that adjacent samples of the time series are only weakly correlated, and beyond that point the correlation is even lower.  So, although the samples are not independent, the correlation is small enough that a good estimate of the mean can be quickly formed."
   ]
  },
  {
   "cell_type": "code",
   "execution_count": null,
   "metadata": {},
   "outputs": [],
   "source": [
    "acf_xaxis = np.arange(-M, M+1)\n",
    "acf = (1-alpha) * np.power(alpha, (abs(acf_xaxis))) / (1+alpha)\n",
    "\n",
    "xlabel = 'Delay'\n",
    "ylabel = 'Autocovariance'\n",
    "title = 'Autocovariance of time series'\n",
    "name = 'Autocovariance_low_alpha.pdf'\n",
    "\n",
    "stem_fig(acf_xaxis, acf, xlabel, ylabel, title, name)"
   ]
  },
  {
   "cell_type": "markdown",
   "metadata": {},
   "source": [
    "### Repeat the process for $\\alpha=0.95$\n",
    "We will repeat this process for a filter that produces signals that exhibit strong correlation between adjacent samples."
   ]
  },
  {
   "cell_type": "code",
   "execution_count": null,
   "metadata": {},
   "outputs": [],
   "source": [
    "alpha = 0.95\n",
    "\n",
    "y = noise_signal(alpha, L)\n",
    "\n",
    "# Select the last P points in the output\n",
    "points = y[-P:]\n",
    "\n",
    "# Create space for running average\n",
    "average = np.zeros(P)\n",
    "\n",
    "# Compute the running average\n",
    "for n in range(P):\n",
    "    average[n] = np.sum(points[:n+1])/(n+1)"
   ]
  },
  {
   "cell_type": "markdown",
   "metadata": {},
   "source": [
    "### Time series\n",
    "Here we can see that the signal varies much more slowly than the previous example.  It can also be seen that the average does not necessarily converge to the true mean.  (As new random signals are produced each time, you may need to re-run the cell above, and the following cells to see this effect)."
   ]
  },
  {
   "cell_type": "code",
   "execution_count": null,
   "metadata": {},
   "outputs": [],
   "source": [
    "xlabel = 'Sample'\n",
    "ylabel = 'Amplitude'\n",
    "title = 'Time estimation of an average'\n",
    "legend = ['Time series','Estimate of mean']\n",
    "name = 'Time_average_high_alpha.pdf'\n",
    "\n",
    "plot_fig(points, average, xlabel, ylabel, title, legend, name)"
   ]
  },
  {
   "cell_type": "markdown",
   "metadata": {},
   "source": [
    "### Autocorrelation\n",
    "The autocorrelation plot shows that adjacent samples are very strongly correlated.  This means that a much longer time series would be required in order to be able to get a good estimate of the mean."
   ]
  },
  {
   "cell_type": "code",
   "execution_count": null,
   "metadata": {},
   "outputs": [],
   "source": [
    "acf_xaxis = np.arange(-M, M+1)\n",
    "acf = (1-alpha) * np.power(alpha, (np.abs(acf_xaxis))) / (1+alpha)\n",
    "\n",
    "xlabel = 'Delay'\n",
    "ylabel = 'Autocovariance'\n",
    "title = 'Autocovariance of time series'\n",
    "name = 'Autocovariance_high_alpha.pdf'\n",
    "\n",
    "stem_fig(acf_xaxis, acf, xlabel, ylabel, title, name)"
   ]
  },
  {
   "cell_type": "markdown",
   "metadata": {},
   "source": [
    "© The University of Edinburgh: Produced by D. Laurenson, School of Engineering. Initial code conversion by Xing Zixiao."
   ]
  }
 ],
 "metadata": {
  "kernelspec": {
   "display_name": "Python 3",
   "language": "python",
   "name": "python3"
  },
  "language_info": {
   "codemirror_mode": {
    "name": "ipython",
    "version": 3
   },
   "file_extension": ".py",
   "mimetype": "text/x-python",
   "name": "python",
   "nbconvert_exporter": "python",
   "pygments_lexer": "ipython3",
   "version": "3.7.3"
  }
 },
 "nbformat": 4,
 "nbformat_minor": 2
}
