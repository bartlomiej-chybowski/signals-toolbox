{
 "cells": [
  {
   "cell_type": "markdown",
   "metadata": {},
   "source": [
    "# Joint probability density function example\n",
    "A joint probability density function describes the probabilty distribution of more than one variable.  In this example, two variables are described by a joint Normal distribution.  This script is only used to generate the figure for use in documentation."
   ]
  },
  {
   "cell_type": "markdown",
   "metadata": {},
   "source": [
    "### Preamble\n",
    "Start by importing the Python libraries that we will require"
   ]
  },
  {
   "cell_type": "code",
   "execution_count": null,
   "metadata": {},
   "outputs": [],
   "source": [
    "import numpy as np\n",
    "import numpy.matlib as npm\n",
    "import matplotlib.pyplot as plt\n",
    "from mpl_toolkits.mplot3d import Axes3D"
   ]
  },
  {
   "cell_type": "markdown",
   "metadata": {},
   "source": [
    "And define a function that will return true if running in a Jupyter Notebook"
   ]
  },
  {
   "cell_type": "code",
   "execution_count": null,
   "metadata": {},
   "outputs": [],
   "source": [
    "def is_jupyter():\n",
    "    \"\"\"Return true if running in a Jupyter Notebook\"\"\"\n",
    "    try:\n",
    "        if get_ipython().__class__.__name__ == 'ZMQInteractiveShell':\n",
    "            return True\n",
    "        else:\n",
    "            return False\n",
    "    except: \n",
    "        return False"
   ]
  },
  {
   "cell_type": "markdown",
   "metadata": {},
   "source": [
    "### User specified parameters\n",
    "The following parameters can be specified. \n",
    "\n",
    "Parameter | Meaning\n",
    "--------- | -------\n",
    "<code>sigma</code>| width parameter (e.g. 2)"
   ]
  },
  {
   "cell_type": "code",
   "execution_count": null,
   "metadata": {},
   "outputs": [],
   "source": [
    "sigma = 2"
   ]
  },
  {
   "cell_type": "markdown",
   "metadata": {},
   "source": [
    "### Define random variable limits\n",
    "For the purposes of plotting, generate a grud of values spanning the limits we are interested in."
   ]
  },
  {
   "cell_type": "code",
   "execution_count": null,
   "metadata": {},
   "outputs": [],
   "source": [
    "# Generate evenly spaced values between -5 and 5 inclusive\n",
    "x1= np.linspace(-5, 5, 51)\n",
    "x2= np.linspace(-5, 5, 51)"
   ]
  },
  {
   "cell_type": "markdown",
   "metadata": {},
   "source": [
    "### Create a grid of X,Y values\n",
    "Turn the values into a matrix of x1 and x2 values"
   ]
  },
  {
   "cell_type": "code",
   "execution_count": null,
   "metadata": {},
   "outputs": [],
   "source": [
    "# Use meshgrid function to return coordinate matrices from coordinate vectors\n",
    "[X,Y] = np.meshgrid(x1, x2)"
   ]
  },
  {
   "cell_type": "markdown",
   "metadata": {},
   "source": [
    "### Define the joint probability density function\n",
    "Here the joint probability density function is given by $$f(x)=\\frac{1}{2\\pi\\sigma}\\exp\\left(-\\frac{x_1^2+x_2^2}{2\\sigma^2}\\right)$$"
   ]
  },
  {
   "cell_type": "code",
   "execution_count": null,
   "metadata": {},
   "outputs": [],
   "source": [
    "sum_sqr_matrix = np.power(X,2) + np.power(Y,2);\n",
    "\n",
    "# Calculate the exponential\n",
    "Z = np.exp(-(sum_sqr_matrix)/(2 * sigma**2))/(2*np.pi*sigma)"
   ]
  },
  {
   "cell_type": "markdown",
   "metadata": {},
   "source": [
    "### Plot the figure\n",
    "Generate the 3D plot of the joint distribution."
   ]
  },
  {
   "cell_type": "code",
   "execution_count": null,
   "metadata": {},
   "outputs": [],
   "source": [
    "# Create a figure and update its label font size\n",
    "fig = plt.figure(figsize = (16, 8))\n",
    "plt.rcParams.update({'font.size': 14})\n",
    "\n",
    "# Get the current axes instance\n",
    "ax = fig.gca(projection='3d')\n",
    "\n",
    "# Plot the surface in 3D\n",
    "surf = ax.plot_surface(X, Y, Z, antialiased = False, cmap='viridis')\n",
    "\n",
    "# Set the axis label\n",
    "ax.set_xlabel('$x_1$')\n",
    "ax.set_ylabel('$x_2$')\n",
    "ax.set_zlabel('p($x_1$,$x_2$)')\n",
    "\n",
    "plt.tight_layout()\n",
    "\n",
    "# Save figure in python or ipython system\n",
    "if not is_jupyter(): plt.savefig('joint_normal_pdf.pdf')"
   ]
  },
  {
   "cell_type": "markdown",
   "metadata": {},
   "source": [
    "© The University of Edinburgh: Produced by D. Laurenson, School of Engineering. Initial code conversion by Xing Zixiao."
   ]
  }
 ],
 "metadata": {
  "kernelspec": {
   "display_name": "Python 3",
   "language": "python",
   "name": "python3"
  },
  "language_info": {
   "codemirror_mode": {
    "name": "ipython",
    "version": 3
   },
   "file_extension": ".py",
   "mimetype": "text/x-python",
   "name": "python",
   "nbconvert_exporter": "python",
   "pygments_lexer": "ipython3",
   "version": "3.7.6"
  }
 },
 "nbformat": 4,
 "nbformat_minor": 2
}
